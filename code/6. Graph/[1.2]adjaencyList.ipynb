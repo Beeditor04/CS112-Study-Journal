{
 "cells": [
  {
   "cell_type": "markdown",
   "metadata": {},
   "source": [
    "### Approach 1: Linked list"
   ]
  },
  {
   "cell_type": "code",
   "execution_count": 4,
   "metadata": {},
   "outputs": [
    {
     "name": "stdout",
     "output_type": "stream",
     "text": [
      "Vertex 0: -> 4 -> 3 -> 2 -> 1 \n",
      "\n",
      "Vertex 1: -> 2 -> 0 \n",
      "\n",
      "Vertex 2: -> 1 -> 0 \n",
      "\n",
      "Vertex 3: -> 0 \n",
      "\n",
      "Vertex 4: -> 0 \n",
      "\n"
     ]
    }
   ],
   "source": [
    "class AdjNode:\n",
    "    def __init__(self, value):\n",
    "        self.vertex = value\n",
    "        self.next = None\n",
    "\n",
    "class Graph:\n",
    "    def __init__(self, num):\n",
    "        self.V = num\n",
    "        self.graph = [None] * self.V\n",
    "\n",
    "    # Add edges\n",
    "    def add(self, s, d):\n",
    "        \n",
    "        #add new node from s to d\n",
    "        node = AdjNode(s)\n",
    "        node.next = self.graph[d]\n",
    "        self.graph[d] = node\n",
    "        \n",
    "        #add new node from d to s\n",
    "        node = AdjNode(d)\n",
    "        node.next = self.graph[s]\n",
    "        self.graph[s] = node\n",
    "\n",
    "    def result(self):\n",
    "        for i in range(self.V):\n",
    "            print(\"Vertex \" + str(i) + \":\", end=\"\")\n",
    "            temp = self.graph[i]\n",
    "            while temp:\n",
    "                print(\" -> {}\".format(temp.vertex), end=\"\")\n",
    "                temp = temp.next\n",
    "            print(\" \\n\")\n",
    "\n",
    "\n",
    "if __name__ == \"__main__\":\n",
    "    V = 5\n",
    "\n",
    "    # Create graph and edges\n",
    "    graph = Graph(V)\n",
    "    graph.add(0, 1)\n",
    "    graph.add(0, 2)\n",
    "    graph.add(0, 3)\n",
    "    graph.add(1, 2)\n",
    "    graph.add(4, 0)\n",
    "    graph.result()"
   ]
  },
  {
   "cell_type": "markdown",
   "metadata": {},
   "source": [
    "### Approach 2: dict"
   ]
  },
  {
   "cell_type": "code",
   "execution_count": 18,
   "metadata": {},
   "outputs": [
    {
     "name": "stdout",
     "output_type": "stream",
     "text": [
      "{'A': {'B', 'C'}, 'B': {'C', 'A'}, 'C': {'B', 'A'}}\n"
     ]
    }
   ],
   "source": [
    "class Graph:\n",
    "    def __init__(self):\n",
    "        self.graph = {}\n",
    "    \n",
    "    def add_node(self, node):\n",
    "        if node not in self.graph:\n",
    "            self.graph[node] = set()\n",
    "\n",
    "    def add(self, node1, node2):\n",
    "        if node1 not in self.graph:\n",
    "            self.graph[node1] = set(node2)\n",
    "        if node2 not in self.graph:\n",
    "            self.graph[node2] = set(node1)\n",
    "        if node1 in self.graph and node2 in self.graph:\n",
    "            self.graph[node1].add(node2)\n",
    "            self.graph[node2].add(node1)  # For undirected graph\n",
    "\n",
    "# Example usage\n",
    "g = Graph()\n",
    "g.add_node('A')\n",
    "g.add_node('B')\n",
    "g.add('A', 'B')\n",
    "g.add('B', 'C')\n",
    "g.add('A', 'C')\n",
    "\n",
    "print(g.graph)  # Output: {'A', 'B', 'C'}\n"
   ]
  }
 ],
 "metadata": {
  "kernelspec": {
   "display_name": "base",
   "language": "python",
   "name": "python3"
  },
  "language_info": {
   "codemirror_mode": {
    "name": "ipython",
    "version": 3
   },
   "file_extension": ".py",
   "mimetype": "text/x-python",
   "name": "python",
   "nbconvert_exporter": "python",
   "pygments_lexer": "ipython3",
   "version": "3.11.7"
  }
 },
 "nbformat": 4,
 "nbformat_minor": 2
}

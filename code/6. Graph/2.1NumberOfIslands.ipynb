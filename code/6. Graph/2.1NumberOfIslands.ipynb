{
 "cells": [
  {
   "cell_type": "markdown",
   "metadata": {},
   "source": [
    "Link: https://leetcode.com/problems/number-of-islands/ \n",
    "\n",
    "We've already done in `Stack - Queue` folder, but we gonna do it again from stratch bc BFS and DFS in graph too for practicing"
   ]
  },
  {
   "cell_type": "code",
   "execution_count": 11,
   "metadata": {},
   "outputs": [
    {
     "data": {
      "text/plain": [
       "1"
      ]
     },
     "execution_count": 11,
     "metadata": {},
     "output_type": "execute_result"
    }
   ],
   "source": [
    "class Solution:\n",
    "    def numIslands(self, grid: list[list[str]]) -> int:\n",
    "        count = 0\n",
    "        def dfs(grid, i, j):\n",
    "            stack = []\n",
    "            stack.append((i, j))\n",
    "            X = [0, 1, 0, -1]\n",
    "            Y = [-1, 0, 1, 0]\n",
    "            while stack:\n",
    "                y, x = stack.pop()\n",
    "                for z in range(4):\n",
    "                    if (y + Y[z] >= 0 and y + Y[z] < len(grid) and x + X[z] >= 0 and x + X[z] < len(grid[0])):\n",
    "                        if (grid[y + Y[z]][x + X[z]] != '#' and grid[y + Y[z]][x + X[z]] == '1'):\n",
    "                            grid[y + Y[z]][x + X[z]] = '#'\n",
    "                            stack.append((y + Y[z], x + X[z]))\n",
    "\n",
    "        for i in range(len(grid)):\n",
    "            for j in range(len(grid[0])):\n",
    "                if grid[i][j] == '1':\n",
    "                    count += 1\n",
    "                    grid[i][j] = '#'\n",
    "                    dfs(grid, i, j)\n",
    "\n",
    "        return count\n",
    "\n",
    "ans = Solution()\n",
    "grid = [\n",
    "  [\"1\",\"1\",\"1\",\"1\",\"0\"],\n",
    "  [\"1\",\"1\",\"0\",\"1\",\"0\"],\n",
    "  [\"1\",\"1\",\"0\",\"0\",\"0\"],\n",
    "  [\"0\",\"0\",\"0\",\"0\",\"0\"]\n",
    "]\n",
    "ans.numIslands(grid) # 1"
   ]
  },
  {
   "cell_type": "markdown",
   "metadata": {},
   "source": [
    "### BFS solution"
   ]
  },
  {
   "cell_type": "code",
   "execution_count": 12,
   "metadata": {},
   "outputs": [
    {
     "data": {
      "text/plain": [
       "1"
      ]
     },
     "execution_count": 12,
     "metadata": {},
     "output_type": "execute_result"
    }
   ],
   "source": [
    "class Solution:\n",
    "    def numIslands(self, grid: list[list[str]]) -> int:\n",
    "        count = 0\n",
    "        def dfs(grid, i, j):\n",
    "            stack = []\n",
    "            stack.append((i, j))\n",
    "            X = [0, 1, 0, -1]\n",
    "            Y = [-1, 0, 1, 0]\n",
    "            while stack:\n",
    "                y, x = stack.pop(0)\n",
    "                for z in range(4):\n",
    "                    if (y + Y[z] >= 0 and y + Y[z] < len(grid) and x + X[z] >= 0 and x + X[z] < len(grid[0])):\n",
    "                        if (grid[y + Y[z]][x + X[z]] != '#' and grid[y + Y[z]][x + X[z]] == '1'):\n",
    "                            grid[y + Y[z]][x + X[z]] = '#'\n",
    "                            stack.append((y + Y[z], x + X[z]))\n",
    "\n",
    "        for i in range(len(grid)):\n",
    "            for j in range(len(grid[0])):\n",
    "                if grid[i][j] == '1':\n",
    "                    count += 1\n",
    "                    grid[i][j] = '#'\n",
    "                    dfs(grid, i, j)\n",
    "\n",
    "        return count\n",
    "\n",
    "ans = Solution()\n",
    "grid = [\n",
    "  [\"1\",\"1\",\"1\",\"1\",\"0\"],\n",
    "  [\"1\",\"1\",\"0\",\"1\",\"0\"],\n",
    "  [\"1\",\"1\",\"0\",\"0\",\"0\"],\n",
    "  [\"0\",\"0\",\"0\",\"0\",\"0\"]\n",
    "]\n",
    "ans.numIslands(grid) # 1"
   ]
  }
 ],
 "metadata": {
  "kernelspec": {
   "display_name": "base",
   "language": "python",
   "name": "python3"
  },
  "language_info": {
   "codemirror_mode": {
    "name": "ipython",
    "version": 3
   },
   "file_extension": ".py",
   "mimetype": "text/x-python",
   "name": "python",
   "nbconvert_exporter": "python",
   "pygments_lexer": "ipython3",
   "version": "3.11.7"
  }
 },
 "nbformat": 4,
 "nbformat_minor": 2
}

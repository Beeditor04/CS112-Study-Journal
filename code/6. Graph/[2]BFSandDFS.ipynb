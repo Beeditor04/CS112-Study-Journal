{
 "cells": [
  {
   "cell_type": "markdown",
   "metadata": {},
   "source": [
    "Create a dfs function:\n",
    "- a `list` contains visited nodes (`visited`)\n",
    "- a `list` contains the order of nodes to search (`stack`)\n",
    "\n",
    "How to start\n",
    "- Loop until `stack` is empty\n",
    "- mark every node as `visited`"
   ]
  },
  {
   "cell_type": "code",
   "execution_count": 6,
   "metadata": {},
   "outputs": [
    {
     "name": "stdout",
     "output_type": "stream",
     "text": [
      "[0, 2, 3, 1]\n"
     ]
    }
   ],
   "source": [
    "def DFS(graph):\n",
    "    visit = []*len(graph)\n",
    "    stack = []\n",
    "    stack.append(0)\n",
    "    while stack:\n",
    "        node = stack.pop()\n",
    "        for i in range(len(graph)):\n",
    "            if graph[node][i] == 1 and i not in visit and i not in stack:\n",
    "                stack.append(i)\n",
    "        visit.append(node)\n",
    "    return visit\n",
    "\n",
    "graph = [\n",
    "    [0, 1, 1, 0],\n",
    "    [0, 0, 0, 1],\n",
    "    [0, 0, 0, 1],\n",
    "    [0, 0, 0, 0]\n",
    "]\n",
    "\n",
    "res = DFS(graph)\n",
    "print(res)"
   ]
  },
  {
   "cell_type": "code",
   "execution_count": 7,
   "metadata": {},
   "outputs": [
    {
     "name": "stdout",
     "output_type": "stream",
     "text": [
      "[0, 1, 2, 3]\n"
     ]
    }
   ],
   "source": [
    "def BFS(graph):\n",
    "    visit = []*len(graph)\n",
    "    queue = []\n",
    "    queue.append(0)\n",
    "    while queue:\n",
    "        node = queue.pop(0)\n",
    "        for i in range(len(graph)):\n",
    "            if graph[node][i] == 1 and i not in visit and i not in queue:\n",
    "                queue.append(i)\n",
    "        visit.append(node)\n",
    "    return visit\n",
    "\n",
    "graph = [\n",
    "    [0, 1, 1, 0],\n",
    "    [0, 0, 0, 1],\n",
    "    [0, 0, 0, 1],\n",
    "    [0, 0, 0, 0]\n",
    "]\n",
    "\n",
    "res = BFS(graph)\n",
    "print(res)"
   ]
  }
 ],
 "metadata": {
  "kernelspec": {
   "display_name": "base",
   "language": "python",
   "name": "python3"
  },
  "language_info": {
   "codemirror_mode": {
    "name": "ipython",
    "version": 3
   },
   "file_extension": ".py",
   "mimetype": "text/x-python",
   "name": "python",
   "nbconvert_exporter": "python",
   "pygments_lexer": "ipython3",
   "version": "3.11.7"
  }
 },
 "nbformat": 4,
 "nbformat_minor": 2
}

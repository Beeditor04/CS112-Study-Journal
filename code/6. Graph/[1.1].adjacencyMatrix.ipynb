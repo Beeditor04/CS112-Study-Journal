{
 "cells": [
  {
   "cell_type": "code",
   "execution_count": 1,
   "metadata": {},
   "outputs": [
    {
     "name": "stdout",
     "output_type": "stream",
     "text": [
      "[0, 1, 1, 0]\n",
      "[1, 0, 1, 0]\n",
      "[1, 1, 0, 1]\n",
      "[0, 0, 1, 0]\n"
     ]
    }
   ],
   "source": [
    "class Graph:\n",
    "    def __init__(self, num_nodes):\n",
    "        self.num_nodes = num_nodes\n",
    "        self.adj_matrix = [[0 for _ in range(num_nodes)] for _ in range(num_nodes)]\n",
    "\n",
    "    def add(self, node1, node2, weight=1):\n",
    "        self.adj_matrix[node1][node2] = weight\n",
    "        self.adj_matrix[node2][node1] = weight  # For undirected graph\n",
    "\n",
    "    def remove(self, node1, node2):\n",
    "        self.adj_matrix[node1][node2] = 0\n",
    "        self.adj_matrix[node2][node1] = 0  # For undirected graph\n",
    "\n",
    "    def display(self):\n",
    "        for row in self.adj_matrix:\n",
    "            print(row)\n",
    "\n",
    "# Example usage\n",
    "num_nodes = 4\n",
    "g = Graph(num_nodes)\n",
    "g.add(0, 1)\n",
    "g.add(0, 2)\n",
    "g.add(1, 2)\n",
    "g.add(2, 3)\n",
    "\n",
    "g.display()\n"
   ]
  }
 ],
 "metadata": {
  "kernelspec": {
   "display_name": "base",
   "language": "python",
   "name": "python3"
  },
  "language_info": {
   "codemirror_mode": {
    "name": "ipython",
    "version": 3
   },
   "file_extension": ".py",
   "mimetype": "text/x-python",
   "name": "python",
   "nbconvert_exporter": "python",
   "pygments_lexer": "ipython3",
   "version": "3.11.7"
  }
 },
 "nbformat": 4,
 "nbformat_minor": 2
}

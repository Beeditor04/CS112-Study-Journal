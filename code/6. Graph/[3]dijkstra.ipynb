{
 "cells": [
  {
   "cell_type": "code",
   "execution_count": 2,
   "metadata": {},
   "outputs": [
    {
     "name": "stdout",
     "output_type": "stream",
     "text": [
      "Shortest distances from start node: [0, 4, 12, 19, 21, 11, 9, 8, 14]\n"
     ]
    }
   ],
   "source": [
    "def dijkstra(graph, start):\n",
    "    num_nodes = len(graph)\n",
    "    visited = [False] * num_nodes\n",
    "    distances = [float('inf')] * num_nodes\n",
    "    distances[start] = 0\n",
    "\n",
    "    for _ in range(num_nodes):\n",
    "        # Find the unvisited node with the smallest distance\n",
    "        min_distance = float('inf')\n",
    "        min_index = -1\n",
    "        for i in range(num_nodes):\n",
    "            if not visited[i] and distances[i] < min_distance:\n",
    "                min_distance = distances[i]\n",
    "                min_index = i\n",
    "\n",
    "        # Mark the chosen node as visited\n",
    "        visited[min_index] = True\n",
    "\n",
    "        # Update the distance for each neighbor of the chosen node\n",
    "        for j in range(num_nodes):\n",
    "            if graph[min_index][j] > 0 and not visited[j]:\n",
    "                new_distance = distances[min_index] + graph[min_index][j]\n",
    "                if new_distance < distances[j]:\n",
    "                    distances[j] = new_distance\n",
    "\n",
    "    return distances\n",
    "\n",
    "# Example usage\n",
    "graph = [[0, 4, 0, 0, 0, 0, 0, 8, 0],\n",
    "        [4, 0, 8, 0, 0, 0, 0, 11, 0],\n",
    "        [0, 8, 0, 7, 0, 4, 0, 0, 2],\n",
    "        [0, 0, 7, 0, 9, 14, 0, 0, 0],\n",
    "        [0, 0, 0, 9, 0, 10, 0, 0, 0],\n",
    "        [0, 0, 4, 14, 10, 0, 2, 0, 0],\n",
    "        [0, 0, 0, 0, 0, 2, 0, 1, 6],\n",
    "        [8, 11, 0, 0, 0, 0, 1, 0, 7],\n",
    "        [0, 0, 2, 0, 0, 0, 6, 7, 0]\n",
    "        ]\n",
    "\n",
    "start_node = 0\n",
    "distances = dijkstra(graph, start_node)\n",
    "\n",
    "print(\"Shortest distances from start node:\", distances)\n"
   ]
  }
 ],
 "metadata": {
  "kernelspec": {
   "display_name": "base",
   "language": "python",
   "name": "python3"
  },
  "language_info": {
   "codemirror_mode": {
    "name": "ipython",
    "version": 3
   },
   "file_extension": ".py",
   "mimetype": "text/x-python",
   "name": "python",
   "nbconvert_exporter": "python",
   "pygments_lexer": "ipython3",
   "version": "3.11.7"
  }
 },
 "nbformat": 4,
 "nbformat_minor": 2
}

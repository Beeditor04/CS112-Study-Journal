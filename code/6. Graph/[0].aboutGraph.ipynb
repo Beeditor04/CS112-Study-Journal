{
 "cells": [
  {
   "cell_type": "markdown",
   "metadata": {},
   "source": [
    "### Reference:\n",
    "- https://github.com/azl397985856/leetcode/blob/master/thinkings/graph.en.md\n",
    "### Type of graph\n",
    "- undirected graphs\n",
    "- directed graphs\n",
    "- weighted graphs\n",
    "---\n",
    "### Terminologies\n",
    "- Edges: cạnh\n",
    "- Vertex (Node): góc / đỉnh \n",
    "- Degree of vertex: các cạnh của góc / đỉnh"
   ]
  },
  {
   "cell_type": "markdown",
   "metadata": {},
   "source": [
    "--- \n",
    "### How to build a graph\n",
    "- Adjacency list\n",
    "- Adjacency matrix\n",
    "- Difference between them: https://github.com/bradtraversy/traversy-js-challenges/blob/main/08-binary-trees-graphs/11-adjacency-matrix-adjacency-list/readme.md"
   ]
  },
  {
   "cell_type": "markdown",
   "metadata": {},
   "source": [
    "### Graph traversal \n",
    "- DFS\n",
    "- BFS"
   ]
  }
 ],
 "metadata": {
  "language_info": {
   "name": "python"
  }
 },
 "nbformat": 4,
 "nbformat_minor": 2
}

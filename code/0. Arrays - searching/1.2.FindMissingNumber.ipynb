{
 "cells": [
  {
   "cell_type": "markdown",
   "metadata": {},
   "source": [
    "### Example: Find the Missing Number\n",
    "- link: https://www.geeksforgeeks.org/find-the-missing-number/\n",
    "#### My Ideas:\n",
    "- Hash table: create hash table, with each number in the list given, count as one in HT\n",
    "- At the end, which place got 0 value -> missing"
   ]
  },
  {
   "cell_type": "code",
   "execution_count": 6,
   "metadata": {},
   "outputs": [
    {
     "name": "stdout",
     "output_type": "stream",
     "text": [
      "5 \n",
      "\n",
      "4 \n",
      "\n"
     ]
    }
   ],
   "source": [
    "test1 = [1, 2, 4, 6, 3, 7, 8]\n",
    "test2 = [1, 2, 3, 5]\n",
    "testCase = [test1, test2]\n",
    "def solution(array):\n",
    "    hash = [0]*(len(array) + 1)\n",
    "    for i in array:\n",
    "        hash[i-1] += 1\n",
    "    return [i for i in range(len(hash)) if hash[i-1] == 0]\n",
    "\n",
    "for temp in testCase:\n",
    "    print(solution(temp)[0], \"\\n\")\n",
    "\n",
    "\n"
   ]
  },
  {
   "cell_type": "code",
   "execution_count": null,
   "metadata": {},
   "outputs": [],
   "source": []
  }
 ],
 "metadata": {
  "kernelspec": {
   "display_name": "base",
   "language": "python",
   "name": "python3"
  },
  "language_info": {
   "codemirror_mode": {
    "name": "ipython",
    "version": 3
   },
   "file_extension": ".py",
   "mimetype": "text/x-python",
   "name": "python",
   "nbconvert_exporter": "python",
   "pygments_lexer": "ipython3",
   "version": "3.11.5"
  }
 },
 "nbformat": 4,
 "nbformat_minor": 2
}

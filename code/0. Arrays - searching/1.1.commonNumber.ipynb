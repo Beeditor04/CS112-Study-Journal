{
 "cells": [
  {
   "cell_type": "markdown",
   "metadata": {},
   "source": [
    "### Find common elements in three sorted arrays\n",
    "Link: https://www.geeksforgeeks.org/find-common-elements-three-sorted-arrays/\n",
    "### My ideas:\n",
    "- create 3 index: x, y, z = 0\n",
    "- and array contains 3 numbers from index []\n",
    "- insert 3 numbers from the start, if a[x] = b[y] = c[z] then output \\\n",
    "else find the smallest num and increase index, \\\n",
    "repeat until x = len(a)-1 && y = len(b)-1 && z = len(c)-1 "
   ]
  },
  {
   "cell_type": "code",
   "execution_count": 14,
   "metadata": {},
   "outputs": [
    {
     "name": "stdout",
     "output_type": "stream",
     "text": [
      "5  \n",
      "5  \n"
     ]
    }
   ],
   "source": [
    "# ar1 = [1, 5, 10, 20, 40, 80]\n",
    "# ar2 = [6, 7, 20, 80, 100]\n",
    "# ar3 = [3, 4, 15, 20, 30, 70, 80, 100]\n",
    "\n",
    "ar1 = [1, 5, 5]\n",
    "ar2 = [3, 4, 5, 5, 10]\n",
    "ar3 = [5, 5, 10, 20]\n",
    "index = [0, 0, 0] # lưu trữ vị trí 3 số còn lại\n",
    "pos = [ar1[0], ar2[0], ar3[0]] # lưu trữ 3 số hiện tại\n",
    "arrLen = [len(ar1), len(ar2), len(ar3)]\n",
    "arr = [ar1, ar2, ar3]\n",
    "\n",
    "# kiểm tra vượt điều kiện\n",
    "while ((index[0] < len(ar1)) and (index[1] < len(ar2)) and (index[2] < len(ar3))):\n",
    "    # 3 số trùng nhau thì in ra\n",
    "    if (pos[0] == pos[1] == pos[2]):\n",
    "        print(pos[0], \" \")\n",
    "        for i in range(len(index)):\n",
    "            index[i] += 1\n",
    "            if (index[i] < arrLen[i] - 1):\n",
    "                pos[i] = arr[i][index[i]]\n",
    "    # có số khác -> tăng index của số nhỏ nhất\n",
    "    else:\n",
    "        minIndex = 0\n",
    "        for i in range(len(pos)):\n",
    "            # tìm số nhỏ nhất -> xuất ra vị trí\n",
    "            if (pos[minIndex] > pos[i]):\n",
    "                minIndex = i\n",
    "            # tăng vị trí đó lên\n",
    "        if (index[minIndex] < arrLen[minIndex] - 1):\n",
    "            index[minIndex] += 1\n",
    "            pos[minIndex] = arr[minIndex][index[minIndex]]\n",
    "        "
   ]
  },
  {
   "cell_type": "code",
   "execution_count": 6,
   "metadata": {},
   "outputs": [
    {
     "name": "stdout",
     "output_type": "stream",
     "text": [
      "0\n",
      "1\n",
      "2\n"
     ]
    }
   ],
   "source": [
    "for i in range(3):\n",
    "    print(i)"
   ]
  }
 ],
 "metadata": {
  "kernelspec": {
   "display_name": "base",
   "language": "python",
   "name": "python3"
  },
  "language_info": {
   "codemirror_mode": {
    "name": "ipython",
    "version": 3
   },
   "file_extension": ".py",
   "mimetype": "text/x-python",
   "name": "python",
   "nbconvert_exporter": "python",
   "pygments_lexer": "ipython3",
   "version": "3.11.5"
  }
 },
 "nbformat": 4,
 "nbformat_minor": 2
}

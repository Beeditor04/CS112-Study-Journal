{
 "cells": [
  {
   "cell_type": "markdown",
   "metadata": {},
   "source": [
    "### 74. Search a 2D Matrix\n",
    "link: https://leetcode.com/problems/search-a-2d-matrix/description/"
   ]
  },
  {
   "cell_type": "markdown",
   "metadata": {},
   "source": [
    "<div> <img src=\"findMatrix1.png\" width=\"400\"> </div>\n",
    "<div> <img src=\"findMatrix2.png\" width=\"400\"> </div>"
   ]
  },
  {
   "cell_type": "markdown",
   "metadata": {},
   "source": [
    "### 1. My ideas:\n",
    "- Separate the first column for find `x position` first using BS\n",
    "- After that BS with `arr[x]` normally"
   ]
  },
  {
   "cell_type": "code",
   "execution_count": 20,
   "metadata": {},
   "outputs": [
    {
     "name": "stdout",
     "output_type": "stream",
     "text": [
      "True\n"
     ]
    }
   ],
   "source": [
    "def BinarySearch(arr: list[int], key:int, temp:int) -> int:\n",
    "        left = 0; right = len(arr)\n",
    "        while (left < right):\n",
    "            mid = left + (right - left) // 2\n",
    "            if (key >= arr[mid]):\n",
    "                left = mid + 1\n",
    "            else: right = mid\n",
    "            \n",
    "        if (temp == 0):\n",
    "            if (left > 0 and key == arr[left - 1]):\n",
    "                return left - 1\n",
    "            else: return -1\n",
    "        if (temp == 1):\n",
    "            if (left > 0 and key >= arr[left - 1]):\n",
    "                return left - 1\n",
    "            else: return -2\n",
    "        return 1\n",
    "\n",
    "def searchMatrix( matrix: list[list[int]], target: int) -> bool:\n",
    "    firstCol = [matrix[i][0] for i in range(len(matrix))]\n",
    "    # find the row suitable for the target -> return colIndex\n",
    "    colIndex = BinarySearch(firstCol, target, 1)\n",
    "    if (colIndex == -2):\n",
    "        return False\n",
    "    else: \n",
    "        # BS for matrix[colIndex] -> return true/false\n",
    "        ans = BinarySearch(matrix[colIndex], target, 0)\n",
    "        if (ans == -1):\n",
    "            return False\n",
    "    return True\n",
    "\n",
    "a = [[1,3,5,7],[10,11,16,20],[23,30,34,60]]\n",
    "target = 3\n",
    "print(searchMatrix(a, target))"
   ]
  },
  {
   "cell_type": "markdown",
   "metadata": {},
   "source": [
    "### 2. Other solutions "
   ]
  },
  {
   "cell_type": "markdown",
   "metadata": {},
   "source": [
    "- Using **division** and **mod** for exact location for BS"
   ]
  },
  {
   "cell_type": "code",
   "execution_count": 23,
   "metadata": {},
   "outputs": [
    {
     "name": "stdout",
     "output_type": "stream",
     "text": [
      "True\n"
     ]
    }
   ],
   "source": [
    "def searchMatrix(matrix: list[list[int]], target: int) -> bool:\n",
    "        nr, nc = len(matrix), len(matrix[0])\n",
    "        l, r = 0, nr * nc - 1\n",
    "\n",
    "        while l <= r:\n",
    "            m = l + (r-l) // 2\n",
    "            row, col = m // nc, m % nc\n",
    "            \n",
    "            if matrix[row][col] == target:\n",
    "                return True\n",
    "            elif matrix[row][col] > target:\n",
    "                r = m - 1\n",
    "            else: # matrix[row][col] < target\n",
    "                l = m + 1\n",
    "        \n",
    "        return False\n",
    "\n",
    "a = [[1,3,5,7],[10,11,16,20],[23,30,34,60]]\n",
    "target = 3\n",
    "print(searchMatrix(a, target))\n"
   ]
  },
  {
   "cell_type": "markdown",
   "metadata": {},
   "source": [
    "- Treat 2D matrix like a decision tree -> traversal solution \\\n",
    "Reference: https://leetcode.com/problems/search-a-2d-matrix/solutions/1895837/c-binary-search-tree-explained-with-img/"
   ]
  },
  {
   "cell_type": "code",
   "execution_count": null,
   "metadata": {},
   "outputs": [],
   "source": []
  }
 ],
 "metadata": {
  "kernelspec": {
   "display_name": "base",
   "language": "python",
   "name": "python3"
  },
  "language_info": {
   "codemirror_mode": {
    "name": "ipython",
    "version": 3
   },
   "file_extension": ".py",
   "mimetype": "text/x-python",
   "name": "python",
   "nbconvert_exporter": "python",
   "pygments_lexer": "ipython3",
   "version": "3.11.5"
  }
 },
 "nbformat": 4,
 "nbformat_minor": 2
}

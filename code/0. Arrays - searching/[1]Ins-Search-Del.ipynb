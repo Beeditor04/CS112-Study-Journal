{
 "cells": [
  {
   "cell_type": "markdown",
   "metadata": {},
   "source": [
    "### ToC\n",
    "- [Search](#1)\n",
    "- [Remove - add](#2)"
   ]
  },
  {
   "cell_type": "markdown",
   "metadata": {},
   "source": [
    "### <a id=\"1\"> 1. Search </a>"
   ]
  },
  {
   "cell_type": "markdown",
   "metadata": {},
   "source": [
    "- **1. Binary Search**: `O(logn)` | `O(1)` \\\n",
    "while left **<=** right\n",
    "    Sort -> so sánh target với mid \n",
    "    - < mid: tìm target trong left -> mid - 1\n",
    "    - = mid: answer\n",
    "    - \\> mid: tìm target trong mid + 1 -> right "
   ]
  },
  {
   "cell_type": "code",
   "execution_count": null,
   "metadata": {},
   "outputs": [],
   "source": [
    "def BinarySearch(arr, key) -> int:\n",
    "    #1. pre processing: Sort\n",
    "    arr.sort()\n",
    "\n",
    "    #2. processing: B-Search\n",
    "    left = 0; right = len(arr) - 1\n",
    "    while (left <= right):\n",
    "        mid = left + (right - left) // 2 #? Reduce the overflow ~~ (left + right) // 2 \n",
    "        if (arr[mid] == key):\n",
    "            return mid\n",
    "        elif (arr[mid] < key):\n",
    "            left = mid + 1\n",
    "        else:\n",
    "            right = mid - 1\n",
    "    \n",
    "    #3 post - processing: \n",
    "    return -1"
   ]
  },
  {
   "cell_type": "markdown",
   "metadata": {},
   "source": [
    "**1.2 Upper Bound Binary Search** \\\n",
    "link: https://leetcode.com/problems/binary-search/description/ \\\n",
    "`Ideas`: no more check 3 condition: left, mid or right \\\n",
    "**instead** start to check left or right\n",
    "- If the target on the **right side** (target >= mid): left = mid + 1\n",
    "- If the target on the **left** side (target < mid): right = mid\n",
    "after that, check for the equal(**=**) on the **right side**, \\\n",
    "if `target` = left - 1 (mean the equal - **=**) then return, else -1\n"
   ]
  },
  {
   "cell_type": "code",
   "execution_count": null,
   "metadata": {},
   "outputs": [],
   "source": [
    "##* Upper Bound\n",
    "def BinarySearch(arr, key) -> int:\n",
    "    left = 0; right = len(arr) #! No -1\n",
    "    #remove the equal -> faster\n",
    "    while (left < right):\n",
    "        mid = left + (right - left) // 2\n",
    "        if (key >= arr[mid]):\n",
    "            left = mid + 1\n",
    "        else:\n",
    "            right = mid\n",
    "    \n",
    "    # left > 0 prevent left - 1 overflow\n",
    "    if (left > 0 and arr[left-1] == key):\n",
    "        return left - 1\n",
    "    else: return -1"
   ]
  },
  {
   "cell_type": "markdown",
   "metadata": {},
   "source": [
    "- **2. Linear Search**: `O(n)` | `O(1)`"
   ]
  },
  {
   "cell_type": "code",
   "execution_count": 7,
   "metadata": {},
   "outputs": [],
   "source": [
    "def linearSearch(arr, key) -> int:\n",
    "    i = 0\n",
    "    for index in arr:\n",
    "        if index == key:\n",
    "            return i\n",
    "        i += 1"
   ]
  },
  {
   "cell_type": "code",
   "execution_count": 8,
   "metadata": {},
   "outputs": [
    {
     "name": "stdout",
     "output_type": "stream",
     "text": [
      "Found in: 2\n",
      "Found in: 2\n"
     ]
    }
   ],
   "source": [
    "if __name__ == '__main__':\n",
    "    #this is the main function\n",
    "    arr = [1, 2, 3, 4, 5, 6, 7]\n",
    "    key = 3\n",
    "    ans = linearSearch(arr, key)\n",
    "    ans2 = BinarySearch(arr, key)\n",
    "    print('Found in:', ans)\n",
    "    print('Found in:', ans2)"
   ]
  },
  {
   "cell_type": "markdown",
   "metadata": {},
   "source": [
    "### <a id=\"2\"> 2. Remove - Add </a> \n",
    "- Using .remove(), .insert(), .pop(), .append() in list"
   ]
  },
  {
   "cell_type": "code",
   "execution_count": 6,
   "metadata": {},
   "outputs": [
    {
     "name": "stdout",
     "output_type": "stream",
     "text": [
      "After insert: [1, 99, 2, 3, 4, 5, 6, 7, 8]\n",
      "After remove: [1, 2, 3, 4, 5, 6, 7, 8]\n"
     ]
    }
   ],
   "source": [
    "arr = [1, 2, 3, 4, 5, 6, 7, 8]\n",
    "\n",
    "arr.insert(1, 99)\n",
    "print('After insert:', arr)\n",
    "\n",
    "arr.remove(99)\n",
    "print('After remove:', arr)"
   ]
  },
  {
   "cell_type": "code",
   "execution_count": null,
   "metadata": {},
   "outputs": [],
   "source": []
  }
 ],
 "metadata": {
  "kernelspec": {
   "display_name": "base",
   "language": "python",
   "name": "python3"
  },
  "language_info": {
   "codemirror_mode": {
    "name": "ipython",
    "version": 3
   },
   "file_extension": ".py",
   "mimetype": "text/x-python",
   "name": "python",
   "nbconvert_exporter": "python",
   "pygments_lexer": "ipython3",
   "version": "3.11.5"
  }
 },
 "nbformat": 4,
 "nbformat_minor": 2
}

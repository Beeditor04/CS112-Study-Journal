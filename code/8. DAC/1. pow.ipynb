{
 "cells": [
  {
   "cell_type": "code",
   "execution_count": 1,
   "metadata": {},
   "outputs": [
    {
     "name": "stdout",
     "output_type": "stream",
     "text": [
      "Power is  8192\n"
     ]
    }
   ],
   "source": [
    "def pow(x, y):\n",
    "    res = 1\n",
    "     \n",
    "    while (y > 0):   \n",
    "        if ((y & 1) == 1) :\n",
    "            res = res * x\n",
    "        y = y >> 1\n",
    "        x = x * x\n",
    "\n",
    "    return res\n",
    "x = 2\n",
    "y = 13\n",
    " \n",
    "print(\"Power is \",\n",
    "       pow(x, y))"
   ]
  },
  {
   "cell_type": "markdown",
   "metadata": {},
   "source": [
    "def pow(a, x): \n",
    "    res ← 1                     # a^0 base case\n",
    "    while y > 0:\n",
    "        if y is even:           # if y is even, add to the answer\n",
    "            res = res * x\n",
    "        \n",
    "        y ← y / 2               # divide y by 2\n",
    "        x ← x * x               # multiply for the same\n",
    "    \n",
    "    return res"
   ]
  },
  {
   "cell_type": "code",
   "execution_count": null,
   "metadata": {},
   "outputs": [],
   "source": [
    "def pow(a, x):\n",
    "    res = 0\n",
    "    if x == 0:\n",
    "        return 1\n",
    "    res = pow(a, int(x / 2))\n",
    "    if (x % 2):\n",
    "        return a * res * res\n",
    "    else: return res * res\n",
    "\n",
    "a = 2\n",
    "x = int(10e5)\n",
    "print(pow(a, x))"
   ]
  },
  {
   "cell_type": "code",
   "execution_count": 10,
   "metadata": {},
   "outputs": [
    {
     "ename": "ValueError",
     "evalue": "Exceeds the limit (4300 digits) for integer string conversion; use sys.set_int_max_str_digits() to increase the limit",
     "output_type": "error",
     "traceback": [
      "\u001b[1;31m---------------------------------------------------------------------------\u001b[0m",
      "\u001b[1;31mValueError\u001b[0m                                Traceback (most recent call last)",
      "Cell \u001b[1;32mIn[10], line 12\u001b[0m\n\u001b[0;32m     10\u001b[0m a \u001b[38;5;241m=\u001b[39m \u001b[38;5;241m2\u001b[39m\n\u001b[0;32m     11\u001b[0m x \u001b[38;5;241m=\u001b[39m \u001b[38;5;28mint\u001b[39m(\u001b[38;5;241m10e5\u001b[39m)\n\u001b[1;32m---> 12\u001b[0m \u001b[38;5;28mprint\u001b[39m(\u001b[38;5;28mpow\u001b[39m(a, x))\n",
      "\u001b[1;31mValueError\u001b[0m: Exceeds the limit (4300 digits) for integer string conversion; use sys.set_int_max_str_digits() to increase the limit"
     ]
    }
   ],
   "source": [
    "def pow(a, x):\n",
    "    res = 0\n",
    "    if x == 0:\n",
    "        return 1\n",
    "    res = pow(a, int(x / 2))\n",
    "    if (x % 2):\n",
    "        return a * res * res\n",
    "    else: return res * res\n",
    "\n",
    "a = 2\n",
    "x = int(10e5)\n",
    "print(pow(a, x))"
   ]
  },
  {
   "cell_type": "code",
   "execution_count": 7,
   "metadata": {},
   "outputs": [
    {
     "ename": "KeyboardInterrupt",
     "evalue": "",
     "output_type": "error",
     "traceback": [
      "\u001b[1;31m---------------------------------------------------------------------------\u001b[0m",
      "\u001b[1;31mKeyboardInterrupt\u001b[0m                         Traceback (most recent call last)",
      "Cell \u001b[1;32mIn[7], line 3\u001b[0m\n\u001b[0;32m      1\u001b[0m total \u001b[38;5;241m=\u001b[39m \u001b[38;5;241m1\u001b[39m\n\u001b[0;32m      2\u001b[0m \u001b[38;5;28;01mfor\u001b[39;00m i \u001b[38;5;129;01min\u001b[39;00m \u001b[38;5;28mrange\u001b[39m(\u001b[38;5;28mint\u001b[39m(\u001b[38;5;241m10e5\u001b[39m)):\n\u001b[1;32m----> 3\u001b[0m     total \u001b[38;5;241m*\u001b[39m\u001b[38;5;241m=\u001b[39m \u001b[38;5;241m2\u001b[39m\n\u001b[0;32m      4\u001b[0m \u001b[38;5;28mprint\u001b[39m(total)\n",
      "\u001b[1;31mKeyboardInterrupt\u001b[0m: "
     ]
    }
   ],
   "source": [
    "total = 1\n",
    "for i in range(int(10e5)):\n",
    "    total *= 2\n",
    "print(total)"
   ]
  },
  {
   "cell_type": "markdown",
   "metadata": {},
   "source": [
    "def pow(a, x):\n",
    "    if x == 0: return 1    # Base case: a^0 = 1 \n",
    "    if x is odd:\n",
    "        return a * pow(a, x/2) * pow(a, x/2)\n",
    "    if x is even:\n",
    "        return pow(a, x/2) * pow(a, x/2)"
   ]
  }
 ],
 "metadata": {
  "kernelspec": {
   "display_name": "base",
   "language": "python",
   "name": "python3"
  },
  "language_info": {
   "codemirror_mode": {
    "name": "ipython",
    "version": 3
   },
   "file_extension": ".py",
   "mimetype": "text/x-python",
   "name": "python",
   "nbconvert_exporter": "python",
   "pygments_lexer": "ipython3",
   "version": "3.11.7"
  }
 },
 "nbformat": 4,
 "nbformat_minor": 2
}

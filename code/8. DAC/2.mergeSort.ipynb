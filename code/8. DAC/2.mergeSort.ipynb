{
 "cells": [
  {
   "cell_type": "code",
   "execution_count": 1,
   "metadata": {},
   "outputs": [
    {
     "name": "stdout",
     "output_type": "stream",
     "text": [
      "Given array is\n",
      "12 11 13 5 6 7 \n",
      "\n",
      "Sorted array is\n",
      "5 6 7 11 12 13 \n"
     ]
    }
   ],
   "source": [
    "# Merges two subarrays of array[].\n",
    "# First subarray is arr[left..mid]\n",
    "# Second subarray is arr[mid+1..right]\n",
    "def merge(array, left, mid, right):\n",
    "    leftLen = mid - left + 1\n",
    "    rightLen = right - mid\n",
    "\n",
    "    # Create temp arrays\n",
    "    leftArray = [0] * leftLen\n",
    "    rightArray = [0] * rightLen\n",
    "\n",
    "    # Copy data to temp arrays leftArray[] and rightArray[]\n",
    "    for i in range(leftLen):\n",
    "        leftArray[i] = array[left + i]\n",
    "    for j in range(rightLen):\n",
    "        rightArray[j] = array[mid + j + 1]\n",
    " \n",
    "    indexLeft = 0  # Initial index of left\n",
    "    indexRight = 0  # Initial index of right\n",
    "    indexResult = left  # Initial index of merged array\n",
    "\n",
    "    #*-------------- Merge. CODE HERE\n",
    "    while indexLeft < leftLen and indexRight < rightLen:\n",
    "        if leftArray[indexLeft] <= rightArray[indexRight]:\n",
    "            array[indexResult] = leftArray[indexLeft]\n",
    "            indexLeft += 1\n",
    "        else:\n",
    "            array[indexResult] = rightArray[indexRight]\n",
    "            indexRight += 1\n",
    "        indexResult += 1\n",
    "    #*--------------- Copy the remaining elements of left,  CODE HERE\n",
    "    while indexLeft < leftLen:\n",
    "        array[indexResult] = leftArray[indexLeft]\n",
    "        indexLeft += 1\n",
    "        indexResult += 1\n",
    "\n",
    "    #*--------------- Copy the remaining elements of right, CODE HERE\n",
    "    while indexRight < rightLen:\n",
    "        array[indexResult] = rightArray[indexRight]\n",
    "        indexRight += 1\n",
    "        indexResult += 1\n",
    "\n",
    "# begin is for left index and end is right index\n",
    "# of the sub-array of arr to be sorted\n",
    "\n",
    "def mergeSort(array, begin, end):\n",
    "    if begin >= end:\n",
    "        return\n",
    "\n",
    "    mid = begin + (end - begin) // 2 # (begin + end) // 2, avoid overflow\n",
    "\n",
    "    mergeSort(array, begin, mid)\n",
    "    mergeSort(array, mid + 1, end)\n",
    "    merge(array, begin, mid, end)\n",
    "\n",
    "# Function to print an array\n",
    "def printArray(array, size):\n",
    "    for i in range(size):\n",
    "        print(array[i], end=\" \")\n",
    "    print()\n",
    "\n",
    "# Driver code\n",
    "if __name__ == \"__main__\":\n",
    "    arr = [12, 11, 13, 5, 6, 7]\n",
    "    arr_size = len(arr)\n",
    "\n",
    "    print(\"Given array is\")\n",
    "    printArray(arr, arr_size)\n",
    "\n",
    "    mergeSort(arr, 0, arr_size - 1)\n",
    "\n",
    "    print(\"\\nSorted array is\")\n",
    "    printArray(arr, arr_size)\n"
   ]
  }
 ],
 "metadata": {
  "kernelspec": {
   "display_name": "base",
   "language": "python",
   "name": "python3"
  },
  "language_info": {
   "codemirror_mode": {
    "name": "ipython",
    "version": 3
   },
   "file_extension": ".py",
   "mimetype": "text/x-python",
   "name": "python",
   "nbconvert_exporter": "python",
   "pygments_lexer": "ipython3",
   "version": "3.11.7"
  }
 },
 "nbformat": 4,
 "nbformat_minor": 2
}

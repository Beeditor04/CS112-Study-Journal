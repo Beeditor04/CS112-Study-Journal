{
 "cells": [
  {
   "cell_type": "code",
   "execution_count": 12,
   "metadata": {},
   "outputs": [],
   "source": [
    "a = input()\n",
    "b = input()\n",
    "def equal(a, b, n):\n",
    "    if a == b:\n",
    "        return True\n",
    "    if (n % 2):\n",
    "        return False\n",
    "    mid = n//2\n",
    "    temp1 = equal(a[:mid], b[mid:], mid) #a2, b1\n",
    "    temp2 = equal(a[mid:], b[:mid], mid) #a1, b2\n",
    "    temp3 = equal(a[:mid], b[:mid], mid) #a1, b1\n",
    "    temp4 = equal(a[mid:], b[mid:], mid) #a2, b2\n",
    "    return (temp1 and temp2) or (temp3 and temp4) \n",
    "if equal(a, b, len(a)):\n",
    "    print(\"YES\")\n",
    "else:\n",
    "    print(\"NO\")"
   ]
  },
  {
   "cell_type": "code",
   "execution_count": 4,
   "metadata": {},
   "outputs": [
    {
     "data": {
      "text/plain": [
       "'56789'"
      ]
     },
     "execution_count": 4,
     "metadata": {},
     "output_type": "execute_result"
    }
   ],
   "source": [
    "a = \"123456789\"\n",
    "b = \"987654321\"\n",
    "mid = len(a)//2\n",
    "a[mid:]"
   ]
  }
 ],
 "metadata": {
  "kernelspec": {
   "display_name": "base",
   "language": "python",
   "name": "python3"
  },
  "language_info": {
   "codemirror_mode": {
    "name": "ipython",
    "version": 3
   },
   "file_extension": ".py",
   "mimetype": "text/x-python",
   "name": "python",
   "nbconvert_exporter": "python",
   "pygments_lexer": "ipython3",
   "version": "3.11.7"
  }
 },
 "nbformat": 4,
 "nbformat_minor": 2
}

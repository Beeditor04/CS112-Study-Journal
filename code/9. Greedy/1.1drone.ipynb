{
 "cells": [
  {
   "cell_type": "code",
   "execution_count": 84,
   "metadata": {},
   "outputs": [
    {
     "name": "stdout",
     "output_type": "stream",
     "text": [
      "2 1 3 4\n"
     ]
    }
   ],
   "source": [
    "n = int(input())\n",
    "arr = []\n",
    "def stepCount(a, b):\n",
    "    total = a if a < b else b\n",
    "    return total + abs(b - a)\n",
    "\n",
    "for i in range(n):\n",
    "    a, b = map(int, input().split())\n",
    "    step = stepCount(abs(a), abs(b))\n",
    "    arr.append((i, step))\n",
    "\n",
    "arr.sort(key=lambda x: x[1])\n",
    "ans = \"\"\n",
    "flag = True\n",
    "timer = min([0 if arr[i][1] <= i else 1 for i in range(n)])\n",
    "if timer == 0:\n",
    "    print(-1)\n",
    "else:\n",
    "    ans = \" \".join([str(x[0] + 1) for x in arr])\n",
    "    print(ans)\n",
    "\n"
   ]
  },
  {
   "cell_type": "code",
   "execution_count": 73,
   "metadata": {},
   "outputs": [
    {
     "name": "stdout",
     "output_type": "stream",
     "text": [
      "1 2 3\n"
     ]
    }
   ],
   "source": [
    "int(math.sqrt(7**2 + 7**2))\n",
    "a = \"3 2 1 \"\n",
    "a = a[::-1]\n",
    "print(a[1:])"
   ]
  }
 ],
 "metadata": {
  "kernelspec": {
   "display_name": "base",
   "language": "python",
   "name": "python3"
  },
  "language_info": {
   "codemirror_mode": {
    "name": "ipython",
    "version": 3
   },
   "file_extension": ".py",
   "mimetype": "text/x-python",
   "name": "python",
   "nbconvert_exporter": "python",
   "pygments_lexer": "ipython3",
   "version": "3.11.7"
  }
 },
 "nbformat": 4,
 "nbformat_minor": 2
}

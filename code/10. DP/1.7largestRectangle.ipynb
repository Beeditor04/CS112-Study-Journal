{
 "cells": [
  {
   "cell_type": "code",
   "execution_count": 9,
   "metadata": {},
   "outputs": [
    {
     "name": "stdout",
     "output_type": "stream",
     "text": [
      "6\n",
      "None\n"
     ]
    }
   ],
   "source": [
    "def largestRectRows(heights):\n",
    "    stac = []\n",
    "    maxArea = 0\n",
    "    for i, hei in enumerate(heights):\n",
    "        #1 Larger bar, push to stack\n",
    "        _, b = stac[-1] if stac else [0, 0]\n",
    "        if len(stac) == 0 or heights[i] > b:\n",
    "            stac.append((i, hei))\n",
    "        else:\n",
    "        #2 calc the area from <stack> to current, find max\n",
    "            while stac and stac[-1][1] > hei:\n",
    "                j, h = stac.pop()\n",
    "                maxArea = max(maxArea, h * (i - j))\n",
    "            stac.append((j, hei))\n",
    "    while stac: \n",
    "        j, h = stac.pop()\n",
    "        maxArea = max(maxArea, h * (i - j + 1))\n",
    "    return maxArea\n",
    "\n",
    "def maximalRectangle(matrix):\n",
    "    dp = [[0 for _ in range(len(matrix[0]))] for _ in range(len(matrix))]\n",
    "    dp[0] = matrix[0]\n",
    "    maxArea = 0\n",
    "    for i in range(1, len(matrix)):\n",
    "        for j in range(len(matrix[0])):\n",
    "            if matrix[i][j] == 1:\n",
    "                dp[i][j] = dp[i-1][j] + 1\n",
    "    for i in dp:\n",
    "        maxArea = max(maxArea, largestRectRows(i))\n",
    "    return maxArea\n",
    "\n",
    "n, k = map(int, input().split())\n",
    "arr = []\n",
    "for _ in range(k):\n",
    "    arr.append([int(i) for i in input().split()])\n",
    "\n",
    "print(maximalRectangle(arr))\n"
   ]
  },
  {
   "cell_type": "code",
   "execution_count": 4,
   "metadata": {},
   "outputs": [
    {
     "data": {
      "text/plain": [
       "[[1, 2], 1]"
      ]
     },
     "execution_count": 4,
     "metadata": {},
     "output_type": "execute_result"
    }
   ],
   "source": [
    "a = [0 ,1]\n",
    "a[0] = [1, 2]\n",
    "a\n"
   ]
  },
  {
   "cell_type": "code",
   "execution_count": null,
   "metadata": {},
   "outputs": [],
   "source": [
    "class Solution:\n",
    "    def largestRectangleArea(self, heights):\n",
    "        n = len(heights)\n",
    "        if n == 0:\n",
    "            return 0\n",
    "        \n",
    "        l, r = [-1] * n, [n] * n\n",
    "\n",
    "        for i in range(1, n):\n",
    "            p = i - 1\n",
    "            while p >= 0 and heights[p] >= heights[i]:\n",
    "                p = l[p]\n",
    "            l[i] = p\n",
    "\n",
    "        maxA = heights[-1] * (r[-1] - l[-1] - 1)\n",
    "        for i in range(n - 2, -1, -1):\n",
    "            p = i + 1\n",
    "            while p < n and heights[p] >= heights[i]:\n",
    "                p = r[p]\n",
    "            r[i] = p\n",
    "            maxA = max(maxA, heights[i] * (r[i] - l[i] - 1))\n",
    "        \n",
    "        return maxA\n",
    "\n",
    "    def maximalRectangle(self, matrix):\n",
    "        if not matrix:\n",
    "            return 0\n",
    "        \n",
    "        row, col = len(matrix), len(matrix[0])\n",
    "        if row == 1 and col == 1:\n",
    "            return int(matrix[0][0] == '1')\n",
    "\n",
    "        h = [0] * col\n",
    "        maxArea = 0\n",
    "\n",
    "        for i in range(row):\n",
    "            for j in range(col):\n",
    "                h[j] = 0 if matrix[i][j] == '0' else h[j] + 1\n",
    "\n",
    "            maxArea = max(maxArea, self.largestRectangleArea(h))\n",
    "\n",
    "        return maxArea\n"
   ]
  }
 ],
 "metadata": {
  "kernelspec": {
   "display_name": "base",
   "language": "python",
   "name": "python3"
  },
  "language_info": {
   "codemirror_mode": {
    "name": "ipython",
    "version": 3
   },
   "file_extension": ".py",
   "mimetype": "text/x-python",
   "name": "python",
   "nbconvert_exporter": "python",
   "pygments_lexer": "ipython3",
   "version": "3.11.7"
  }
 },
 "nbformat": 4,
 "nbformat_minor": 2
}

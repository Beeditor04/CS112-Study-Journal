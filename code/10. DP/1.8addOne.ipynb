{
 "cells": [
  {
   "cell_type": "code",
   "execution_count": 2,
   "metadata": {},
   "outputs": [
    {
     "name": "stdout",
     "output_type": "stream",
     "text": [
      "5\n",
      "2\n",
      "6\n",
      "4\n"
     ]
    }
   ],
   "source": [
    "def addOne(n, m):\n",
    "    n = str(n)\n",
    "    dp = [int(i) for i in n]\n",
    "    maxNum = max(dp)\n",
    "    while m > 0:\n",
    "        overflow = dp.count(maxNum) if maxNum < m else dp.count(10 - m)\n",
    "        temp = [1] * overflow\n",
    "        dp = [(dp[i] + ((10 - maxNum) if maxNum < m else m)) % 10  for i in range(len(dp))]\n",
    "        m -= (10 - maxNum) if maxNum < m else m\n",
    "        dp = dp + temp\n",
    "        maxNum = max(dp)\n",
    "\n",
    "    return len(dp)\n",
    "\n",
    "# T = int(input())\n",
    "# for i in range(T):\n",
    "#     n, m = map(int, input().split())\n",
    "#     print(addOne(n, m))\n",
    "\n",
    "print(addOne(1912, 1))\n",
    "print(addOne(5, 6))\n",
    "print(addOne(999, 1))\n",
    "print(addOne(88, 2))\n"
   ]
  },
  {
   "cell_type": "code",
   "execution_count": 191,
   "metadata": {},
   "outputs": [
    {
     "name": "stdout",
     "output_type": "stream",
     "text": [
      "2\n",
      "4\n",
      "8\n",
      "16\n",
      "32\n",
      "64\n",
      "128\n",
      "256\n",
      "512\n",
      "513\n"
     ]
    }
   ],
   "source": [
    "def addOne(a, m):\n",
    "    a = [int(i) for i in str(a)]\n",
    "    while m > 0:\n",
    "        div = 9 if m > 9 else m\n",
    "        temp = [(i + div) % 10 if (i + div) % 10 != i + div else -1 for i in a]\n",
    "        b = [(i + div) // 10 + (i + div) % 10 for i in a]\n",
    "        for _ in range(temp.count(-1)):\n",
    "            temp.remove(-1)\n",
    "        a = temp + b\n",
    "        m -= div\n",
    "\n",
    "    return len(a)\n",
    "\n",
    "# T = int(input())\n",
    "# for i in range(T):\n",
    "#     n, m = map(int, input().split())\n",
    "#     print(addOne(n, m))\n",
    "print(addOne(1, 9))\n",
    "print(addOne(1, 19))\n",
    "print(addOne(1, 29))\n",
    "print(addOne(1, 39))\n",
    "print(addOne(1, 49))\n",
    "print(addOne(1, 59))\n",
    "print(addOne(1, 69))\n",
    "print(addOne(1, 79))\n",
    "print(addOne(1, 89))\n",
    "print(addOne(1, 90))\n",
    "\n",
    "\n",
    "\n"
   ]
  },
  {
   "cell_type": "code",
   "execution_count": 16,
   "metadata": {},
   "outputs": [
    {
     "data": {
      "text/plain": [
       "2"
      ]
     },
     "execution_count": 16,
     "metadata": {},
     "output_type": "execute_result"
    }
   ],
   "source": [
    "def addOne(a, m):\n",
    "    a = [int(i) for i in str(a)]\n",
    "    while m > 0:\n",
    "        div = 9 if m > 9 else m\n",
    "        temp = [(i + div) % 10 if (i + div) % 10 != i + div else -1 for i in a]\n",
    "        b = [(i + div) // 10 + (i + div) % 10 for i in a]\n",
    "        for _ in range(temp.count(-1)):\n",
    "            temp.remove(-1)\n",
    "        a = temp + b\n",
    "        m -= div\n",
    "\n",
    "    return a\n",
    "\n",
    "# T = int(input())\n",
    "# for i in range(T):\n",
    "#     n, m = map(int, input().split())\n",
    "#     print(addOne(n, m))\n",
    "\n",
    "print(addOne(1912, 9))\n",
    "\n",
    "\n"
   ]
  }
 ],
 "metadata": {
  "kernelspec": {
   "display_name": "base",
   "language": "python",
   "name": "python3"
  },
  "language_info": {
   "codemirror_mode": {
    "name": "ipython",
    "version": 3
   },
   "file_extension": ".py",
   "mimetype": "text/x-python",
   "name": "python",
   "nbconvert_exporter": "python",
   "pygments_lexer": "ipython3",
   "version": "3.11.7"
  }
 },
 "nbformat": 4,
 "nbformat_minor": 2
}

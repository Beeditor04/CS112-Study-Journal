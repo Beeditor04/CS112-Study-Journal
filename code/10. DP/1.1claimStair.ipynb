{
 "cells": [
  {
   "cell_type": "markdown",
   "metadata": {},
   "source": [
    "link: https://leetcode.com/problems/climbing-stairs/description/\n",
    "#### Initution:\n",
    "- `n = 1`, you got:\n",
    "1. 1 step\n",
    "\n",
    "- `n = 2`, you got:\n",
    "1. 1 + 1\n",
    "2. 2\n",
    "\n",
    "- `n = 3`, you got:\n",
    "1. 1 + 1 + 1\n",
    "2. 2 + 1\n",
    "3. 1 + 2\n",
    "\n",
    "-> Recurrence relation subproblems:\n",
    "    `f(3) = f(2) + f(1)`"
   ]
  },
  {
   "attachments": {
    "image.png": {
     "image/png": "[encoded data removed]"
    }
   },
   "cell_type": "markdown",
   "metadata": {},
   "source": [
    "### 1. Recursion approach (got time exceeded)\n",
    "![image.png](attachment:image.png)"
   ]
  },
  {
   "cell_type": "code",
   "execution_count": 4,
   "metadata": {},
   "outputs": [
    {
     "name": "stdout",
     "output_type": "stream",
     "text": [
      "89\n"
     ]
    }
   ],
   "source": [
    "class Solution:\n",
    "    def climbStairs(self, n: int) -> int:\n",
    "        if n == 1: return 1\n",
    "        if n == 2: return 2\n",
    "        return self.climbStairs(n - 1) + self.climbStairs(n - 2)\n",
    "    \n",
    "ans = Solution()\n",
    "print(ans.climbStairs(10))"
   ]
  },
  {
   "cell_type": "markdown",
   "metadata": {},
   "source": [
    "### 2. Upgrade from recursion using DP (Memoization)"
   ]
  },
  {
   "cell_type": "code",
   "execution_count": 9,
   "metadata": {},
   "outputs": [
    {
     "name": "stdout",
     "output_type": "stream",
     "text": [
      "2\n"
     ]
    }
   ],
   "source": [
    "class Solution:\n",
    "    def climbStairs(self, n: int) -> int:\n",
    "        dp = [0] * (n + 1)\n",
    "        def recur(n: int) -> int:\n",
    "            if n == 1: return 1\n",
    "            if n == 2: return 2\n",
    "            if (dp[n] != 0): return dp[n]       ## add condition: if value in dp exists, return already\n",
    "            dp[n] = recur(n - 1) + recur(n - 2) ## the result of n is stored in dp[n]\n",
    "            return dp[n]\n",
    "        return recur(n)\n",
    "    \n",
    "ans = Solution()\n",
    "print(ans.climbStairs(2))"
   ]
  },
  {
   "cell_type": "markdown",
   "metadata": {},
   "source": [
    "### 3. Upgrade from recursion using Tabulation (iterative)\n",
    "Now you can see the **first** and **second** subproblems, and how it affects the later results, you can try Bottom Up"
   ]
  },
  {
   "cell_type": "code",
   "execution_count": 14,
   "metadata": {},
   "outputs": [
    {
     "name": "stdout",
     "output_type": "stream",
     "text": [
      "5\n"
     ]
    }
   ],
   "source": [
    "class Solution:\n",
    "    def climbStairs(self, n: int) -> int:\n",
    "        dp = [0] * (n + 1)\n",
    "        dp[0] = 1\n",
    "        dp[1] = 2\n",
    "        for i in range(2, n):\n",
    "            dp[i] = dp[i - 1] + dp[i - 2]\n",
    "        return dp[n - 1]    \n",
    "    \n",
    "ans = Solution()\n",
    "print(ans.climbStairs(4))"
   ]
  }
 ],
 "metadata": {
  "kernelspec": {
   "display_name": "base",
   "language": "python",
   "name": "python3"
  },
  "language_info": {
   "codemirror_mode": {
    "name": "ipython",
    "version": 3
   },
   "file_extension": ".py",
   "mimetype": "text/x-python",
   "name": "python",
   "nbconvert_exporter": "python",
   "pygments_lexer": "ipython3",
   "version": "3.11.7"
  }
 },
 "nbformat": 4,
 "nbformat_minor": 2
}

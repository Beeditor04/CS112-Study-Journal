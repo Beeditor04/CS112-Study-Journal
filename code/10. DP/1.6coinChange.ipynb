{
 "cells": [
  {
   "cell_type": "markdown",
   "metadata": {},
   "source": [
    "Link: https://leetcode.com/problems/coin-change/description/"
   ]
  },
  {
   "cell_type": "markdown",
   "metadata": {},
   "source": [
    "#### Starter approach: Backtracking\n",
    "- go until find a solution, then save to compare the others"
   ]
  },
  {
   "cell_type": "code",
   "execution_count": 48,
   "metadata": {},
   "outputs": [
    {
     "name": "stdout",
     "output_type": "stream",
     "text": [
      "-1\n"
     ]
    }
   ],
   "source": [
    "class Solution:\n",
    "    def coinChange(self, coins: list[int], amount: int) -> int:\n",
    "        dp = [0]*(amount + 1)\n",
    "\n",
    "        def backtracking(coins, amount, count):\n",
    "            min_coins = int(10e9); temp = 0\n",
    "            # if dp[amount] != 0:\n",
    "            #     return dp[amount]\n",
    "            if amount == 0:\n",
    "                return 0\n",
    "            if amount < 0:\n",
    "                return -1\n",
    "            for coin in coins:\n",
    "                temp = backtracking(coins, amount - coin, count + 1)\n",
    "                if temp != -1:\n",
    "                    min_coins = min(min_coins, temp + 1)\n",
    "            # dp[amount] = min_coins\n",
    "            return min_coins\n",
    "        \n",
    "        min_coins = backtracking(coins, amount, 0)\n",
    "        return min_coins if min_coins != int(10e9) else -1\n",
    "        \n",
    "coins = [2]\n",
    "amount = 3\n",
    "sol = Solution()\n",
    "print(sol.coinChange(coins, amount))"
   ]
  },
  {
   "cell_type": "markdown",
   "metadata": {},
   "source": [
    "#### Analyze the situation: getting `time exceeded` for repeating the process (10% access)\n",
    "- when recursion go to `3`: it has to go through 1 + 1 + 1 but we already know `2` change is `2` so the shortcut would be 2 + 1 \\\n",
    "-> add the array to store the repeated situation"
   ]
  },
  {
   "cell_type": "code",
   "execution_count": 52,
   "metadata": {},
   "outputs": [
    {
     "name": "stdout",
     "output_type": "stream",
     "text": [
      "3\n"
     ]
    }
   ],
   "source": [
    "class Solution:\n",
    "    def coinChange(self, coins: list[int], amount: int) -> int:\n",
    "        dp = [0]*(amount + 1)\n",
    "\n",
    "        def backtracking(coins, amount, count):\n",
    "            min_coins = int(10e9); temp = 0\n",
    "            if amount == 0:\n",
    "                return 0\n",
    "            if amount < 0:\n",
    "                return -1\n",
    "            if dp[amount] != 0:\n",
    "                return dp[amount]\n",
    "            for coin in coins:\n",
    "                temp = backtracking(coins, amount - coin, count + 1)\n",
    "                if temp != -1:\n",
    "                    min_coins = min(min_coins, temp + 1)\n",
    "            dp[amount] = min_coins\n",
    "            return min_coins\n",
    "        \n",
    "        min_coins = backtracking(coins, amount, 0)\n",
    "        return min_coins if min_coins != int(10e9) else -1\n",
    "        \n",
    "coins = [1, 2, 5]\n",
    "amount = 11\n",
    "sol = Solution()\n",
    "print(sol.coinChange(coins, amount))"
   ]
  },
  {
   "cell_type": "markdown",
   "metadata": {},
   "source": [
    "Optimize your solution:"
   ]
  },
  {
   "cell_type": "code",
   "execution_count": 55,
   "metadata": {},
   "outputs": [
    {
     "name": "stdout",
     "output_type": "stream",
     "text": [
      "-1\n"
     ]
    }
   ],
   "source": [
    "class Solution:\n",
    "    def coinChange(self, coins: list[int], amount: int) -> int:\n",
    "        dp = [0]*(amount + 1)\n",
    "\n",
    "        if amount == 0:\n",
    "            return 0\n",
    "        if amount < min(coins):\n",
    "            return -1\n",
    "        if amount in coins:\n",
    "            return 1\n",
    "        for i in coins:\n",
    "            dp[i] = 1\n",
    "\n",
    "        def backtracking(coins, amount, count):\n",
    "            min_coins = int(10e9); temp = 0\n",
    "            if amount == 0:\n",
    "                return 0\n",
    "            if amount < 0:\n",
    "                return -1\n",
    "            if dp[amount] != 0:\n",
    "                return dp[amount]\n",
    "            for coin in coins:\n",
    "                temp = backtracking(coins, amount - coin, count + 1)\n",
    "                if temp != -1:\n",
    "                    min_coins = min(min_coins, temp + 1)\n",
    "            dp[amount] = min_coins\n",
    "            return min_coins\n",
    "        \n",
    "        min_coins = backtracking(coins, amount, 0)\n",
    "        return min_coins if min_coins != int(10e9) else -1\n",
    "        \n",
    "coins = [3]\n",
    "amount = 11\n",
    "sol = Solution()\n",
    "print(sol.coinChange(coins, amount))"
   ]
  },
  {
   "cell_type": "markdown",
   "metadata": {},
   "source": [
    "Iterative approach:"
   ]
  },
  {
   "cell_type": "code",
   "execution_count": 72,
   "metadata": {},
   "outputs": [
    {
     "data": {
      "text/plain": [
       "[1, 2, 7, 8]"
      ]
     },
     "execution_count": 72,
     "metadata": {},
     "output_type": "execute_result"
    }
   ],
   "source": [
    "arr = [1, 2, 5, 7, 8]\n",
    "arr[:2] + arr[3:]"
   ]
  },
  {
   "cell_type": "code",
   "execution_count": 64,
   "metadata": {},
   "outputs": [
    {
     "name": "stdout",
     "output_type": "stream",
     "text": [
      "3\n"
     ]
    }
   ],
   "source": [
    "class Solution:\n",
    "    def coinChange(self, coins: list[int], amount: int) -> int:\n",
    "        dp = [int(10e9)]*(amount + 1)\n",
    "\n",
    "        if amount == 0:\n",
    "            return 0\n",
    "        if amount < min(coins):\n",
    "            return -1\n",
    "        if amount in coins:\n",
    "            return 1\n",
    "        dp[0] = 0\n",
    "        for i in range(1, amount + 1):\n",
    "            for j in coins:\n",
    "                if (i - j) >= 0:\n",
    "                    dp[i] = min(dp[i], dp[i - j] + 1)\n",
    "        return dp[amount] if dp[amount] != int(10e9) else -1\n",
    "\n",
    "        \n",
    "        \n",
    "coins = [1, 2, 5]\n",
    "amount = 11\n",
    "sol = Solution()\n",
    "print(sol.coinChange(coins, amount))"
   ]
  },
  {
   "cell_type": "code",
   "execution_count": 24,
   "metadata": {},
   "outputs": [
    {
     "name": "stdout",
     "output_type": "stream",
     "text": [
      "Yes\n"
     ]
    }
   ],
   "source": [
    "def moneyChange(money, amount):\n",
    "    dp = [int(10e9)]*(amount + 1)\n",
    "    dp[0] = 0\n",
    "    dp2 = [set()]*(amount + 1)\n",
    "    if len(money) == 0:\n",
    "        return 'Yes'\n",
    "    if amount < min(money):\n",
    "        return 'No'\n",
    "    if amount in money:\n",
    "        return 'Yes'\n",
    "    for i in range(1, amount + 1):\n",
    "        moneyUsed = set()\n",
    "        for j in range(len(money)):\n",
    "            if (i - money[j]) >= 0 and j not in dp2[i - money[j]] and dp[i - money[j]] != int(10e9):\n",
    "                if dp[i] != min(dp[i], dp[i - money[j]] + 1):\n",
    "                    moneyUsed.add(j)\n",
    "                    moneyUsed = moneyUsed | dp2[i - money[j]]\n",
    "                dp[i] = min(dp[i], dp[i - money[j]] + 1)\n",
    "\n",
    "        dp2[i] = moneyUsed\n",
    "    return 'Yes' if dp[amount] != int(10e9) else 'No'\n",
    "\n",
    "    \n",
    "\n",
    "n, k = map(int, input().split())\n",
    "arr = []\n",
    "for i in range(n):\n",
    "    arr.append(int(input()))\n",
    "\n",
    "# n, k = 5, 11\n",
    "# arr = [1, 2, 5] #No\n",
    "\n",
    "# n, k = 5, 11\n",
    "# arr = [1, 2, 4, 8, 16]\n",
    "\n",
    "# n, k = 5, 23\n",
    "# arr = [1, 2, 4, 8, 16]\n",
    "\n",
    "# n, k = 5, 13\n",
    "# arr = [1, 5, 5, 10, 10]\n",
    "\n",
    "# n, k = 5, 11\n",
    "# arr = [1, 5, 5, 9, 9]\n",
    "print(moneyChange(arr, k))"
   ]
  },
  {
   "cell_type": "code",
   "execution_count": 13,
   "metadata": {},
   "outputs": [
    {
     "name": "stdout",
     "output_type": "stream",
     "text": [
      "1\n"
     ]
    }
   ],
   "source": [
    "class Solution:\n",
    "    def subarraySum(self, nums: list[int], k: int) -> int:\n",
    "        dp = [int(10e9)]*(k + 1)\n",
    "        dp[0] = 0\n",
    "        dp2 = [set()]*(k + 1)\n",
    "        if k < min(nums):\n",
    "            return -1\n",
    "        if k in nums:\n",
    "            return 1\n",
    "        for i in range(1, k + 1):\n",
    "            moneyUsed = set()\n",
    "            for j in range(len(nums)):\n",
    "                if (i - nums[j]) >= 0 and j not in dp2[i - nums[j]] and dp[i - nums[j]] != int(10e9):\n",
    "                    if dp[i] != min(dp[i], dp[i - nums[j]] + 1):\n",
    "                        moneyUsed.add(j)\n",
    "                        moneyUsed = moneyUsed | dp2[i - nums[j]]\n",
    "                    dp[i] = min(dp[i], dp[i - nums[j]] + 1)\n",
    "\n",
    "            dp2[i] = moneyUsed\n",
    "        return dp[k] if dp[k] != int(10e9) else -1\n",
    "    \n",
    "\n",
    "ans = Solution()\n",
    "print(ans.subarraySum([1, 2, 3], 3))"
   ]
  },
  {
   "cell_type": "code",
   "execution_count": 11,
   "metadata": {},
   "outputs": [
    {
     "data": {
      "text/plain": [
       "{1, 2}"
      ]
     },
     "execution_count": 11,
     "metadata": {},
     "output_type": "execute_result"
    }
   ],
   "source": [
    "a = set()\n",
    "a.add(1)\n",
    "b = set()\n",
    "b.add(2)\n",
    "a | b"
   ]
  }
 ],
 "metadata": {
  "kernelspec": {
   "display_name": "base",
   "language": "python",
   "name": "python3"
  },
  "language_info": {
   "codemirror_mode": {
    "name": "ipython",
    "version": 3
   },
   "file_extension": ".py",
   "mimetype": "text/x-python",
   "name": "python",
   "nbconvert_exporter": "python",
   "pygments_lexer": "ipython3",
   "version": "3.11.7"
  }
 },
 "nbformat": 4,
 "nbformat_minor": 2
}

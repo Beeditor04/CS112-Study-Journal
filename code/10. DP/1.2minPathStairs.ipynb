{
 "cells": [
  {
   "cell_type": "markdown",
   "metadata": {},
   "source": [
    "link: https://leetcode.com/problems/min-cost-climbing-cost/description/\n",
    "### Initution\n",
    "n = 0: cost = []\n",
    "- `mincost[0] = 0`\n",
    "\n",
    "n = 1: cost = [10]\n",
    "- `mincost[1] = cost[0]`\n",
    "\n",
    "n = 2: cost = [10, 20]\n",
    "- `mincost[2] = cost[1] + min(mincost[0], mincost[1])`\n",
    "\n",
    "n = 3: cost = [10, 15, 20]\n",
    "- `mincost[3] = cost[2] + min(mincost[1], mincost[2])` \n",
    "\n",
    "-> Recurrence relation: `mincost[n] = cost[n-1] + min(mincost[n-2], mincost[n-1])`"
   ]
  },
  {
   "cell_type": "code",
   "execution_count": 4,
   "metadata": {},
   "outputs": [
    {
     "name": "stdout",
     "output_type": "stream",
     "text": [
      "15\n"
     ]
    }
   ],
   "source": [
    "class Solution:\n",
    "    def minCostClimbingStairs(self, cost: list[int]) -> int:\n",
    "        ## Base case\n",
    "        n = len(cost)\n",
    "        def recur(cost, n):\n",
    "            if n < 0: return 0\n",
    "            if n in (0, 1): return cost[n]\n",
    "            return cost[n] + min(recur(cost, n - 1), recur(cost, n - 2))\n",
    "        return min(recur(cost, n - 1), recur(cost, n - 2))\n",
    "    \n",
    "ans = Solution()\n",
    "print(ans.minCostClimbingStairs([10, 15, 20])) # 15"
   ]
  },
  {
   "cell_type": "code",
   "execution_count": 5,
   "metadata": {},
   "outputs": [
    {
     "name": "stdout",
     "output_type": "stream",
     "text": [
      "15\n"
     ]
    }
   ],
   "source": [
    "class Solution:\n",
    "    def minCostClimbingStairs(self, cost: list[int]) -> int:\n",
    "        n = len(cost)\n",
    "        dp = [0]*(n + 1)\n",
    "        def recur(cost, n):\n",
    "            ## Base case\n",
    "            if n < 0: return 0\n",
    "            if n in (0, 1): return cost[n]\n",
    "            if dp[n] != 0: return dp[n]\n",
    "            dp[n] = cost[n] + min(recur(cost, n - 1), recur(cost, n - 2))\n",
    "            return dp[n]\n",
    "        return min(recur(cost, n - 1), recur(cost, n - 2))\n",
    "    \n",
    "ans = Solution()\n",
    "print(ans.minCostClimbingStairs([10, 15, 20])) # 15"
   ]
  },
  {
   "cell_type": "code",
   "execution_count": 9,
   "metadata": {},
   "outputs": [
    {
     "name": "stdout",
     "output_type": "stream",
     "text": [
      "25\n"
     ]
    }
   ],
   "source": [
    "class Solution:\n",
    "    def minCostClimbingStairs(self, cost: list[int]) -> int:\n",
    "        n = len(cost)\n",
    "        dp = [0]*(n + 1)\n",
    "\n",
    "        if n in (0, 1): return cost[n - 1]\n",
    "        if n == 2: return min(cost[0], cost[1])\n",
    "        dp[0] = cost[0]\n",
    "        dp[1] = cost[1]\n",
    "        for i in range(2, n):\n",
    "            dp[i] = cost[i] + min(dp[i - 1], dp[i - 2])\n",
    "        return min(dp[n - 1], dp[n - 2]) \n",
    "    \n",
    "ans = Solution()\n",
    "print(ans.minCostClimbingStairs([10, 5, 20, 40])) # 15"
   ]
  }
 ],
 "metadata": {
  "kernelspec": {
   "display_name": "base",
   "language": "python",
   "name": "python3"
  },
  "language_info": {
   "codemirror_mode": {
    "name": "ipython",
    "version": 3
   },
   "file_extension": ".py",
   "mimetype": "text/x-python",
   "name": "python",
   "nbconvert_exporter": "python",
   "pygments_lexer": "ipython3",
   "version": "3.11.7"
  }
 },
 "nbformat": 4,
 "nbformat_minor": 2
}

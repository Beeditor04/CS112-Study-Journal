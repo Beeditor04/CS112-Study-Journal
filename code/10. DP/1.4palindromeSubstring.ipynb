{
 "cells": [
  {
   "cell_type": "code",
   "execution_count": 10,
   "metadata": {},
   "outputs": [
    {
     "data": {
      "text/plain": [
       "['p', 'm', 'a', 'c', 'i', 'o', 'i', 'ii', 'ioi']"
      ]
     },
     "execution_count": 10,
     "metadata": {},
     "output_type": "execute_result"
    }
   ],
   "source": [
    "txt = \"ioicamp\"\n",
    "length = len(txt)\n",
    "dp = []\n",
    "def palindromeCount(txt):\n",
    "    for i in range(2**length):\n",
    "        binary = bin(i)[2:]\n",
    "        binary = '0'*(length-len(binary)) + binary\n",
    "        temp = ''.join(txt[i] for i in range(length) if binary[i] == '1')\n",
    "        if temp == temp[::-1] and temp != '':\n",
    "            dp.append(temp)\n",
    "    return dp\n",
    "    \n",
    "palindromeCount(txt)"
   ]
  },
  {
   "cell_type": "code",
   "execution_count": 13,
   "metadata": {},
   "outputs": [
    {
     "data": {
      "text/plain": [
       "'0b1000'"
      ]
     },
     "execution_count": 13,
     "metadata": {},
     "output_type": "execute_result"
    }
   ],
   "source": [
    "bin(8)"
   ]
  }
 ],
 "metadata": {
  "kernelspec": {
   "display_name": "base",
   "language": "python",
   "name": "python3"
  },
  "language_info": {
   "codemirror_mode": {
    "name": "ipython",
    "version": 3
   },
   "file_extension": ".py",
   "mimetype": "text/x-python",
   "name": "python",
   "nbconvert_exporter": "python",
   "pygments_lexer": "ipython3",
   "version": "3.11.7"
  }
 },
 "nbformat": 4,
 "nbformat_minor": 2
}

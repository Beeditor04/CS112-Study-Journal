{
 "cells": [
  {
   "cell_type": "markdown",
   "metadata": {},
   "source": [
    "Reference: \n",
    "- Type of problems: https://leetcode.com/discuss/general-discussion/458695/Dynamic-Programming-Patterns\n",
    "- Example problems: https://github.com/DhananjayGore/leetcode/tree/main/dsa-dynamic-programming\n",
    "- Chinese technique: https://github.com/labuladong/fucking-algorithm/blob/english/dynamic_programming/AnalysisOfDynamicProgramming.md\n",
    "- More: https://neetcode.io/"
   ]
  },
  {
   "cell_type": "markdown",
   "metadata": {},
   "source": [
    "### Principle\n",
    "- **DAC**: divide and Conquer, but instead of recursion, we store the sub-solutions to solve later\n",
    "- **Store**: yes store, `array` or `list`, avoid redundancy -> more effcient time\n",
    "- **Build Up**: last solu is a key for next solu\n",
    "\n",
    "### Core value\n",
    "- **State-transition equation**: find a best equation to store value\n",
    "- **Optimal Substructure**:\n",
    "- **Analyze pattern**: $$ Recursion -> memorization <=> Tabulation $$"
   ]
  },
  {
   "cell_type": "markdown",
   "metadata": {},
   "source": [
    "## Step by step how to build DP prefectly\n",
    "- 1. Find out how to solve using **Recursion**\n",
    "- 2. Avoid redundancy (repeated states) using `dp` (memoization)\n",
    "- 3. After that you may **found the pattern from the start** -> try the **Bottom Up Approach** (Tablulation)\n",
    "- 4. Some cases you only need 3 or 4 last variables, replace `dp` with 3 or 4 variables for faster implementation (fibo for instance)\n",
    "\n",
    "Example:\n",
    "- [Claim stairs problems](https://leetcode.com/problems/min-cost-climbing-stairs/solutions/476388/4-ways-step-by-step-from-recursion-top-down-dp-bottom-up-dp-fine-tuning/)\n",
    "- [Coin change problems](https://github.com/labuladong/fucking-algorithm/blob/english/dynamic_programming/AnalysisOfDynamicProgramming.md#2-the-problem-of-collecting-change)"
   ]
  },
  {
   "cell_type": "markdown",
   "metadata": {},
   "source": [
    "### Example: Build-up fibonancii function to dynamic programming"
   ]
  },
  {
   "cell_type": "code",
   "execution_count": 33,
   "metadata": {},
   "outputs": [
    {
     "name": "stdout",
     "output_type": "stream",
     "text": [
      "2\n"
     ]
    }
   ],
   "source": [
    "#Recursion approach\n",
    "def fib(n):\n",
    "    if (n == 1):\n",
    "        return 0\n",
    "    if (n <= 3): \n",
    "        return 1\n",
    "    return fib(n-1) + fib(n-2)\n",
    "print(fib(4))"
   ]
  },
  {
   "cell_type": "code",
   "execution_count": 32,
   "metadata": {},
   "outputs": [
    {
     "name": "stdout",
     "output_type": "stream",
     "text": [
      "2\n"
     ]
    },
    {
     "data": {
      "text/plain": [
       "'\\n    ATTENTION: dp is NOT A BEST APPLICATION for fibo, this is a visual example\\n'"
      ]
     },
     "execution_count": 32,
     "metadata": {},
     "output_type": "execute_result"
    }
   ],
   "source": [
    "#Basic example of DP: fibonancci\n",
    "def fib(n):\n",
    "    dp = [0]*20\n",
    "    dp[1] = dp[2] = 1\n",
    "    for i in range(3, n):\n",
    "        dp[i] = dp[i - 1] + dp[i - 2]\n",
    "    return dp[n-1]\n",
    "n = 4\n",
    "print(fib(n))\n",
    "\n",
    "\"\"\"\n",
    "    ATTENTION: dp is NOT A BEST APPLICATION for fibo, this is a visual example\n",
    "\"\"\""
   ]
  }
 ],
 "metadata": {
  "kernelspec": {
   "display_name": "base",
   "language": "python",
   "name": "python3"
  },
  "language_info": {
   "codemirror_mode": {
    "name": "ipython",
    "version": 3
   },
   "file_extension": ".py",
   "mimetype": "text/x-python",
   "name": "python",
   "nbconvert_exporter": "python",
   "pygments_lexer": "ipython3",
   "version": "3.11.7"
  }
 },
 "nbformat": 4,
 "nbformat_minor": 2
}

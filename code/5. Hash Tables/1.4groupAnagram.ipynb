{
 "cells": [
  {
   "cell_type": "markdown",
   "metadata": {},
   "source": [
    "Link: https://leetcode.com/problems/group-anagrams/description/\n",
    "#### Ideas: \n",
    "- the hash function will be the sum of ascii char in string"
   ]
  },
  {
   "cell_type": "code",
   "execution_count": 19,
   "metadata": {},
   "outputs": [
    {
     "name": "stdout",
     "output_type": "stream",
     "text": [
      "[['eat', 'tea', 'ate'], ['tan', 'nat'], ['bat']]\n"
     ]
    }
   ],
   "source": [
    "class Solution:\n",
    "    def groupAnagrams(self, strs: list[str]) -> list[list[str]]:\n",
    "        if len(strs) == 0:\n",
    "            return [[\"\"]]\n",
    "        hashTable = {}\n",
    "        def hashValue(s):\n",
    "            arr = sorted(s)\n",
    "            return \"\".join(arr)\n",
    "        for s in strs:\n",
    "            value = hashValue(s)\n",
    "            if value not in hashTable:\n",
    "                hashTable[value] = [s]\n",
    "            else:\n",
    "                hashTable[value].append(s)\n",
    "        return list(hashTable.values())\n",
    "    \n",
    "ans = Solution()\n",
    "print(ans.groupAnagrams([\"eat\",\"tea\",\"tan\",\"ate\",\"nat\",\"bat\"]))"
   ]
  },
  {
   "cell_type": "code",
   "execution_count": 16,
   "metadata": {},
   "outputs": [
    {
     "name": "stdout",
     "output_type": "stream",
     "text": [
      "3\n"
     ]
    }
   ],
   "source": []
  }
 ],
 "metadata": {
  "kernelspec": {
   "display_name": "base",
   "language": "python",
   "name": "python3"
  },
  "language_info": {
   "codemirror_mode": {
    "name": "ipython",
    "version": 3
   },
   "file_extension": ".py",
   "mimetype": "text/x-python",
   "name": "python",
   "nbconvert_exporter": "python",
   "pygments_lexer": "ipython3",
   "version": "3.11.7"
  }
 },
 "nbformat": 4,
 "nbformat_minor": 2
}

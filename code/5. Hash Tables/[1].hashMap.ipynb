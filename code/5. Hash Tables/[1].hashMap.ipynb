{
 "cells": [
  {
   "cell_type": "markdown",
   "metadata": {},
   "source": [
    "### Raw map built from list"
   ]
  },
  {
   "cell_type": "code",
   "execution_count": 52,
   "metadata": {},
   "outputs": [
    {
     "name": "stdout",
     "output_type": "stream",
     "text": [
      "-1\n",
      "1\n",
      "None\n",
      "[[1, 10]]\n"
     ]
    }
   ],
   "source": [
    "class MyHashMap:\n",
    "\n",
    "    def __init__(self):\n",
    "        self.hashMap = []\n",
    "    def put(self, key: int, value: int) -> None:\n",
    "        if self.hashMap == []:\n",
    "            self.hashMap.append([key, value])\n",
    "            return\n",
    "    \n",
    "        key_list = list(zip(*self.hashMap))[0] \n",
    "        if key in key_list:\n",
    "            self.hashMap[key_list.index(key)] = [key, value]\n",
    "        else:\n",
    "            self.hashMap.append([key, value])\n",
    "\n",
    "    def get(self, key: int) -> int:\n",
    "        if self.hashMap == []:\n",
    "            return -1\n",
    "        key_list = list(zip(*self.hashMap))[0] \n",
    "        if key not in key_list:\n",
    "            return -1\n",
    "        return self.hashMap[key_list.index(key)][1]\n",
    "\n",
    "    def remove(self, key: int) -> None:\n",
    "        if self.hashMap == []:\n",
    "            return\n",
    "        key_list = list(zip(*self.hashMap))[0] \n",
    "        if key in key_list:\n",
    "            self.hashMap.pop(key_list.index(key))\n",
    "        \n",
    "\n",
    "obj = MyHashMap()\n",
    "obj.put(1, 10)\n",
    "obj.put(1, 20)\n",
    "print(obj.get(3))\n",
    "obj.put(2, 1)\n",
    "print(obj.get(2))\n",
    "print(obj.remove(2))\n",
    "print(obj.hashMap)"
   ]
  },
  {
   "cell_type": "code",
   "execution_count": 6,
   "metadata": {},
   "outputs": [
    {
     "data": {
      "text/plain": [
       "(3, 5)"
      ]
     },
     "execution_count": 6,
     "metadata": {},
     "output_type": "execute_result"
    }
   ],
   "source": [
    "b = [(3, 5)]\n",
    "c = [3]\n",
    "\n",
    "c.index(3)\n",
    "\n",
    "b[c.index(3)]"
   ]
  },
  {
   "cell_type": "markdown",
   "metadata": {},
   "source": [
    "#### Using dict {}"
   ]
  },
  {
   "cell_type": "code",
   "execution_count": 39,
   "metadata": {},
   "outputs": [
    {
     "data": {
      "text/plain": [
       "0"
      ]
     },
     "execution_count": 39,
     "metadata": {},
     "output_type": "execute_result"
    }
   ],
   "source": [
    "class MyHashMap:\n",
    "\n",
    "    def __init__(self):\n",
    "        self.hashMap = {}\n",
    "\n",
    "    def put(self, key: int, value: int) -> None:\n",
    "        self.hashMap[key] = value\n",
    "\n",
    "    def get(self, key: int) -> int:\n",
    "        if key in self.hashMap:\n",
    "            return self.hashMap[key]\n",
    "        return -1\n",
    "\n",
    "    def remove(self, key: int) -> None:\n",
    "        self.hashMap.pop(key)\n",
    "\n",
    "obj = MyHashMap()\n",
    "obj.put(1, 10)\n",
    "obj.put(2, 20)\n",
    "print(obj.get(3))\n",
    "obj.put(2, 1)\n",
    "print(obj.get(2))\n",
    "print(obj.remove(2))\n",
    "print(obj.hashMap)"
   ]
  }
 ],
 "metadata": {
  "kernelspec": {
   "display_name": "base",
   "language": "python",
   "name": "python3"
  },
  "language_info": {
   "codemirror_mode": {
    "name": "ipython",
    "version": 3
   },
   "file_extension": ".py",
   "mimetype": "text/x-python",
   "name": "python",
   "nbconvert_exporter": "python",
   "pygments_lexer": "ipython3",
   "version": "3.11.7"
  }
 },
 "nbformat": 4,
 "nbformat_minor": 2
}

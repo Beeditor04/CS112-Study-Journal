{
 "cells": [
  {
   "cell_type": "markdown",
   "metadata": {},
   "source": [
    "Link: https://leetcode.com/problems/contains-duplicate-ii/submissions/1250701563/\n",
    "#### Ideas: \n",
    "- using hash or any DS that using (key, value), go through the `nums` and calc the condition if found a duplicate"
   ]
  },
  {
   "cell_type": "code",
   "execution_count": 3,
   "metadata": {},
   "outputs": [],
   "source": [
    "class Solution:\n",
    "    def containsNearbyDuplicate(self, nums: list[int], k: int) -> bool:\n",
    "        hashTable = {}\n",
    "        for i in range(len(nums)):\n",
    "            if (nums[i] not in hashTable):\n",
    "                hashTable[nums[i]] = i\n",
    "            else:\n",
    "                if abs(i - hashTable[nums[i]]) <= k:\n",
    "                    return True\n",
    "                hashTable[nums[i]] = i\n",
    "        return False"
   ]
  },
  {
   "cell_type": "code",
   "execution_count": 10,
   "metadata": {},
   "outputs": [
    {
     "name": "stdout",
     "output_type": "stream",
     "text": [
      "True\n"
     ]
    }
   ],
   "source": [
    "class Solution:\n",
    "    def containsNearbyDuplicate(self, nums: list[int], k: int) -> bool:\n",
    "        if k == 0:\n",
    "            return False\n",
    "        hashTable = {}\n",
    "        for i in range(len(nums)):\n",
    "            if (nums[i] in hashTable) and (abs(i - hashTable[nums[i]]) <= k):\n",
    "                return True\n",
    "            hashTable[nums[i]] = i\n",
    "        return False\n",
    "\n",
    "nums = [1,2,3,1, 2, 3]; k = 3\n",
    "ans = Solution()\n",
    "print(ans.containsNearbyDuplicate(nums, k))"
   ]
  },
  {
   "cell_type": "code",
   "execution_count": 6,
   "metadata": {},
   "outputs": [
    {
     "data": {
      "text/plain": [
       "True"
      ]
     },
     "execution_count": 6,
     "metadata": {},
     "output_type": "execute_result"
    }
   ],
   "source": [
    "a = [1, 2, 3, 5, 4 , 5, 10]; k = 2\n",
    "\n",
    "arr1 = [1, 2, 3, 5, 4] #import tung cai mot tu list \n",
    "j = 5\n",
    "j - arr1.index(5) <= k"
   ]
  }
 ],
 "metadata": {
  "kernelspec": {
   "display_name": "base",
   "language": "python",
   "name": "python3"
  },
  "language_info": {
   "codemirror_mode": {
    "name": "ipython",
    "version": 3
   },
   "file_extension": ".py",
   "mimetype": "text/x-python",
   "name": "python",
   "nbconvert_exporter": "python",
   "pygments_lexer": "ipython3",
   "version": "3.11.7"
  }
 },
 "nbformat": 4,
 "nbformat_minor": 2
}

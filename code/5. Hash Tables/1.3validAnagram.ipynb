{
 "cells": [
  {
   "cell_type": "markdown",
   "metadata": {},
   "source": [
    "https://leetcode.com/problems/valid-anagram/submissions/1250633134/"
   ]
  },
  {
   "cell_type": "markdown",
   "metadata": {},
   "source": [
    "Ideas:each string create `hash table`, return `True` if two hashes equals"
   ]
  },
  {
   "cell_type": "code",
   "execution_count": 8,
   "metadata": {},
   "outputs": [
    {
     "name": "stdout",
     "output_type": "stream",
     "text": [
      "False\n"
     ]
    }
   ],
   "source": [
    "class Solution:\n",
    "    def isAnagram(self, s: str, t: str) -> bool:\n",
    "        if len(t) != len(s): return False\n",
    "        a = {}; b = {}\n",
    "        for i in range(len(s)):\n",
    "            if s[i] in a:\n",
    "                a[s[i]] += 1\n",
    "            else:\n",
    "                a[s[i]] = 1\n",
    "            if t[i] in b:\n",
    "                b[t[i]] += 1\n",
    "            else:\n",
    "                b[t[i]] = 1\n",
    "        return a == b\n",
    "    \n",
    "ans = Solution()\n",
    "print(ans.isAnagram(\"anahram\", \"nagaram\"))"
   ]
  },
  {
   "cell_type": "code",
   "execution_count": 20,
   "metadata": {},
   "outputs": [
    {
     "data": {
      "text/plain": [
       "[['hehe', 'haha']]"
      ]
     },
     "execution_count": 20,
     "metadata": {},
     "output_type": "execute_result"
    }
   ],
   "source": [
    "str1 = \"anagram\"\n",
    "sum([ord(i) for i in str1])\n",
    "a = {\n",
    "    747: [\"hehe\"]\n",
    "}\n",
    "\n",
    "a[747].append(\"haha\")\n",
    "list(a.values())"
   ]
  }
 ],
 "metadata": {
  "kernelspec": {
   "display_name": "base",
   "language": "python",
   "name": "python3"
  },
  "language_info": {
   "codemirror_mode": {
    "name": "ipython",
    "version": 3
   },
   "file_extension": ".py",
   "mimetype": "text/x-python",
   "name": "python",
   "nbconvert_exporter": "python",
   "pygments_lexer": "ipython3",
   "version": "3.11.7"
  }
 },
 "nbformat": 4,
 "nbformat_minor": 2
}

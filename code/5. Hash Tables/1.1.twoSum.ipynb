{
 "cells": [
  {
   "cell_type": "markdown",
   "metadata": {},
   "source": [
    "link: https://leetcode.com/problems/two-sum/description/\n",
    "### HashMap initution\n",
    "- create an array `A`, each value in the `list` given, for example `list[i]`, we assign `A[list[i]]` = 1"
   ]
  },
  {
   "cell_type": "code",
   "execution_count": 5,
   "metadata": {},
   "outputs": [
    {
     "name": "stdout",
     "output_type": "stream",
     "text": [
      "[1, 2]\n"
     ]
    }
   ],
   "source": [
    "class Solution:\n",
    "    def twoSum(self, nums: list[int], target: int) -> list[int]:\n",
    "        hehe = {}\n",
    "        for i in range(len(nums)):\n",
    "            hehe[nums[i]] = i\n",
    "        for i in range(len(nums)):\n",
    "            if (target - nums[i] in hehe and i != hehe[target - nums[i]]):\n",
    "                return [i, hehe[target - nums[i]]]\n",
    "            \n",
    "ans = Solution()\n",
    "print(ans.twoSum([3, 2, 4], 6))"
   ]
  },
  {
   "cell_type": "markdown",
   "metadata": {},
   "source": [
    "### Better solution: you don't need to separate 2 loops\n",
    "reference: https://leetcode.com/problems/two-sum/editorial/\n",
    "> We reverse the code order because the answer order isn't matter, plus this solution go `bottom-up`, we find the previous before add into hash "
   ]
  },
  {
   "cell_type": "markdown",
   "metadata": {},
   "source": []
  },
  {
   "cell_type": "code",
   "execution_count": 6,
   "metadata": {},
   "outputs": [
    {
     "name": "stdout",
     "output_type": "stream",
     "text": [
      "[0, 1]\n"
     ]
    }
   ],
   "source": [
    "class Solution:\n",
    "    def twoSum(self, nums: list[int], target: int) -> list[int]:\n",
    "        hehe = {}\n",
    "        for i in range(len(nums)):\n",
    "            x = target - nums[i]\n",
    "            if x in hehe:\n",
    "                return [hehe[x], i]\n",
    "            hehe[nums[i]] = i\n",
    "            \n",
    "ans = Solution()\n",
    "print(ans.twoSum([3, 3], 6))"
   ]
  },
  {
   "cell_type": "code",
   "execution_count": 4,
   "metadata": {},
   "outputs": [
    {
     "data": {
      "text/plain": [
       "[3, 4, 5, 6]"
      ]
     },
     "execution_count": 4,
     "metadata": {},
     "output_type": "execute_result"
    }
   ],
   "source": [
    "nums = [1, 2, 3, 4, 5, 6]\n",
    "nums[2:]"
   ]
  }
 ],
 "metadata": {
  "kernelspec": {
   "display_name": "base",
   "language": "python",
   "name": "python3"
  },
  "language_info": {
   "codemirror_mode": {
    "name": "ipython",
    "version": 3
   },
   "file_extension": ".py",
   "mimetype": "text/x-python",
   "name": "python",
   "nbconvert_exporter": "python",
   "pygments_lexer": "ipython3",
   "version": "3.11.7"
  }
 },
 "nbformat": 4,
 "nbformat_minor": 2
}

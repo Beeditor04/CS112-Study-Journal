{
 "cells": [
  {
   "cell_type": "markdown",
   "metadata": {},
   "source": [
    "link: https://leetcode.com/problems/intersection-of-two-arrays-ii/\n",
    "ideas: hashMap `num1`, then each number in `num2`, check in hash"
   ]
  },
  {
   "cell_type": "code",
   "execution_count": 1,
   "metadata": {},
   "outputs": [
    {
     "name": "stdout",
     "output_type": "stream",
     "text": [
      "[2, 2]\n"
     ]
    }
   ],
   "source": [
    "class Solution:\n",
    "    def intersect(self, nums1: list[int], nums2: list[int]) -> list[int]:\n",
    "        hashTable = {}\n",
    "        result = []\n",
    "        for i in nums1:\n",
    "            if i in hashTable:\n",
    "                hashTable[i] += 1\n",
    "            else:\n",
    "                hashTable[i] = 1\n",
    "        for i in nums2:\n",
    "            if i in hashTable and hashTable[i] > 0:\n",
    "                result.append(i)\n",
    "                hashTable[i] -= 1\n",
    "        return result\n",
    "    \n",
    "ans = Solution()\n",
    "print(ans.intersect([1,2,2,1], [2,2]))"
   ]
  }
 ],
 "metadata": {
  "kernelspec": {
   "display_name": "base",
   "language": "python",
   "name": "python3"
  },
  "language_info": {
   "codemirror_mode": {
    "name": "ipython",
    "version": 3
   },
   "file_extension": ".py",
   "mimetype": "text/x-python",
   "name": "python",
   "nbconvert_exporter": "python",
   "pygments_lexer": "ipython3",
   "version": "3.11.7"
  }
 },
 "nbformat": 4,
 "nbformat_minor": 2
}

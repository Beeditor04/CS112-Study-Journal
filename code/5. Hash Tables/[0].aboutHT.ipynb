{
 "cells": [
  {
   "cell_type": "markdown",
   "metadata": {},
   "source": [
    "### ToC:\n",
    "- [1. About hash](#1-there-are-two-different-kinds-of-hash-tables-hash-set-and-hash-map)\n",
    "- [2. Core ideas](#2-main-idea)\n",
    "- [3. How to hash](#3-how-to-hash)\n",
    "- [4, Avoid Collision](#4-collision)"
   ]
  },
  {
   "cell_type": "markdown",
   "metadata": {},
   "source": [
    "Reference: \n",
    "- `Hashing.pdf` in DSA folders \n",
    "-  https://leetcode.com/explore/learn/card/hash-table/182/practical-applications/1140/\n"
   ]
  },
  {
   "cell_type": "markdown",
   "metadata": {},
   "source": [
    "#### 1. There are two different kinds of hash tables: **hash set** and **hash map.**\n",
    "\n",
    "- The `hash set`: list + `set()`\n",
    "- The `hash table`: `linked list` - (key, value) pairs \\\n",
    "<a><img src=\"./image.png\" width=\"300px\"></a>"
   ]
  },
  {
   "cell_type": "markdown",
   "metadata": {},
   "source": [
    "---"
   ]
  },
  {
   "cell_type": "markdown",
   "metadata": {},
   "source": [
    "#### 2. Main idea\n",
    "- Map large integers into smaller ones\n",
    "- Map non-integers into integers"
   ]
  },
  {
   "cell_type": "markdown",
   "metadata": {},
   "source": [
    "---"
   ]
  },
  {
   "cell_type": "markdown",
   "metadata": {},
   "source": [
    "#### 3. How to hash \n",
    "- Division method: Choosing `prime number`\n",
    "- Multiplication method: $$ floor(m*(`math-stuff`)) or floor(m*(k*A - floor(k*A))) $$\n",
    "where A is the golden ratio (0.618)\n",
    "- String: sum each words then divide,..."
   ]
  },
  {
   "cell_type": "markdown",
   "metadata": {},
   "source": [
    "---"
   ]
  },
  {
   "cell_type": "markdown",
   "metadata": {},
   "source": [
    "#### 4. Collision\n",
    "- Separate Chaining\n",
    "- Linear/Quadratic Probing: if it exists, move on linearly, quadratically\n",
    "- Double hashing: using 2 hash functions"
   ]
  },
  {
   "cell_type": "code",
   "execution_count": null,
   "metadata": {},
   "outputs": [],
   "source": [
    "a = dict()\n",
    "b = set()"
   ]
  },
  {
   "cell_type": "code",
   "execution_count": null,
   "metadata": {},
   "outputs": [],
   "source": []
  }
 ],
 "metadata": {
  "language_info": {
   "name": "python"
  }
 },
 "nbformat": 4,
 "nbformat_minor": 2
}

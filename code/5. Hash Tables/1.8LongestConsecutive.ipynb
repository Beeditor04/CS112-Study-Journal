{
 "cells": [
  {
   "cell_type": "markdown",
   "metadata": {},
   "source": [
    "https://leetcode.com/problems/longest-consecutive-sequence/\n",
    "Reference: https://www.youtube.com/watch?v=P6RZZMu_maU\n",
    "\n",
    "#### Ideas:\n",
    "because the consecutive sequences **require the diff exactly 1**, so you can manipulate with the number \n",
    "- Find the smallest number in the sequences by going through the list, check if `a[i] - 1` in the list, if not then `a[i]` is the smallest\n",
    "    -> Using HashSet"
   ]
  },
  {
   "cell_type": "code",
   "execution_count": 2,
   "metadata": {},
   "outputs": [
    {
     "name": "stdout",
     "output_type": "stream",
     "text": [
      "4\n"
     ]
    }
   ],
   "source": [
    "class Solution:\n",
    "    def longestConsecutive(self, nums: list[int]) -> int:\n",
    "        temp = set(nums)\n",
    "        longest = 0\n",
    "        for i in nums:\n",
    "            if i - 1 not in temp:  \n",
    "                count = 1\n",
    "                while (i + 1) in temp:\n",
    "                    count += 1 \n",
    "                    i += 1\n",
    "                longest = count if count > longest else longest\n",
    "        return longest\n",
    "    \n",
    "ans = Solution()\n",
    "print(ans.longestConsecutive([100, 4, 200, 1, 3, 2]))\n"
   ]
  },
  {
   "cell_type": "markdown",
   "metadata": {},
   "source": [
    "Optimize: increase the `count` by 1 is same as `i`, so you remove it"
   ]
  },
  {
   "cell_type": "code",
   "execution_count": null,
   "metadata": {},
   "outputs": [],
   "source": [
    "class Solution:\n",
    "    def longestConsecutive(self, nums: list[int]) -> int:  \n",
    "        set_nums = set(nums)\n",
    "        longest = 0\n",
    "\n",
    "        for num in set_nums:\n",
    "            if (num-1) not in set_nums:\n",
    "                length = 1\n",
    "                while (num + length) in set_nums:\n",
    "                    length += 1\n",
    "                if length > longest:\n",
    "                    longest = length\n",
    "        return longest"
   ]
  }
 ],
 "metadata": {
  "kernelspec": {
   "display_name": "base",
   "language": "python",
   "name": "python3"
  },
  "language_info": {
   "codemirror_mode": {
    "name": "ipython",
    "version": 3
   },
   "file_extension": ".py",
   "mimetype": "text/x-python",
   "name": "python",
   "nbconvert_exporter": "python",
   "pygments_lexer": "ipython3",
   "version": "3.11.7"
  }
 },
 "nbformat": 4,
 "nbformat_minor": 2
}

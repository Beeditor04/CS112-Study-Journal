{
 "cells": [
  {
   "cell_type": "markdown",
   "metadata": {},
   "source": [
    "https://leetcode.com/problems/isomorphic-strings/description/\n",
    "- Ideas: hash table, `hashMap = {}` \\\n",
    "\n",
    "`\"egg\"`, `\"add\"` \\\n",
    "e -> a \\\n",
    "g -> d \\\n",
    "g in `hashMap`, `hashMap[g]` = other string ? continue : return false"
   ]
  },
  {
   "cell_type": "code",
   "execution_count": 27,
   "metadata": {},
   "outputs": [
    {
     "name": "stdout",
     "output_type": "stream",
     "text": [
      "True\n"
     ]
    }
   ],
   "source": [
    "class Solution:\n",
    "    def isIsomorphic(self, s: str, t: str) -> bool:\n",
    "        if (len(s) != len(t)):\n",
    "            return False\n",
    "        hashMap = {}\n",
    "        for i in range(len(s)):\n",
    "            if s[i] not in hashMap and t[i] not in hashMap.values():\n",
    "                hashMap[s[i]] = t[i]\n",
    "            else:\n",
    "                #2 Case 2: s[i] not in hashMap and t[i] in hashMap.values()\n",
    "                if s[i] not in hashMap and t[i] in hashMap.values():\n",
    "                    return False\n",
    "                #1 Case 1: s[i] in hashMap and t[i] not in hashMap.values()\n",
    "                elif hashMap[s[i]] != t[i]:\n",
    "                    return False\n",
    "        return True\n",
    "    \n",
    "ans = Solution()\n",
    "print(ans.isIsomorphic(\"egg\", \"abb\")) # True"
   ]
  },
  {
   "cell_type": "code",
   "execution_count": 5,
   "metadata": {},
   "outputs": [
    {
     "data": {
      "text/plain": [
       "dict_values(['b', 'd'])"
      ]
     },
     "execution_count": 5,
     "metadata": {},
     "output_type": "execute_result"
    }
   ],
   "source": [
    "hash = {\n",
    "    \"a\": \"b\",\n",
    "    \"c\": \"d\"\n",
    "}\n",
    "\n",
    "hash.values()"
   ]
  }
 ],
 "metadata": {
  "kernelspec": {
   "display_name": "base",
   "language": "python",
   "name": "python3"
  },
  "language_info": {
   "codemirror_mode": {
    "name": "ipython",
    "version": 3
   },
   "file_extension": ".py",
   "mimetype": "text/x-python",
   "name": "python",
   "nbconvert_exporter": "python",
   "pygments_lexer": "ipython3",
   "version": "3.11.7"
  }
 },
 "nbformat": 4,
 "nbformat_minor": 2
}

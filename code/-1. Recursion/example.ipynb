{
 "cells": [
  {
   "cell_type": "code",
   "execution_count": 3,
   "metadata": {},
   "outputs": [
    {
     "name": "stdout",
     "output_type": "stream",
     "text": [
      "1 2 3 4 5 6 7 8 9 10 10 9 8 7 6 5 4 3 2 1 "
     ]
    }
   ],
   "source": [
    "def rev(arr, index):\n",
    "    if (index == len(arr)):\n",
    "        return\n",
    "    print(arr[index],end=\" \")\n",
    "    rev(arr, index + 1)\n",
    "    \n",
    "arr = [1, 2, 3, 4, 5, 6, 7, 8, 9, 10]\n",
    "rev(arr, 0)"
   ]
  },
  {
   "cell_type": "code",
   "execution_count": 4,
   "metadata": {},
   "outputs": [
    {
     "name": "stdout",
     "output_type": "stream",
     "text": [
      "10\n"
     ]
    }
   ],
   "source": [
    "def maxnum(arr, index):\n",
    "    if (index == len(arr)):\n",
    "        return arr[index - 1]\n",
    "    temp = maxnum(arr, index + 1)\n",
    "    return arr[index] if arr[index] > temp else temp\n",
    "\n",
    "arr = [1, 2, 3, 4, 5, 6, 7, 8, 9, 10]\n",
    "print(maxnum(arr, 0))"
   ]
  },
  {
   "cell_type": "code",
   "execution_count": 4,
   "metadata": {},
   "outputs": [
    {
     "data": {
      "text/plain": [
       "[0, 1, 3, 6, 10, 15, 21, 28, 36, 45, 55]"
      ]
     },
     "execution_count": 4,
     "metadata": {},
     "output_type": "execute_result"
    }
   ],
   "source": [
    "def total(arr, index):\n",
    "    if (index == len(arr)):\n",
    "        return \n",
    "    arr[index] += index + arr[index - 1]\n",
    "    return total(arr, index + 1)\n",
    "\n",
    "arr = [0]*11\n",
    "total(arr, 0)\n",
    "arr\n"
   ]
  }
 ],
 "metadata": {
  "kernelspec": {
   "display_name": "base",
   "language": "python",
   "name": "python3"
  },
  "language_info": {
   "codemirror_mode": {
    "name": "ipython",
    "version": 3
   },
   "file_extension": ".py",
   "mimetype": "text/x-python",
   "name": "python",
   "nbconvert_exporter": "python",
   "pygments_lexer": "ipython3",
   "version": "3.11.7"
  }
 },
 "nbformat": 4,
 "nbformat_minor": 2
}

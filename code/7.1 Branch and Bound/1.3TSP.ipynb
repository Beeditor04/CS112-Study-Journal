{
 "cells": [
  {
   "cell_type": "code",
   "execution_count": 13,
   "metadata": {},
   "outputs": [
    {
     "name": "stdout",
     "output_type": "stream",
     "text": [
      "0 1 3 2 0\n"
     ]
    }
   ],
   "source": [
    "infi = int(1e9)\n",
    "\n",
    "def twoMins(arr, i):\n",
    "\tfirst, second = infi, infi\n",
    "\tfor j in range(n):\n",
    "\t\tif i == j:\n",
    "\t\t\tcontinue\n",
    "\t\tif arr[i][j] <= first:\n",
    "\t\t\tsecond = first\n",
    "\t\t\tfirst = arr[i][j]\n",
    "\t\tif arr[i][j] <= second and arr[i][j] > first:\n",
    "\t\t\tsecond = arr[i][j]\n",
    "\treturn first, second   \n",
    "\n",
    "def findPath(arr, lb, cost, level, curr_path, visited):\n",
    "\tglobal res\n",
    "\tif level == n:\t\n",
    "\t\tif arr[curr_path[level - 1]][curr_path[0]] != 0:\n",
    "\t\t\tcurr_res = cost + arr[curr_path[level - 1]][curr_path[0]]\n",
    "\t\t\tif curr_res < res:\n",
    "\t\t\t\tpath[:n + 1] = curr_path[:]\n",
    "\t\t\t\tpath[n] = curr_path[0]\n",
    "\t\t\t\tres = curr_res\n",
    "\t\treturn\n",
    "\n",
    "\tfor i in range(n):\n",
    "\t\tif (arr[curr_path[level-1]][i] != 0 and visited[i] == False):\n",
    "\t\t\ttemp = lb\n",
    "\t\t\tcost += arr[curr_path[level - 1]][i]\n",
    "\t\t\tfirst, second = twoMins(arr, curr_path[level - 1])\n",
    "\t\t\tlb -= (first + second) / 2\n",
    "\n",
    "\t\t\tif lb + cost < res:\n",
    "\t\t\t\tcurr_path[level] = i\n",
    "\t\t\t\tvisited[i] = True\n",
    "\t\t\t\tfindPath(arr, lb, cost, level + 1, curr_path, visited)\n",
    "\n",
    "\t\t\tcost -= arr[curr_path[level - 1]][i]\n",
    "\t\t\tlb = temp\n",
    "\t\t\tvisited = [False] * len(visited)\n",
    "\t\t\tfor j in range(level):\n",
    "\t\t\t\tif curr_path[j] != -1:\n",
    "\t\t\t\t\tvisited[curr_path[j]] = True\n",
    "\n",
    "def TravelSalemanProblems(arr):\n",
    "\tlb = 0\n",
    "\tcurr_path = [-1] * (n + 1)\n",
    "\tvisited = [False] * n\n",
    "\tfor i in range(n):\n",
    "\t\tfirst, second = twoMins(arr, i)\n",
    "\t\tlb += (first + second)\n",
    "\tlb = int(lb / 2)\n",
    "\tvisited[0] = True\n",
    "\tcurr_path[0] = 0\n",
    "\tfindPath(arr, lb, 0, 1, curr_path, visited)\n",
    "\n",
    "\n",
    "n = int(input())\n",
    "arr = []\n",
    "for i in range(n):\n",
    "    arr.append([int(i) for i in input().split()])\n",
    "\n",
    "\n",
    "path = [0] * (n + 1)\n",
    "visited = [False] * n\n",
    "res = infi\n",
    "ans = \"\"\n",
    "TravelSalemanProblems(arr)\n",
    "\n",
    "for i in path:\n",
    "    ans += str(i) + \" \"\n",
    "print(ans[:-1])\n"
   ]
  }
 ],
 "metadata": {
  "kernelspec": {
   "display_name": "base",
   "language": "python",
   "name": "python3"
  },
  "language_info": {
   "codemirror_mode": {
    "name": "ipython",
    "version": 3
   },
   "file_extension": ".py",
   "mimetype": "text/x-python",
   "name": "python",
   "nbconvert_exporter": "python",
   "pygments_lexer": "ipython3",
   "version": "3.11.7"
  }
 },
 "nbformat": 4,
 "nbformat_minor": 2
}

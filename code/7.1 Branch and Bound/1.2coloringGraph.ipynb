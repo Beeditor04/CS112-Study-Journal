{
 "cells": [
  {
   "cell_type": "code",
   "execution_count": 29,
   "metadata": {},
   "outputs": [
    {
     "name": "stdout",
     "output_type": "stream",
     "text": [
      "5\n"
     ]
    }
   ],
   "source": [
    "\n",
    "n = int(input())\n",
    "matrix = []\n",
    "for _ in range(n):\n",
    "    matrix.append([int(i) for i in input().split()])\n",
    "colorMin = max([i.count(1) for i in matrix]) + 1 #Greedy color theorem calc edges\n",
    "\n",
    "\"\"\"\n",
    "    vertex: đỉnh\n",
    "    edge: cạnh\n",
    "    pruning (lb): khi thêm màu > colorMin\n",
    "\"\"\"\n",
    "def isSafe(vertex, color, assigned):\n",
    "    for i in range(n):\n",
    "        if matrix[vertex][i] == 1 and assigned[i] == color:\n",
    "            return False\n",
    "    return True\n",
    "\n",
    "def backtracking(vertex, assigned):\n",
    "    global colorMin\n",
    "    if vertex == n:\n",
    "        count = max(assigned) + 1\n",
    "        colorMin = min(colorMin, count)\n",
    "        return\n",
    "    for color in range(colorMin):\n",
    "        if isSafe(vertex, color, assigned) and color <= colorMin:\n",
    "            assigned[vertex] = color\n",
    "            backtracking(vertex + 1, assigned)\n",
    "            assigned[vertex] = -1\n",
    "\n",
    "def colorMin_needed():\n",
    "    #assume each node from 0 -> n - 1 => using array to store color\n",
    "    assigned = [-1] * n\n",
    "    backtracking(0, assigned)\n",
    "    return colorMin\n",
    "\n",
    "\n",
    "# matrix = [\n",
    "#     [0, 1, 1, 1],\n",
    "#     [1, 0, 1, 1],\n",
    "#     [1, 1, 0, 0],\n",
    "#     [1, 1, 0, 0]\n",
    "# ]\n",
    "\n",
    "# matrix = [\n",
    "#     [0, 1, 1, 0, 0],\n",
    "#     [1, 0, 1, 1, 1],\n",
    "#     [1, 1, 0, 0, 0],\n",
    "#     [0, 1, 0, 0, 1],\n",
    "#     [0, 1, 0, 1, 0]\n",
    "# ]\n",
    "\n",
    "print(colorMin_needed())\n"
   ]
  }
 ],
 "metadata": {
  "kernelspec": {
   "display_name": "base",
   "language": "python",
   "name": "python3"
  },
  "language_info": {
   "codemirror_mode": {
    "name": "ipython",
    "version": 3
   },
   "file_extension": ".py",
   "mimetype": "text/x-python",
   "name": "python",
   "nbconvert_exporter": "python",
   "pygments_lexer": "ipython3",
   "version": "3.11.7"
  }
 },
 "nbformat": 4,
 "nbformat_minor": 2
}

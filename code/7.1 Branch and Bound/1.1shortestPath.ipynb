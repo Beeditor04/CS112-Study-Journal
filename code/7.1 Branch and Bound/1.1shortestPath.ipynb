{
 "cells": [
  {
   "cell_type": "code",
   "execution_count": 28,
   "metadata": {},
   "outputs": [
    {
     "name": "stdout",
     "output_type": "stream",
     "text": [
      "6\n"
     ]
    }
   ],
   "source": [
    "# m, n = 4,4\n",
    "# matrix = [\n",
    "#     [1, 1, 1, 1],\n",
    "#     [1, 0, 1, 1],\n",
    "#     [1, 1, 0, 1],\n",
    "#     [1, 1, 1, 1]\n",
    "# ]\n",
    "\n",
    "# end = (0, 1)\n",
    "# start = (3, 3)\n",
    "    \n",
    "\n",
    "# m, n = 5, 5\n",
    "# matrix = [\n",
    "#     [1, 0, 1, 0, 1],\n",
    "#     [1, 0, 1, 0, 1],\n",
    "#     [1, 0, 0, 0, 1],\n",
    "#     [1, 1, 1, 0, 1],\n",
    "#     [1, 1, 1, 1, 1]\n",
    "# ]\n",
    "# start = (4, 4)\n",
    "# end = (1, 0)\n",
    "\n",
    "m, n = input().split()\n",
    "m, n = int(m), int(n)\n",
    "matrix = []\n",
    "for _ in range(m):\n",
    "    matrix.append([int(i) for i in input().split()])\n",
    "start = input().split()\n",
    "end = input().split()\n",
    "end = (int(end[0]), int(end[1]))\n",
    "start = (int(start[0]), int(start[1]))\n",
    "\n",
    "Y = [1, 0, -1, 0]\n",
    "X = [0, 1, 0, -1]\n",
    "\n",
    "count = 1\n",
    "\n",
    "#! Cost = total steps + distance to end\n",
    "def shortestPath(matrix, m, n, count):\n",
    "    #* valid ? \n",
    "    if matrix[start[0]][start[1]] == 0 or matrix[end[0]][end[1]] == 0:\n",
    "        return -1\n",
    "    #* marked for dfs\n",
    "    visited = [[False for _ in range(n)] for _ in range(m)]\n",
    "    visited[start[0]][start[1]] = True\n",
    "\n",
    "    #* queue with sorted by Cost\n",
    "    queue = [(start[0], start[1], count, computeDist(start[0], start[1]))]\n",
    "    lb = 100000000\n",
    "\n",
    "    while queue:\n",
    "        x, y, count, dist = queue.pop(0)\n",
    "        if (x, y) == end:\n",
    "            lb = count\n",
    "        #* if cost > lb, prune the branch\n",
    "        if count + dist < lb:\n",
    "            for i in range(4):\n",
    "                newX = x + X[i]\n",
    "                newY = y + Y[i]\n",
    "                if newX >= 0 and newX < m and newY >= 0 and newY < n:\n",
    "                    if matrix[newX][newY] == 1 and not visited[newX][newY]:\n",
    "                        visited[newX][newY] = True\n",
    "                        queue.append((newX, newY, count + 1, computeDist(newX, newY)))\n",
    "            queue.sort(key=lambda x: x[3] + x[2])\n",
    "        \n",
    "    return -1 if lb == 100000000 else lb\n",
    "\n",
    "def computeDist(x, y):\n",
    "    return abs(x - end[0]) + abs(y - end[1])\n",
    "    \n",
    "\n",
    "print(shortestPath(matrix, m, n, count))\n",
    "    "
   ]
  }
 ],
 "metadata": {
  "kernelspec": {
   "display_name": "base",
   "language": "python",
   "name": "python3"
  },
  "language_info": {
   "codemirror_mode": {
    "name": "ipython",
    "version": 3
   },
   "file_extension": ".py",
   "mimetype": "text/x-python",
   "name": "python",
   "nbconvert_exporter": "python",
   "pygments_lexer": "ipython3",
   "version": "3.11.7"
  }
 },
 "nbformat": 4,
 "nbformat_minor": 2
}

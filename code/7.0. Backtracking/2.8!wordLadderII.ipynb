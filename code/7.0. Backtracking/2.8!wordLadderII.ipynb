{
 "cells": [
  {
   "cell_type": "markdown",
   "metadata": {},
   "source": [
    "Link: https://leetcode.com/problems/word-ladder-ii/description/\n",
    "### My initution\n",
    "- Backtracking:\n",
    "\n",
    "\n",
    "        \n"
   ]
  },
  {
   "cell_type": "code",
   "execution_count": 10,
   "metadata": {},
   "outputs": [
    {
     "data": {
      "text/plain": [
       "5"
      ]
     },
     "execution_count": 10,
     "metadata": {},
     "output_type": "execute_result"
    },
    {
     "ename": "",
     "evalue": "",
     "output_type": "error",
     "traceback": [
      "\u001b[1;31mThe Kernel crashed while executing code in the current cell or a previous cell. \n",
      "\u001b[1;31mPlease review the code in the cell(s) to identify a possible cause of the failure. \n",
      "\u001b[1;31mClick <a href='https://aka.ms/vscodeJupyterKernelCrash'>here</a> for more info. \n",
      "\u001b[1;31mView Jupyter <a href='command:jupyter.viewOutput'>log</a> for further details."
     ]
    }
   ],
   "source": [
    "class Solution:\n",
    "    def findLadders(self, beginWord: str, endWord: str, wordList: list[str]) -> list[list[str]]:\n",
    "        ans = []\n",
    "        track = [beginWord]\n",
    "        def isSafe(a, b):\n",
    "            diff = 1\n",
    "            for i in range(len(a)):\n",
    "                if a[i] != b[i]:\n",
    "                    diff -= 1\n",
    "                if diff < 0:\n",
    "                    return False\n",
    "            return True\n",
    "        \n",
    "        def backtracking(ans, track, beginWord, endWord, WordList, minLen):\n",
    "            if len(track) > minLen: return minLen\n",
    "            if track[-1] == endWord:\n",
    "                if (minLen > len(track)):\n",
    "                    ans.clear()\n",
    "                    minLen = len(track)\n",
    "                if (minLen == len(track)):\n",
    "                    ans.append(track[:])\n",
    "                return minLen\n",
    "            for i in range(len(WordList)):\n",
    "                if (isSafe(track[-1], WordList[i])):\n",
    "                    track.append(WordList[i])\n",
    "                    minLen = backtracking(ans, track, beginWord, endWord, WordList[:i]+WordList[i+1:], minLen)\n",
    "                    track.pop()\n",
    "            return minLen\n",
    "        if endWord not in wordList:\n",
    "            return []\n",
    "        minLen = len(wordList)\n",
    "        temp = backtracking(ans, track, beginWord, endWord, wordList, minLen)\n",
    "        return temp\n",
    "        \n",
    "beginWord = \"hit\"\n",
    "endWord = \"cog\"\n",
    "wordList = [\"hot\",\"dot\",\"dog\",\"lot\",\"log\",\"cog\"]\n",
    "ans = Solution()\n",
    "ans.findLadders(beginWord, endWord, wordList)"
   ]
  }
 ],
 "metadata": {
  "kernelspec": {
   "display_name": "base",
   "language": "python",
   "name": "python3"
  },
  "language_info": {
   "codemirror_mode": {
    "name": "ipython",
    "version": 3
   },
   "file_extension": ".py",
   "mimetype": "text/x-python",
   "name": "python",
   "nbconvert_exporter": "python",
   "pygments_lexer": "ipython3",
   "version": "3.11.7"
  }
 },
 "nbformat": 4,
 "nbformat_minor": 2
}

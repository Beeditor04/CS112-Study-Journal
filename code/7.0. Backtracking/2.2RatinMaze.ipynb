{
 "cells": [
  {
   "cell_type": "markdown",
   "metadata": {},
   "source": [
    "**Link**: https://www.geeksforgeeks.org/problems/rat-in-a-maze-problem/1 \\\n",
    "**Ideas**: \n",
    "- Sử dụng thuật toán backtracking - với mỗi hướng đi, sau mỗi lần thử 4 hướng đi tiếp theo, nếu không có lời giải thì chuột lùi lại 1 bước để thử lối đi khác, thuật toán dừng lại khi chuột đã đi hết tất cả các ô trong mê cung."
   ]
  },
  {
   "cell_type": "code",
   "execution_count": 8,
   "metadata": {},
   "outputs": [
    {
     "name": "stdout",
     "output_type": "stream",
     "text": [
      "-1\n"
     ]
    },
    {
     "data": {
      "text/plain": [
       "[]"
      ]
     },
     "execution_count": 8,
     "metadata": {},
     "output_type": "execute_result"
    }
   ],
   "source": [
    "matrix = [  [1, 0],\n",
    "            [1, 0]\n",
    "        ]\n",
    "n = len(matrix[0])\n",
    "ans = []\n",
    "def backtracking(matrix, x, y, n, ans, str):\n",
    "    #1. stop\n",
    "    if (x == n - 1 and y == n - 1):\n",
    "        ans.append(str) if str not in ans else None\n",
    "        return\n",
    "    matrix[x][y] = -1\n",
    "    #2. backtrack\n",
    "    \n",
    "    if (x - 1 >= 0 and matrix[x - 1][y] == 1): \n",
    "        backtracking(matrix, x - 1, y, n, ans, str + 'U') #up\n",
    "    if (y + 1 < n and matrix[x][y + 1] == 1): \n",
    "        backtracking(matrix, x, y + 1, n, ans, str + 'R') #right\n",
    "    if (x + 1 < n and matrix[x + 1][y] == 1): \n",
    "        backtracking(matrix, x + 1, y, n, ans, str + 'D') #down\n",
    "    if (y - 1 >= 0 and matrix[x][y - 1] == 1): \n",
    "        backtracking(matrix, x, y - 1, n, ans, str + 'L')  #left\n",
    "    #3. reverse action\n",
    "    matrix[x][y] = 1\n",
    "    return \n",
    "if (matrix[0][0] == 0): print(-1)\n",
    "if (matrix[n - 1][n - 1] == 0): print(-1)\n",
    "backtracking(matrix, 0, 0, n, ans, '')\n",
    "ans"
   ]
  },
  {
   "cell_type": "code",
   "execution_count": 5,
   "metadata": {},
   "outputs": [
    {
     "name": "stdout",
     "output_type": "stream",
     "text": [
      "True\n"
     ]
    },
    {
     "data": {
      "text/plain": [
       "'U'"
      ]
     },
     "execution_count": 5,
     "metadata": {},
     "output_type": "execute_result"
    }
   ],
   "source": [
    "x = 0; y = 0\n",
    "if (x, y == 0, 0): print(\"True\")\n",
    "\n",
    "test = ['']\n",
    "test[0] += 'U'\n",
    "test[0]"
   ]
  },
  {
   "cell_type": "markdown",
   "metadata": {},
   "source": [
    "```\n",
    "direction = [up, left, down, right] \n",
    "def backtracking(matrix, x, y, temp, n): \n",
    "    if current position is (n - 1, n - 1): \n",
    "        add temp to answer \n",
    "    matrix[x][y] = -1 #marked as visited \n",
    "    for dir in direction: \n",
    "        if dir in matrix == 1 and dir is not out of range: \n",
    "        temp = temp + dir \n",
    "        backtracking(matrix, x + dir, y + dir, temp, n) \n",
    "    matrix[x][y] = 1 #undo visited \n",
    "```"
   ]
  }
 ],
 "metadata": {
  "kernelspec": {
   "display_name": "base",
   "language": "python",
   "name": "python3"
  },
  "language_info": {
   "codemirror_mode": {
    "name": "ipython",
    "version": 3
   },
   "file_extension": ".py",
   "mimetype": "text/x-python",
   "name": "python",
   "nbconvert_exporter": "python",
   "pygments_lexer": "ipython3",
   "version": "3.11.5"
  }
 },
 "nbformat": 4,
 "nbformat_minor": 2
}

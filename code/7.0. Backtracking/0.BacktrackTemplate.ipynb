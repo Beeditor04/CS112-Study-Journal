{
 "cells": [
  {
   "cell_type": "markdown",
   "metadata": {},
   "source": [
    "```python\n",
    "def backtracking(<array to go>, <variables for tracking>):\n",
    "    #1. stop condition\n",
    "    if true/false\n",
    "    #2. action\n",
    "        // do something if need\n",
    "        backtracking(<array to go>, <next position>)\n",
    "    #3. reverse after backtracking\n",
    "        array.pop()\n",
    "```"
   ]
  }
 ],
 "metadata": {
  "language_info": {
   "name": "python"
  }
 },
 "nbformat": 4,
 "nbformat_minor": 2
}

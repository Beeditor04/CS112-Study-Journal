{
 "cells": [
  {
   "cell_type": "markdown",
   "metadata": {},
   "source": [
    "Link: https://leetcode.com/problems/permutations/submissions/1214197595/\n",
    "- Backtracking template\n",
    "- Using `pop` for avoiding same value \n",
    "    * Alternative: using list to store **visited** position"
   ]
  },
  {
   "cell_type": "code",
   "execution_count": 12,
   "metadata": {},
   "outputs": [
    {
     "data": {
      "text/plain": [
       "[[1, 2, 3], [1, 3, 2], [2, 1, 3], [2, 3, 1], [3, 1, 2], [3, 2, 1]]"
      ]
     },
     "execution_count": 12,
     "metadata": {},
     "output_type": "execute_result"
    }
   ],
   "source": [
    "class Solution:\n",
    "    def permute(self, nums: list[int]) -> list[list[int]]:\n",
    "        def backtrack(nums, ans, sub, track):\n",
    "            if (nums == []):\n",
    "                ans.append(sub[:])\n",
    "                return\n",
    "            for i in nums:\n",
    "                temp = list(nums)\n",
    "                if i not in sub:\n",
    "                    temp.remove(i)\n",
    "                    sub.append(i)\n",
    "                    backtrack(temp, ans, sub, track)\n",
    "                    sub.pop()\n",
    "\n",
    "        ans = []\n",
    "        sub = []\n",
    "        track = 0\n",
    "        backtrack(nums, ans, sub, track)\n",
    "        return ans\n",
    "ans = Solution()\n",
    "res = ans.permute([1, 2, 3])\n",
    "res"
   ]
  }
 ],
 "metadata": {
  "kernelspec": {
   "display_name": "base",
   "language": "python",
   "name": "python3"
  },
  "language_info": {
   "codemirror_mode": {
    "name": "ipython",
    "version": 3
   },
   "file_extension": ".py",
   "mimetype": "text/x-python",
   "name": "python",
   "nbconvert_exporter": "python",
   "pygments_lexer": "ipython3",
   "version": "3.11.5"
  }
 },
 "nbformat": 4,
 "nbformat_minor": 2
}

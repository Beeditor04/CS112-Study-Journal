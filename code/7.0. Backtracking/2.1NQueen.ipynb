{
 "cells": [
  {
   "cell_type": "markdown",
   "metadata": {},
   "source": [
    "Complexity: $${3n*2^(n^2)}\n",
    "#### array solution"
   ]
  },
  {
   "cell_type": "code",
   "execution_count": 17,
   "metadata": {},
   "outputs": [
    {
     "data": {
      "text/plain": [
       "[[['.', 'Q', '.', '.'],\n",
       "  ['.', '.', '.', 'Q'],\n",
       "  ['Q', '.', '.', '.'],\n",
       "  ['.', '.', 'Q', '.']],\n",
       " [['.', '.', 'Q', '.'],\n",
       "  ['Q', '.', '.', '.'],\n",
       "  ['.', '.', '.', 'Q'],\n",
       "  ['.', 'Q', '.', '.']]]"
      ]
     },
     "execution_count": 17,
     "metadata": {},
     "output_type": "execute_result"
    }
   ],
   "source": [
    "def isSafe(row, col, curr):\n",
    "    for i in curr:\n",
    "        x, y = i\n",
    "        # 4 direction\n",
    "        if x == row or y == col:\n",
    "            return False\n",
    "        # 4 diagonal\n",
    "        if (row - x) == (col - y):\n",
    "            return False\n",
    "        if (row - x) == -(col - y):\n",
    "            return False\n",
    "    return True\n",
    "\n",
    "def nqueen(ans, array, cur: list, row):\n",
    "    if (row == len(array[0])):\n",
    "        ans.append([row[:] for row in array])\n",
    "        return\n",
    "    for i in range(len(array[0])):\n",
    "        if isSafe(row, i, cur):\n",
    "            if array[row][i] == '.':\n",
    "                array[row][i] = 'Q'\n",
    "                cur.append((row, i))\n",
    "                nqueen(ans, array, cur, row + 1)\n",
    "                array[row][i] = '.'\n",
    "                cur.pop()\n",
    "\n",
    "n = 4\n",
    "cur = []\n",
    "array = [['.' for _ in range(n)] for _ in range(n)]\n",
    "ans = []\n",
    "nqueen(ans, array, cur, 0)\n",
    "ans\n"
   ]
  },
  {
   "cell_type": "markdown",
   "metadata": {},
   "source": [
    "#### String solution"
   ]
  },
  {
   "cell_type": "code",
   "execution_count": 1,
   "metadata": {},
   "outputs": [
    {
     "data": {
      "text/plain": [
       "[['.Q..', '...Q', 'Q...', '..Q.'], ['..Q.', 'Q...', '...Q', '.Q..']]"
      ]
     },
     "execution_count": 1,
     "metadata": {},
     "output_type": "execute_result"
    }
   ],
   "source": [
    "def isSafe(row, col, curr):\n",
    "    for i in curr:\n",
    "        x, y = i\n",
    "        # 4 direction\n",
    "        if x == row or y == col:\n",
    "            return False\n",
    "        # 4 diagonal\n",
    "        if (row - x) == (col - y):\n",
    "            return False\n",
    "        if (row - x) == -(col - y):\n",
    "            return False\n",
    "    return True\n",
    "\n",
    "def nqueen(ans, array, cur: list, row):\n",
    "    if (row == len(array[0])):\n",
    "        ans.append([row[:] for row in array])\n",
    "        return\n",
    "    for i in range(len(array[0])):\n",
    "        if isSafe(row, i, cur):\n",
    "            if array[row][i] == '.':\n",
    "                array[row] = array[row][0:i] + 'Q' + array[row][i+1:] \n",
    "                cur.append((row, i))\n",
    "                nqueen(ans, array, cur, row + 1)\n",
    "                array[row] = array[row][0:i] + '.' + array[row][i+1:] \n",
    "                cur.pop()\n",
    "\n",
    "n = 4\n",
    "cur = []\n",
    "array = [''.join(['.' for _ in range(n)]) for _ in range(n)]\n",
    "ans = []\n",
    "nqueen(ans, array, cur, 0)\n",
    "ans\n"
   ]
  },
  {
   "cell_type": "markdown",
   "metadata": {},
   "source": [
    "#### Improve `isSafe()` function\n",
    "link: https://www.youtube.com/watch?v=Ph95IHmRp5M&t=424s"
   ]
  },
  {
   "cell_type": "code",
   "execution_count": 59,
   "metadata": {},
   "outputs": [],
   "source": [
    "class Solution:\n",
    "    def solveNQueens(self, n: int) -> list[list[str]]:\n",
    "        col = set()\n",
    "        downDiag = set()\n",
    "        upDiag = set()\n",
    "        def nqueen(ans, array, cur: list, row):\n",
    "            if (row == len(array[0])):\n",
    "                ans.append([row[:] for row in array])\n",
    "                return\n",
    "            for i in range(len(array[0])):\n",
    "                ## isSafe() advanced function: using `col`, `downDiag` and `upDiag`\n",
    "                if i not in col \\\n",
    "                    and (row - i) not in downDiag \\\n",
    "                    and (row + i) not in upDiag:\n",
    "                    if array[row][i] == '.':\n",
    "                        array[row] = array[row][0:i] + 'Q' + array[row][i+1:] \n",
    "                        col.add(i)\n",
    "                        downDiag.add(row - i)\n",
    "                        upDiag.add(row + i)\n",
    "                        \n",
    "                        nqueen(ans, array, cur, row + 1) ## go deep the path\n",
    "\n",
    "                        array[row] = array[row][0:i] + '.' + array[row][i+1:] \n",
    "                        col.remove(i)\n",
    "                        downDiag.remove(row - i)\n",
    "                        upDiag.remove(row + i)\n",
    "        cur = []\n",
    "        array = [''.join(['.' for _ in range(n)]) for _ in range(n)]\n",
    "        ans = []\n",
    "        nqueen(ans, array, cur, 0)\n",
    "        return ans\n",
    "temp = Solution()\n",
    "n = 3\n",
    "ans = temp.solveNQueens(n)"
   ]
  },
  {
   "cell_type": "code",
   "execution_count": 5,
   "metadata": {},
   "outputs": [
    {
     "name": "stdout",
     "output_type": "stream",
     "text": [
      "[(1, 2) (2, 4) (3, 1) (4, 3)]\n",
      "[(1, 3) (2, 1) (3, 4) (4, 2)]\n"
     ]
    }
   ],
   "source": [
    "def solveNQueens(n):\n",
    "    col = set()\n",
    "    downDiag = set()\n",
    "    upDiag = set()\n",
    "    def nqueen(ans, array, cur, row):\n",
    "        if (row == len(array)):\n",
    "            ans.append(array[:])\n",
    "            return\n",
    "        for i in range(len(array)):\n",
    "            if i not in col \\\n",
    "                and (row - i) not in downDiag \\\n",
    "                and (row + i) not in upDiag:\n",
    "                if (row + 1, i + 1) not in array[row]:\n",
    "                    array[row] = (row + 1, i + 1)\n",
    "                    col.add(i)\n",
    "                    downDiag.add(row - i)\n",
    "                    upDiag.add(row + i)\n",
    "                    \n",
    "                    nqueen(ans, array, cur, row + 1) ## go deep the path\n",
    "                    array[row] = ()\n",
    "                    col.remove(i)\n",
    "                    downDiag.remove(row - i)\n",
    "                    upDiag.remove(row + i)\n",
    "    cur = []\n",
    "    array = [tuple() for _ in range(n)]\n",
    "    ans = []\n",
    "    nqueen(ans, array, cur, 0)\n",
    "    for i in ans:\n",
    "        print(str(i).replace('), ', ') '))\n",
    "    if not ans:\n",
    "        print(\"No solution found.\")\n",
    "\n",
    "n = int(input())\n",
    "solveNQueens(n)"
   ]
  }
 ],
 "metadata": {
  "kernelspec": {
   "display_name": "base",
   "language": "python",
   "name": "python3"
  },
  "language_info": {
   "codemirror_mode": {
    "name": "ipython",
    "version": 3
   },
   "file_extension": ".py",
   "mimetype": "text/x-python",
   "name": "python",
   "nbconvert_exporter": "python",
   "pygments_lexer": "ipython3",
   "version": "3.11.7"
  }
 },
 "nbformat": 4,
 "nbformat_minor": 2
}

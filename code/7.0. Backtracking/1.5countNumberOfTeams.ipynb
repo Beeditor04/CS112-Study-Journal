{
 "cells": [
  {
   "cell_type": "markdown",
   "metadata": {},
   "source": [
    "Link: https://leetcode.com/problems/count-number-of-teams/\n",
    "- **Solution**: Backtracking (Time exceeded)"
   ]
  },
  {
   "cell_type": "code",
   "execution_count": 14,
   "metadata": {},
   "outputs": [
    {
     "name": "stdout",
     "output_type": "stream",
     "text": [
      "[[1, 2, 3], [1, 2, 4], [1, 3, 4], [2, 3, 4]]\n",
      "4\n"
     ]
    }
   ],
   "source": [
    "class Solution:\n",
    "    def numTeams(self, rating: list[int]) -> int:\n",
    "        ans = []\n",
    "        def bt(rating, combo, ans, index):\n",
    "            #stop condition\n",
    "            if len(combo) == 3:\n",
    "                    temp = combo.copy()\n",
    "                    ans.append(temp)\n",
    "                    return\n",
    "            for i in range(index, len(rating)):\n",
    "                if len(combo) == 1:\n",
    "                    if not (combo[-1] < rating[i] or combo[-1] > rating[i]):\n",
    "                        continue\n",
    "                if len(combo) == 2:\n",
    "                     if not (combo[-2] < combo[-1] < rating[i] or combo[-2] > combo[-1] > rating[i]):\n",
    "                        continue\n",
    "                combo.append(rating[i])\n",
    "                bt(rating, combo, ans, i+1)\n",
    "                combo.remove(rating[i])\n",
    "        bt(rating, [], ans, 0) \n",
    "        print(ans)\n",
    "        return len(ans)\n",
    "a = Solution()\n",
    "print(a.numTeams([1,2,3,4]))           \n",
    "\n"
   ]
  },
  {
   "cell_type": "markdown",
   "metadata": {},
   "source": [
    "### Solution 2: Dynamic Programming: \n",
    "- Strictly increasing: a > b > c\n",
    "- Strictly decreasing: "
   ]
  },
  {
   "cell_type": "code",
   "execution_count": 3,
   "metadata": {},
   "outputs": [
    {
     "data": {
      "text/plain": [
       "3"
      ]
     },
     "execution_count": 3,
     "metadata": {},
     "output_type": "execute_result"
    }
   ],
   "source": [
    "a = (1, 2, 3)\n",
    "len(a)"
   ]
  }
 ],
 "metadata": {
  "kernelspec": {
   "display_name": "base",
   "language": "python",
   "name": "python3"
  },
  "language_info": {
   "codemirror_mode": {
    "name": "ipython",
    "version": 3
   },
   "file_extension": ".py",
   "mimetype": "text/x-python",
   "name": "python",
   "nbconvert_exporter": "python",
   "pygments_lexer": "ipython3",
   "version": "3.11.7"
  }
 },
 "nbformat": 4,
 "nbformat_minor": 2
}

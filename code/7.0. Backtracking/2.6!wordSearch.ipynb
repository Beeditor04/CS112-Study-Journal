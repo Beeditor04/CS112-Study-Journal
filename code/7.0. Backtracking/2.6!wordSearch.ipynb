{
 "cells": [
  {
   "cell_type": "markdown",
   "metadata": {},
   "source": [
    "Link: https://leetcode.com/problems/word-search/"
   ]
  },
  {
   "cell_type": "code",
   "execution_count": 4,
   "metadata": {},
   "outputs": [
    {
     "name": "stdout",
     "output_type": "stream",
     "text": [
      "True\n"
     ]
    }
   ],
   "source": [
    "class Solution:\n",
    "    def exist(self, board: list[list[str]], word: str) -> bool:\n",
    "        m = len(board)\n",
    "        n = len(board[0])\n",
    "        row = [0, 1, 0, -1]\n",
    "        col = [1, 0, -1, 0]\n",
    "        ans = False\n",
    "        def backtracking(i, j, index):\n",
    "            if (index == len(word)):\n",
    "                return True\n",
    "            for x in range(4):\n",
    "                new_i = i + row[x]\n",
    "                new_j = j + col[x]\n",
    "                if ((new_i < m and new_j < n) and (new_i >= 0 and new_j >= 0)):\n",
    "                    if (board[new_i][new_j] == word[index]):\n",
    "                        board[new_i][new_j] = '-'\n",
    "                        ans = backtracking(new_i, new_j, index + 1)\n",
    "                        board[new_i][new_j] = word[index]\n",
    "                        if ans == True: return ans        \n",
    "            return False\n",
    "        for i in range(m):\n",
    "            for j in range(n):\n",
    "                if ans == True: \n",
    "                    return ans\n",
    "                if board[i][j] == word[0]:\n",
    "                    board[i][j] = '-'\n",
    "                    ans = backtracking(i, j, 1)\n",
    "                    board[i][j] = word[0]\n",
    "        return ans\n",
    "    \n",
    "test = Solution()\n",
    "board = [[\"A\",\"B\",\"C\",\"E\"],[\"S\",\"F\",\"C\",\"S\"],[\"A\",\"D\",\"E\",\"E\"]]\n",
    "print(test.exist(board, \"ECCFDA\"))"
   ]
  },
  {
   "cell_type": "code",
   "execution_count": null,
   "metadata": {},
   "outputs": [],
   "source": [
    "m = len(board)\n",
    "n = len(board[0])\n",
    "row = [0, 1, 0, -1]\n",
    "col = [1, 0, -1, 0]\n",
    "ans = False\n",
    "board = input()\n",
    "list_data = []\n",
    "inner_list = []\n",
    "\n",
    "for char in board:\n",
    "    if char == \"[\":\n",
    "        inner_list = []  \n",
    "    elif char == \"]\":\n",
    "        list_data.append(inner_list) \n",
    "    elif char != \",\" and char != \"'\":\n",
    "        inner_list.append(char) \n",
    "\n",
    "board = list_data\n",
    "word = input()\n",
    "\n",
    "def backtracking(i, j, index):\n",
    "    if (index == len(word)):\n",
    "        return True\n",
    "    for x in range(4):\n",
    "        new_i = i + row[x]\n",
    "        new_j = j + col[x]\n",
    "        if ((new_i < m and new_j < n) and (new_i >= 0 and new_j >= 0)):\n",
    "            if (board[new_i][new_j] == word[index]):\n",
    "                board[new_i][new_j] = '-'\n",
    "                ans = backtracking(new_i, new_j, index + 1)\n",
    "                board[new_i][new_j] = word[index]\n",
    "                if ans == True: return ans        \n",
    "    return False\n",
    "\n",
    "def main():\n",
    "    for i in range(m):\n",
    "        for j in range(n):\n",
    "            if ans == True: \n",
    "                print(ans)\n",
    "                return\n",
    "            if board[i][j] == word[0]:\n",
    "                board[i][j] = '-'\n",
    "                ans = backtracking(i, j, 1)\n",
    "                board[i][j] = word[0]\n",
    "    return \n",
    "main()"
   ]
  },
  {
   "cell_type": "code",
   "execution_count": 5,
   "metadata": {},
   "outputs": [
    {
     "name": "stdout",
     "output_type": "stream",
     "text": [
      "[['A', 'B', 'C', 'E'], ['S', 'F', 'C', 'S'], ['A', 'D', 'E', 'E'], ['A', 'D', 'E', 'E']]\n"
     ]
    }
   ],
   "source": [
    "string_data = \"[['A','B','C','E'],['S','F','C','S'],['A','D','E','E']]\"\n",
    "\n",
    "list_data = []\n",
    "inner_list = []\n",
    "\n",
    "for char in string_data:\n",
    "    if char == \"[\":\n",
    "        inner_list = []  \n",
    "    elif char == \"]\":\n",
    "        list_data.append(inner_list) \n",
    "    elif char != \",\" and char != \"'\":\n",
    "        inner_list.append(char) \n",
    "\n",
    "print(list_data)"
   ]
  }
 ],
 "metadata": {
  "kernelspec": {
   "display_name": "base",
   "language": "python",
   "name": "python3"
  },
  "language_info": {
   "codemirror_mode": {
    "name": "ipython",
    "version": 3
   },
   "file_extension": ".py",
   "mimetype": "text/x-python",
   "name": "python",
   "nbconvert_exporter": "python",
   "pygments_lexer": "ipython3",
   "version": "3.11.5"
  }
 },
 "nbformat": 4,
 "nbformat_minor": 2
}

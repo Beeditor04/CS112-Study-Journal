{
 "cells": [
  {
   "cell_type": "code",
   "execution_count": 48,
   "metadata": {},
   "outputs": [
    {
     "name": "stdout",
     "output_type": "stream",
     "text": [
      "1 2 3 4 5 6 7 8 9\n",
      "4 5 6 7 8 9 1 2 3\n",
      "7 8 9 1 2 3 4 5 6\n",
      "2 1 4 3 6 5 8 9 7\n",
      "3 6 5 8 9 7 2 1 4\n",
      "8 9 7 2 1 4 3 6 5\n",
      "5 3 1 6 4 2 9 7 8\n",
      "6 4 2 9 7 8 5 3 1\n",
      "9 7 8 5 3 1 6 4 2\n"
     ]
    }
   ],
   "source": [
    "# board = [[7, 8, 0, 4, 0, 0, 1, 2, 0],\n",
    "#         [6, 0, 0, 0, 7, 5, 0, 0, 9],\n",
    "#         [0, 0, 0, 6, 0, 1, 0, 7, 8],\n",
    "#         [0, 0, 7, 0, 4, 0, 2, 6, 0],\n",
    "#         [0, 0, 1, 0, 5, 0, 9, 3, 0],\n",
    "#         [9, 0, 4, 0, 6, 0, 0, 0, 5],\n",
    "#         [0, 7, 0, 3, 0, 0, 0, 1, 2],\n",
    "#         [1, 2, 0, 0, 0, 7, 4, 0, 0],\n",
    "#         [0, 4, 9, 2, 0, 6, 0, 0, 7]\n",
    "#         ]\n",
    "# board = [\n",
    "#     [0, 0, 9, 0, 2, 8, 7, 0, 0], \n",
    "#     [8, 0, 6, 0, 0, 4, 0, 0, 5], \n",
    "#     [0, 0, 3, 0, 0, 0, 0, 0, 4], \n",
    "#     [6, 0, 0, 0, 0, 0, 0, 0, 0], \n",
    "#     [0, 2, 0, 7, 1, 3, 4, 5, 0], \n",
    "#     [0, 0, 0, 0, 0, 0, 0, 0, 2], \n",
    "#     [3, 0, 0, 0, 0, 0, 5, 0, 0], \n",
    "#     [9, 0, 0, 4, 0, 0, 8, 0, 7], \n",
    "#     [0, 0, 1, 2, 5, 0, 3, 0, 0]\n",
    "# ]\n",
    "\n",
    "board = []\n",
    "for i in range(9):\n",
    "    temp = list(map(int, input().split()))\n",
    "    board.append(temp)\n",
    "\n",
    "visitedRow = [set(a) for a in board]\n",
    "visitedCol = [set(a) for a in zip(*board)]\n",
    "visitedBox = [set() for _ in range(9)]\n",
    "for i in range(9):\n",
    "    for a in range(3):\n",
    "        for b in range(3):\n",
    "            visitedBox[i].add(board[(i // 3) * 3 + a][(i % 3) * 3 + b])\n",
    "    \n",
    "def nextStep(i, j):\n",
    "    while i < 9:\n",
    "        while j < 9:\n",
    "            if board[i][j] == 0:\n",
    "                return i, j\n",
    "            j += 1\n",
    "        if (i < 9 and j == 9):\n",
    "            j = 0\n",
    "        i += 1\n",
    "    return None, None\n",
    "\n",
    "def is_safe(num, row, col):\n",
    "    if (num in visitedRow[row]) or (num in visitedCol[col]) or (num in visitedBox[(row // 3) * 3 + (col // 3)]):\n",
    "        return False\n",
    "    return True\n",
    "\n",
    "def backtrack(i, j):\n",
    "    row, col = nextStep(i, j)\n",
    "    if row is None:\n",
    "        return True \n",
    "    for num in range(1, 10):\n",
    "        if is_safe(num, row, col):\n",
    "            board[row][col] = num\n",
    "            visitedRow[row].add(num)\n",
    "            visitedCol[col].add(num)\n",
    "            visitedBox[(row // 3) * 3 + (col // 3)].add(num)\n",
    "            if backtrack(row, col):\n",
    "                return True\n",
    "            board[row][col] = 0  \n",
    "            visitedRow[row].remove(num)\n",
    "            visitedCol[col].remove(num)\n",
    "            visitedBox[(row // 3) * 3 + (col // 3)].remove(num)\n",
    "    return False  \n",
    "\n",
    "if backtrack(0, 0):\n",
    "    for i in board:\n",
    "        print(str(i).replace(\"[\",\"\").replace(\"]\",\"\").replace(\",\",\"\"))\n",
    "else:\n",
    "    print(\"No solutions\")"
   ]
  },
  {
   "cell_type": "code",
   "execution_count": 40,
   "metadata": {},
   "outputs": [
    {
     "data": {
      "text/plain": [
       "8"
      ]
     },
     "execution_count": 40,
     "metadata": {},
     "output_type": "execute_result"
    }
   ],
   "source": [
    "row = 8\n",
    "col = 8\n",
    "(row // 3) * 3 + (col // 3)"
   ]
  }
 ],
 "metadata": {
  "kernelspec": {
   "display_name": "base",
   "language": "python",
   "name": "python3"
  },
  "language_info": {
   "codemirror_mode": {
    "name": "ipython",
    "version": 3
   },
   "file_extension": ".py",
   "mimetype": "text/x-python",
   "name": "python",
   "nbconvert_exporter": "python",
   "pygments_lexer": "ipython3",
   "version": "3.11.7"
  }
 },
 "nbformat": 4,
 "nbformat_minor": 2
}

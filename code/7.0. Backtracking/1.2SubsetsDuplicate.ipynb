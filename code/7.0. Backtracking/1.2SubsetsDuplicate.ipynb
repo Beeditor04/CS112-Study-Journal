{
 "cells": [
  {
   "cell_type": "markdown",
   "metadata": {},
   "source": [
    "https://leetcode.com/problems/subsets-ii/submissions/1214149470/"
   ]
  },
  {
   "cell_type": "code",
   "execution_count": null,
   "metadata": {},
   "outputs": [],
   "source": [
    "class Solution:\n",
    "    def subsetsWithDup(self, nums: list[int]) -> list[list[int]]:\n",
    "        def calcSubset(A, res, subset, index):\n",
    "            res.append(subset[:]) if subset not in res else None #4. stop condition if need\n",
    "            for i in range(index, len(A)):\n",
    "                subset.append(A[i])                     #1. action\n",
    "                calcSubset(A, res, subset, i + 1)       #2. deep in path\n",
    "                subset.pop()                            #3. step back\n",
    "        res = []\n",
    "        subset = []\n",
    "        calcSubset(sorted(nums), res, subset, 0)\n",
    "        return res"
   ]
  }
 ],
 "metadata": {
  "language_info": {
   "name": "python"
  }
 },
 "nbformat": 4,
 "nbformat_minor": 2
}

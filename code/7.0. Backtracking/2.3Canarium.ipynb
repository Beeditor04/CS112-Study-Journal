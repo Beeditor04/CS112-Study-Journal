{
 "cells": [
  {
   "cell_type": "markdown",
   "metadata": {},
   "source": []
  },
  {
   "cell_type": "code",
   "execution_count": 7,
   "metadata": {},
   "outputs": [
    {
     "name": "stdout",
     "output_type": "stream",
     "text": [
      "-1 -1\n",
      "235 4246284\n",
      "161944 617495\n",
      "15 32258064\n",
      "-1 -1\n",
      "-1 -1\n",
      "1 2\n",
      "-1 -1\n",
      "2 3\n",
      "-1 -1\n",
      "-1 -1\n",
      "2 39\n",
      "6 13\n",
      "-1 -1\n",
      "-1 -1\n",
      "117 78164\n",
      "4 7\n",
      "-1 -1\n",
      "-1 -1\n",
      "1 4\n"
     ]
    }
   ],
   "source": [
    "import math\n",
    "\n",
    "def canarium(k: int):\n",
    "    t = k*4 - 1\n",
    "    p = int(math.sqrt(t) + 1)\n",
    "    if (p % 2 == 0): p -= 1\n",
    "    v = 1\n",
    "    for i in range(p, 1, -2): \n",
    "        if (t % i == 0): \n",
    "            v = i\n",
    "            break\n",
    "    if (v == 1):\n",
    "        m = -1\n",
    "        n = -1\n",
    "    else: \n",
    "        m = int((v - 1)/2)\n",
    "        u = int(t/v)\n",
    "        n = int((u - 1)/2)\n",
    "    return m, n\n",
    "\n",
    "temp = int(input())\n",
    "for i in range(temp):\n",
    "    k = int(input())\n",
    "    a, b = canarium(k)\n",
    "    print(a, b)\n",
    "\n"
   ]
  }
 ],
 "metadata": {
  "kernelspec": {
   "display_name": "base",
   "language": "python",
   "name": "python3"
  },
  "language_info": {
   "codemirror_mode": {
    "name": "ipython",
    "version": 3
   },
   "file_extension": ".py",
   "mimetype": "text/x-python",
   "name": "python",
   "nbconvert_exporter": "python",
   "pygments_lexer": "ipython3",
   "version": "3.11.5"
  }
 },
 "nbformat": 4,
 "nbformat_minor": 2
}

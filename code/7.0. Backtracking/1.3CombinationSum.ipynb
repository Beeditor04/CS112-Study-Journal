{
 "cells": [
  {
   "cell_type": "markdown",
   "metadata": {},
   "source": [
    "Link: https://leetcode.com/problems/combination-sum/submissions/1214176983/\n",
    "#### Ideas: \n",
    "- backtracking template"
   ]
  },
  {
   "cell_type": "code",
   "execution_count": 13,
   "metadata": {},
   "outputs": [
    {
     "data": {
      "text/plain": [
       "[[2, 2, 3], [7]]"
      ]
     },
     "execution_count": 13,
     "metadata": {},
     "output_type": "execute_result"
    }
   ],
   "source": [
    "class Solution:\n",
    "    def combinationSum(self, candidates: list[int], target: int) -> list[list[int]]:\n",
    "        def backtrack(A, ans, sub, target, track):\n",
    "             #4. stop condition if need\n",
    "            if (target == 0):               \n",
    "                ans.append(sub[:])\n",
    "                return\n",
    "            if (target < 0): return\n",
    "\n",
    "            for i in range(track, len(A)):\n",
    "                sub.append(A[i])                            #1. action\n",
    "                backtrack(A, ans, sub, target - A[i], i)    #2. deep in path\n",
    "                sub.pop()                                   #3. step back\n",
    "        ans = []\n",
    "        sub = []\n",
    "        backtrack(candidates, ans, sub, target, 0)\n",
    "        return ans\n",
    "\n",
    "ans = Solution()\n",
    "ans.combinationSum([2, 3, 6, 7], 7)"
   ]
  }
 ],
 "metadata": {
  "kernelspec": {
   "display_name": "base",
   "language": "python",
   "name": "python3"
  },
  "language_info": {
   "codemirror_mode": {
    "name": "ipython",
    "version": 3
   },
   "file_extension": ".py",
   "mimetype": "text/x-python",
   "name": "python",
   "nbconvert_exporter": "python",
   "pygments_lexer": "ipython3",
   "version": "3.11.5"
  }
 },
 "nbformat": 4,
 "nbformat_minor": 2
}

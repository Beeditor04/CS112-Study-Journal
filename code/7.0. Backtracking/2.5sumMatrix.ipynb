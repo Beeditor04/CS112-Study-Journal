{
 "cells": [
  {
   "cell_type": "code",
   "execution_count": 1,
   "metadata": {},
   "outputs": [],
   "source": [
    "D, C = [60, 86, 59, 38, 82, 0], [61, 59, 57, 89, 59, 0]\n",
    "matrix = [[0 for _ in range(6)] for _ in range(6)]\n",
    "def output():\n",
    "    for i in range(1, 6):\n",
    "        for j in range(1, 6):\n",
    "            print(matrix[i][j], end = ' ')\n",
    "        print()\n",
    "\n",
    "def fill(row, col):\n",
    "    if (row == 6):\n",
    "        if C[5] == 0: output(matrix)\n",
    "        return\n",
    "    L = max(1, max(D[row] - 25*(5 - col), C[col] - 25*(5 - row)))\n",
    "    R = min(25, min(D[row] - 5 + col, C[col] - 5 + row))\n",
    "    if (L > 25 or R < 1 or L > R): return\n",
    "    if (col == 5): \n",
    "        L = D[row] \n",
    "        R = D[row]\n",
    "    for i in range(L, R + 1):\n",
    "        matrix[row][col] = i\n",
    "        D[row] -= i\n",
    "        C[col] -= i\n",
    "        if (col < 5): fill(row, col + 1)\n",
    "        else: fill(row + 1, 1)\n",
    "        D[row] += i\n",
    "        C[col] += i\n",
    "        matrix[row][col] = 0\n",
    "\n",
    "fill(1, 1)"
   ]
  }
 ],
 "metadata": {
  "kernelspec": {
   "display_name": "base",
   "language": "python",
   "name": "python3"
  },
  "language_info": {
   "codemirror_mode": {
    "name": "ipython",
    "version": 3
   },
   "file_extension": ".py",
   "mimetype": "text/x-python",
   "name": "python",
   "nbconvert_exporter": "python",
   "pygments_lexer": "ipython3",
   "version": "3.11.7"
  }
 },
 "nbformat": 4,
 "nbformat_minor": 2
}

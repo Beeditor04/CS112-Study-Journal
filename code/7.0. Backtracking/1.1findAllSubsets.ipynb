{
 "cells": [
  {
   "cell_type": "markdown",
   "metadata": {},
   "source": [
    "Link: https://leetcode.com/problems/subsets/submissions/1214102704/\n",
    "#### Ideas:\n",
    "- Classic backtracking template"
   ]
  },
  {
   "cell_type": "code",
   "execution_count": 3,
   "metadata": {},
   "outputs": [
    {
     "name": "stdout",
     "output_type": "stream",
     "text": [
      "[[], [1], [1, 2], [1, 2, 3], [1, 3], [2], [2, 3], [3]]\n"
     ]
    }
   ],
   "source": [
    "a = [1, 2, 3]   \n",
    "def calcSubset(A, res, subset, index):\n",
    "    res.append(subset[:])                  #4. stop condition if need\n",
    "    for i in range(index, len(A)):             #! this is special recursion: stop when out of loop\n",
    "        subset.append(A[i])                 #1. action\n",
    "        calcSubset(A, res, subset, i + 1)   #2. deep in path\n",
    "        subset.pop()                        #3. step back\n",
    " \n",
    " \n",
    "def subsets(A):\n",
    "    subset = []\n",
    "    res = []\n",
    "    index = 0\n",
    "    calcSubset(a, res, subset, index)\n",
    "    return res\n",
    "\n",
    "print(subsets(a))"
   ]
  }
 ],
 "metadata": {
  "kernelspec": {
   "display_name": "base",
   "language": "python",
   "name": "python3"
  },
  "language_info": {
   "codemirror_mode": {
    "name": "ipython",
    "version": 3
   },
   "file_extension": ".py",
   "mimetype": "text/x-python",
   "name": "python",
   "nbconvert_exporter": "python",
   "pygments_lexer": "ipython3",
   "version": "3.11.5"
  }
 },
 "nbformat": 4,
 "nbformat_minor": 2
}

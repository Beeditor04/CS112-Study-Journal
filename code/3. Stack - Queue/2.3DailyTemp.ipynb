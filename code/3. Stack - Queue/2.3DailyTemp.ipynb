{
 "cells": [
  {
   "cell_type": "markdown",
   "metadata": {},
   "source": [
    "### 739. Daily Temperatures\n",
    "Link: https://leetcode.com/problems/daily-temperatures/submissions/1210598876/"
   ]
  },
  {
   "cell_type": "markdown",
   "metadata": {},
   "source": [
    "#### My ideas:\n",
    "<img src=\"../pictures/1.jpg\" width=\"400\">"
   ]
  },
  {
   "cell_type": "code",
   "execution_count": 5,
   "metadata": {},
   "outputs": [
    {
     "name": "stdout",
     "output_type": "stream",
     "text": [
      "[1, 1, 4, 2, 1, 1, 0, 0]\n"
     ]
    }
   ],
   "source": [
    "class Solution:\n",
    "    def dailyTemperatures(self, temperatures: list[int]) -> list[int]:\n",
    "        stack = []\n",
    "        stack.append(0)\n",
    "        ans = [0]*len(temperatures)\n",
    "        for i in range(1, len(temperatures)):\n",
    "            while stack and temperatures[i] > temperatures[stack[-1]]:\n",
    "                index = stack.pop()\n",
    "                ans[index] = i - index\n",
    "            stack.append(i)\n",
    "        return ans\n",
    "    \n",
    "ans = Solution()\n",
    "print(ans.dailyTemperatures([73, 74, 75, 71, 69, 72, 76, 73]))"
   ]
  },
  {
   "cell_type": "markdown",
   "metadata": {},
   "source": [
    "#### GPT Solution:\n",
    "- Same ideas, using `enumerate()` for faster solution"
   ]
  },
  {
   "cell_type": "code",
   "execution_count": 1,
   "metadata": {},
   "outputs": [
    {
     "name": "stdout",
     "output_type": "stream",
     "text": [
      "[1, 1, 4, 2, 1, 1, 0, 0]\n"
     ]
    }
   ],
   "source": [
    "class Solution:\n",
    "    def dailyTemperatures(self, temperatures: list[int]) -> list[int]: \n",
    "        stack = []\n",
    "        ans = [0] * len(temperatures)\n",
    "        for i, t in enumerate(temperatures):\n",
    "            while stack and temperatures[stack[-1]] < t:\n",
    "                cur = stack.pop()\n",
    "                ans[cur] = i - cur\n",
    "            stack.append(i)\n",
    "        return ans\n",
    "    \n",
    "\n",
    "ans = Solution()\n",
    "print(ans.dailyTemperatures([73, 74, 75, 71, 69, 72, 76, 73]))"
   ]
  }
 ],
 "metadata": {
  "kernelspec": {
   "display_name": "base",
   "language": "python",
   "name": "python3"
  },
  "language_info": {
   "codemirror_mode": {
    "name": "ipython",
    "version": 3
   },
   "file_extension": ".py",
   "mimetype": "text/x-python",
   "name": "python",
   "nbconvert_exporter": "python",
   "pygments_lexer": "ipython3",
   "version": "3.11.5"
  }
 },
 "nbformat": 4,
 "nbformat_minor": 2
}

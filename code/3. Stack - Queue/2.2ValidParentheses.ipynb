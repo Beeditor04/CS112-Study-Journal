{
 "cells": [
  {
   "cell_type": "markdown",
   "metadata": {},
   "source": [
    "### 20. Valid Parentheses\n",
    "Link: https://leetcode.com/problems/valid-parentheses/submissions/1210118222/"
   ]
  },
  {
   "cell_type": "markdown",
   "metadata": {},
   "source": [
    "#### My ideas:\n",
    "- bc the parentheses have to be in-order, we just need to put in stack if (`{([`) - open brackets\n",
    "- when we meet close brackets - `}])`, we calc from inside to outside -> stack (LIFO)\n",
    "- How to know they are a couple? -> ASCII value"
   ]
  },
  {
   "cell_type": "code",
   "execution_count": 3,
   "metadata": {},
   "outputs": [
    {
     "data": {
      "text/plain": [
       "False"
      ]
     },
     "execution_count": 3,
     "metadata": {},
     "output_type": "execute_result"
    }
   ],
   "source": [
    "class Solution:\n",
    "    def isValid(self, s: str) -> bool:\n",
    "        stack = []\n",
    "        # index = -1 # remove this\n",
    "        for i in s:\n",
    "            if (i in ('[{(')):\n",
    "                stack.append(i)\n",
    "                # index += 1\n",
    "            elif (not stack): return False\n",
    "            elif (ord(stack[-1]) == ord(i) - 1 or ord(stack[-1]) == ord(i) - 2) and (len(stack) >= 0):\n",
    "            # elif (ord(stack[index]) == ord(i) - 1 or ord(stack[index]) == ord(i) - 2) and (index >= 0):\n",
    "                stack.pop()\n",
    "                # index -= 1\n",
    "            else:\n",
    "                return False\n",
    "        return not stack\n",
    "        \n",
    "ans = Solution()\n",
    "ans.isValid(\"()\")\n",
    "        \n",
    "ans = Solution()\n",
    "ans.isValid(\"()\")"
   ]
  },
  {
   "cell_type": "code",
   "execution_count": null,
   "metadata": {},
   "outputs": [],
   "source": [
    "class Solution(object):\n",
    "    def isValid(self, s):\n",
    "        stack = [] \n",
    "        for c in s: \n",
    "            if c in '([{': \n",
    "                stack.append(c) \n",
    "            else: \n",
    "                if not stack or \\\n",
    "                    (c == ')' and stack[-1] != '(') or \\\n",
    "                    (c == '}' and stack[-1] != '{') or \\\n",
    "                    (c == ']' and stack[-1] != '['):\n",
    "                    return False \n",
    "                stack.pop() \n",
    "                \n",
    "        if len(stack) > 0:\n",
    "            return False\n",
    "        return True"
   ]
  },
  {
   "cell_type": "code",
   "execution_count": 1,
   "metadata": {},
   "outputs": [
    {
     "data": {
      "text/plain": [
       "True"
      ]
     },
     "execution_count": 1,
     "metadata": {},
     "output_type": "execute_result"
    }
   ],
   "source": [
    "stack = []\n",
    "not stack"
   ]
  }
 ],
 "metadata": {
  "kernelspec": {
   "display_name": "base",
   "language": "python",
   "name": "python3"
  },
  "language_info": {
   "codemirror_mode": {
    "name": "ipython",
    "version": 3
   },
   "file_extension": ".py",
   "mimetype": "text/x-python",
   "name": "python",
   "nbconvert_exporter": "python",
   "pygments_lexer": "ipython3",
   "version": "3.11.5"
  }
 },
 "nbformat": 4,
 "nbformat_minor": 2
}

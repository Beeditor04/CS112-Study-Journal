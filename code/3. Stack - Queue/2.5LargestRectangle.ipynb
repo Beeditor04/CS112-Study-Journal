{
 "cells": [
  {
   "cell_type": "markdown",
   "metadata": {},
   "source": [
    "Link: https://leetcode.com/problems/largest-rectangle-in-histogram/description/\n",
    "### My ideas:\n",
    "- Reference: [Neetcode](https://www.youtube.com/watch?v=zx5Sw9130L0) | [GFG](https://www.geeksforgeeks.org/largest-rectangular-area-in-a-histogram-using-stack/)\n",
    "- Using Stack (nearly same as Daily Temperature problems):\n",
    "    + If the **larger** bar come in, add into the `stack`\n",
    "    + If the **smaller** bar come in, `pop` the bar in stack, calc the area\n",
    "- Calc the remain bar in the stack\n"
   ]
  },
  {
   "cell_type": "code",
   "execution_count": 9,
   "metadata": {},
   "outputs": [
    {
     "name": "stdout",
     "output_type": "stream",
     "text": [
      "4\n"
     ]
    }
   ],
   "source": [
    "class Solution:\n",
    "    def largestRectangleArea(self, heights: list[int]) -> int:\n",
    "        stac = []\n",
    "        maxArea = 0\n",
    "        for i, hei in enumerate(heights):\n",
    "            #1 Larger bar, push to stack\n",
    "            _, b = stac[-1] if stac else [0, 0]\n",
    "            if len(stac) == 0 or heights[i] > b:\n",
    "                stac.append((i, hei))\n",
    "            else:\n",
    "            #2 calc the area from <stack> to current, find max\n",
    "                while stac and stac[-1][1] > hei:\n",
    "                    j, h = stac.pop()\n",
    "                    maxArea = max(maxArea, h * (i - j))\n",
    "                stac.append((j, hei))\n",
    "        while stac: \n",
    "            j, h = stac.pop()\n",
    "            maxArea = max(maxArea, h * (i - j + 1))\n",
    "        return maxArea\n",
    "    \n",
    "ans = Solution()\n",
    "\n",
    "print(ans.largestRectangleArea([2, 4])) # 10\n"
   ]
  },
  {
   "cell_type": "code",
   "execution_count": 14,
   "metadata": {},
   "outputs": [
    {
     "name": "stdout",
     "output_type": "stream",
     "text": [
      "10\n"
     ]
    }
   ],
   "source": [
    "def largestRectangle(heights):\n",
    "    stac = []\n",
    "    maxArea = 0\n",
    "    for i, hei in enumerate(heights):\n",
    "        pivot = i\n",
    "        while stac and stac[-1][1] > hei:\n",
    "            j, h = stac.pop()\n",
    "            maxArea = max(maxArea, h * (i - j))\n",
    "            pivot = i\n",
    "        stac.append((pivot, hei))\n",
    "    while stac: \n",
    "        j, h = stac.pop()\n",
    "        maxArea = max(maxArea, h * (i - j + 1))\n",
    "    return maxArea\n",
    "\n",
    "arr = [int(i) for i in input().split()]\n",
    "print(largestRectangle(arr))"
   ]
  }
 ],
 "metadata": {
  "kernelspec": {
   "display_name": "base",
   "language": "python",
   "name": "python3"
  },
  "language_info": {
   "codemirror_mode": {
    "name": "ipython",
    "version": 3
   },
   "file_extension": ".py",
   "mimetype": "text/x-python",
   "name": "python",
   "nbconvert_exporter": "python",
   "pygments_lexer": "ipython3",
   "version": "3.11.7"
  }
 },
 "nbformat": 4,
 "nbformat_minor": 2
}

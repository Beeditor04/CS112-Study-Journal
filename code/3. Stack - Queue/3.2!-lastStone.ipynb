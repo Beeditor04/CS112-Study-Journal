{
 "cells": [
  {
   "cell_type": "markdown",
   "metadata": {},
   "source": [
    "link: https://leetcode.com/problems/last-stone-weight/description/"
   ]
  },
  {
   "cell_type": "code",
   "execution_count": 2,
   "metadata": {},
   "outputs": [
    {
     "name": "stdout",
     "output_type": "stream",
     "text": [
      "1\n"
     ]
    }
   ],
   "source": [
    "class maxHeap:\n",
    "    def __init__(self):\n",
    "        self.heap = []\n",
    "        self.n = 0\n",
    "    def heapify(self, i):\n",
    "        largest = i\n",
    "        l = 2 * i + 1\n",
    "        r = 2 * i + 2\n",
    "        # check left, l might over the length of the heap\n",
    "        if l < self.n and self.heap[l] > self.heap[i]:\n",
    "            largest = l\n",
    "        # check right, r might over the length of the heap\n",
    "        if r < self.n and self.heap[r] > self.heap[largest]:\n",
    "            largest = r\n",
    "        if largest != i:\n",
    "            self.heap[i], self.heap[largest] = self.heap[largest], self.heap[i]    \n",
    "            self.heapify(largest)\n",
    "            \n",
    "    def delete(self, key):\n",
    "        for i in range(self.n):\n",
    "            if key == self.heap[i]:\n",
    "                break \n",
    "        self.heap[i], self.heap[self.n - 1] = self.heap[self.n - 1], self.heap[i]\n",
    "        self.n -= 1\n",
    "        self.heap.pop()\n",
    "\n",
    "        for i in range((self.n - 1)//2, -1, -1):\n",
    "            self.heapify(i)\n",
    "\n",
    "    def insert(self, key):\n",
    "        self.heap.append(key)\n",
    "        self.n = len(self.heap)\n",
    "        for i in range((self.n - 1)//2, -1, -1):\n",
    "            self.heapify(i)\n",
    "\n",
    "class Solution:\n",
    "    def lastStoneWeight(self, stones: list[int]) -> int:\n",
    "        maxheap = maxHeap()\n",
    "\n",
    "        ## building maxHeap\n",
    "        for i in stones:\n",
    "            maxheap.insert(i)\n",
    "\n",
    "        while maxheap.n > 1:\n",
    "            # get the largest, build back to maxheap \n",
    "            x = maxheap.heap[0]\n",
    "            maxheap.delete(x)\n",
    "            y = maxheap.heap[0]\n",
    "            maxheap.delete(y)          \n",
    "            if x != y:\n",
    "                maxheap.insert(x - y)\n",
    "\n",
    "        return maxheap.heap[0] if maxheap.n == 1 else 0\n",
    "\n",
    "ans = Solution()\n",
    "print(ans.lastStoneWeight([2, 7, 4, 1, 8, 1]))"
   ]
  }
 ],
 "metadata": {
  "kernelspec": {
   "display_name": "base",
   "language": "python",
   "name": "python3"
  },
  "language_info": {
   "codemirror_mode": {
    "name": "ipython",
    "version": 3
   },
   "file_extension": ".py",
   "mimetype": "text/x-python",
   "name": "python",
   "nbconvert_exporter": "python",
   "pygments_lexer": "ipython3",
   "version": "3.11.7"
  }
 },
 "nbformat": 4,
 "nbformat_minor": 2
}

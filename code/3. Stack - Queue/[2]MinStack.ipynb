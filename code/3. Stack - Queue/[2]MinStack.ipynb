{
 "cells": [
  {
   "cell_type": "markdown",
   "metadata": {},
   "source": [
    "Link: https://leetcode.com/problems/min-stack/submissions/1210099225/"
   ]
  },
  {
   "cell_type": "code",
   "execution_count": 1,
   "metadata": {},
   "outputs": [],
   "source": [
    "class MinStack:\n",
    "\n",
    "    def __init__(self):\n",
    "        self.stack = []\n",
    "        self.size = 0\n",
    "        self.min = 0\n",
    "\n",
    "    def push(self, val: int) -> None:\n",
    "        self.stack.append(val)\n",
    "        if self.size == 0: \n",
    "            self.min = val\n",
    "        else:\n",
    "            self.min = min(self.min, val)\n",
    "        self.size += 1\n",
    "        \n",
    "\n",
    "    def pop(self) -> None:\n",
    "        if (self.size == 0): return\n",
    "        temp = self.stack.pop()\n",
    "        self.size -= 1\n",
    "        if temp == self.min:\n",
    "            self.min = self.stack[0]\n",
    "            for i in self.stack:\n",
    "                self.min = min(self.min, i)\n",
    "        \n",
    "\n",
    "    def top(self) -> int:\n",
    "        if (self.size == 0): return -1\n",
    "        return int(self.stack[self.size - 1])\n",
    "        \n",
    "\n",
    "    def getMin(self) -> int:\n",
    "        if (self.size == 0): return -1\n",
    "        return int(self.min)\n",
    "\n",
    "# Your MinStack object will be instantiated and called as such:\n",
    "    \n",
    "obj = MinStack()\n",
    "obj.push(-2)\n",
    "obj.push(0)\n",
    "obj.push(-3)\n",
    "obj.getMin()\n",
    "obj.pop()\n",
    "obj.top()\n",
    "obj.getMin()\n",
    "param_3 = obj.top()\n",
    "param_4 = obj.getMin()"
   ]
  }
 ],
 "metadata": {
  "kernelspec": {
   "display_name": "base",
   "language": "python",
   "name": "python3"
  },
  "language_info": {
   "codemirror_mode": {
    "name": "ipython",
    "version": 3
   },
   "file_extension": ".py",
   "mimetype": "text/x-python",
   "name": "python",
   "nbconvert_exporter": "python",
   "pygments_lexer": "ipython3",
   "version": "3.11.5"
  }
 },
 "nbformat": 4,
 "nbformat_minor": 2
}

{
 "cells": [
  {
   "cell_type": "markdown",
   "metadata": {},
   "source": [
    "#### 150. Evaluate Reverse Polish Notation\n",
    "Link: https://leetcode.com/problems/evaluate-reverse-polish-notation/submissions/1210627342/"
   ]
  },
  {
   "cell_type": "markdown",
   "metadata": {},
   "source": [
    "#### My ideas:\n",
    "- S1: Stack: containing input until it meets non-numeric characters \n",
    "- S2: `eval()`:`.pop()` two last input in the stack and then performing whatever the operator we meet\n",
    "- S3: : **add** the newest number that just calc\n",
    "- S4: back to S1\n",
    "\n",
    "> **Attention**: Handle negative and float number (`.isnumeric()` don't recognize, eval will always return float)"
   ]
  },
  {
   "cell_type": "code",
   "execution_count": 31,
   "metadata": {},
   "outputs": [
    {
     "data": {
      "text/plain": [
       "22"
      ]
     },
     "execution_count": 31,
     "metadata": {},
     "output_type": "execute_result"
    }
   ],
   "source": [
    "class Solution:\n",
    "    def isnum(self, s: str) -> bool:\n",
    "        try:\n",
    "            int(s)\n",
    "            return True\n",
    "        except:\n",
    "            return False\n",
    "    def evalRPN(self, tokens: list[str]) -> int:\n",
    "        stack = []\n",
    "        for i in tokens:\n",
    "            if (self.isnum(i)):\n",
    "                stack.append(i)\n",
    "            else:\n",
    "                b = stack.pop()\n",
    "                a = stack.pop()\n",
    "                stack.append(str(int(eval(a + i + b))))\n",
    "        return int(stack[0])\n",
    "    \n",
    "ans = Solution()\n",
    "ans.evalRPN([\"10\",\"6\",\"9\",\"3\",\"+\",\"-11\",\"*\",\"/\",\"*\",\"17\",\"+\",\"5\",\"+\"])"
   ]
  },
  {
   "cell_type": "markdown",
   "metadata": {},
   "source": [
    "#### Faster Solution: \n",
    "- use `if`, don't use `eval`"
   ]
  },
  {
   "cell_type": "code",
   "execution_count": 33,
   "metadata": {},
   "outputs": [],
   "source": [
    "class Solution:\n",
    "    def evalRPN(self, tokens: list[str]) -> int:\n",
    "\n",
    "        # stack = []\n",
    "        # ops = {\n",
    "        #     \"+\": lambda a, b: a + b,\n",
    "        #     \"-\": lambda a, b: b - a,\n",
    "        #     \"/\": lambda a, b: int(b / a),\n",
    "        #     \"*\": lambda a, b: a * b\n",
    "        # }\n",
    "        # for i in tokens:\n",
    "        #     if i in ops:\n",
    "        #         stack.append(ops[i](stack.pop(), stack.pop()))\n",
    "        #     else:\n",
    "        #         stack.append(int(i))\n",
    "        # return stack[0]\n",
    "        stacks = []\n",
    "\n",
    "        for token in tokens:\n",
    "\n",
    "            if token == \"+\":\n",
    "                a, b = stacks.pop() , stacks.pop()\n",
    "                stacks.append(a + b)\n",
    "            elif token == \"*\":\n",
    "                a, b = stacks.pop(), stacks.pop()\n",
    "                stacks.append(a * b)\n",
    "            elif token == \"/\":\n",
    "                a, b = stacks.pop(), stacks.pop()\n",
    "                stacks.append(int(b/a))\n",
    "            elif token == \"-\":\n",
    "                a, b = stacks.pop(), stacks.pop()\n",
    "                stacks.append(b-a)\n",
    "            else:\n",
    "                stacks.append(int(token))\n",
    "\n",
    "        return stacks[0]\n"
   ]
  },
  {
   "cell_type": "code",
   "execution_count": 2,
   "metadata": {},
   "outputs": [
    {
     "data": {
      "text/plain": [
       "3.4641016151377544"
      ]
     },
     "execution_count": 2,
     "metadata": {},
     "output_type": "execute_result"
    }
   ],
   "source": [
    "import math\n",
    "math.sqrt(12)"
   ]
  }
 ],
 "metadata": {
  "kernelspec": {
   "display_name": "base",
   "language": "python",
   "name": "python3"
  },
  "language_info": {
   "codemirror_mode": {
    "name": "ipython",
    "version": 3
   },
   "file_extension": ".py",
   "mimetype": "text/x-python",
   "name": "python",
   "nbconvert_exporter": "python",
   "pygments_lexer": "ipython3",
   "version": "3.11.5"
  }
 },
 "nbformat": 4,
 "nbformat_minor": 2
}

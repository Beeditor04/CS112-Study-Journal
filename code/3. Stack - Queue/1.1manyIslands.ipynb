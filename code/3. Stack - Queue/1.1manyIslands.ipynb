{
 "cells": [
  {
   "cell_type": "markdown",
   "metadata": {},
   "source": [
    "### 200. Number of Islands\n",
    "link: https://leetcode.com/problems/number-of-islands/description/\n",
    "- 2 ways to solve:\n",
    "    + `BFS`\n",
    "    + `DFS`"
   ]
  },
  {
   "cell_type": "markdown",
   "metadata": {},
   "source": [
    "#### My ideas:\n",
    "- `BFS`: because this is 2D array, when u found \"1\" in grid, using `BFS` by check 4 position: `left` `up` `right` `bottom`\n",
    "- Code can be optimized by remove `visited` and use the **visited sign** with `#` or sth in `grid`"
   ]
  },
  {
   "cell_type": "code",
   "execution_count": 1,
   "metadata": {},
   "outputs": [
    {
     "name": "stdout",
     "output_type": "stream",
     "text": [
      "1\n"
     ]
    }
   ],
   "source": [
    "class Solution:\n",
    "    def numIslands(self, grid: list[list[str]]) -> int:\n",
    "        row = len(grid)\n",
    "        column = len(grid[0])\n",
    "        count = 0\n",
    "        visited = [[False for i in range(column)] for j in range(row)]\n",
    "\n",
    "        for i in range(row):\n",
    "            for j in range(column):\n",
    "                if (grid[i][j] == \"1\" and not visited[i][j]):\n",
    "                    count += 1\n",
    "                    visited[i][j] = True\n",
    "                    self.bfs(grid, i, j, visited)\n",
    "        return count\n",
    "    \n",
    "    def bfs(self, grid: list[list[str]], i: int, j: int, visited:  list[list[str]]) -> None:\n",
    "        queue = []\n",
    "        queue.append((i, j))\n",
    "        Y = [-1, 0, 1, 0] #left, right, bottom\n",
    "        X = [0, -1, 0, 1]\n",
    "        while (queue != []):\n",
    "            i, j = queue.pop(0)\n",
    "            for k in range(len(X)):\n",
    "                # condition for overflow\n",
    "                if (i + X[k] < len(grid) and j + Y[k] < len(grid[0]) and \n",
    "                    i + X[k] >= 0 and j + Y[k] >= 0):\n",
    "                    if (grid[i + X[k]][j + Y[k]] == \"1\" and not visited[i + X[k]][j + Y[k]]):\n",
    "                        queue.append((i + X[k], j + Y[k]))\n",
    "                        visited[i + X[k]][j + Y[k]] = True\n",
    "\n",
    "\n",
    "grid = [\n",
    "  [\"1\",\"1\",\"0\",\"0\",\"0\"],\n",
    "  [\"1\",\"1\",\"0\",\"0\",\"0\"],\n",
    "  [\"0\",\"0\",\"1\",\"0\",\"0\"],\n",
    "  [\"0\",\"0\",\"0\",\"1\",\"1\"]\n",
    "]\n",
    "\n",
    "\n",
    "ans = Solution()\n",
    "print(ans.numIslands(grid))"
   ]
  },
  {
   "cell_type": "markdown",
   "metadata": {},
   "source": [
    "`DFS` (non-recursive)"
   ]
  },
  {
   "cell_type": "code",
   "execution_count": 21,
   "metadata": {},
   "outputs": [
    {
     "name": "stdout",
     "output_type": "stream",
     "text": [
      "3\n"
     ]
    }
   ],
   "source": [
    "class Solution:\n",
    "    def numIslands(self, grid: list[list[str]]) -> int:\n",
    "        row = len(grid)\n",
    "        column = len(grid[0])\n",
    "        count = 0\n",
    "        visited = [[False for i in range(column)] for j in range(row)]\n",
    "\n",
    "        for i in range(row):\n",
    "            for j in range(column):\n",
    "                if (grid[i][j] == \"1\" and not visited[i][j]):\n",
    "                    count += 1\n",
    "                    visited[i][j] = True\n",
    "                    self.dfs(grid, i, j, visited)\n",
    "        return count\n",
    "    \n",
    "    def dfs(self, grid: list[list[str]], i: int, j: int, visited:  list[list[str]]) -> None:\n",
    "        #! Different between dfs and bfs\n",
    "        stack = []\n",
    "        stack.append((i, j))\n",
    "        Y = [-1, 0, 1, 0] #left, right, bottom\n",
    "        X = [0, -1, 0, 1]\n",
    "        while (stack != []):\n",
    "            i, j = stack.pop(0)\n",
    "            for k in range(len(X)):\n",
    "                # condition for overflow\n",
    "                if (i + X[k] < len(grid) and j + Y[k] < len(grid[0]) and \n",
    "                    i + X[k] >= 0 and j + Y[k] >= 0):\n",
    "                    if (grid[i + X[k]][j + Y[k]] == \"1\" and not visited[i + X[k]][j + Y[k]]):\n",
    "                        stack.insert(0, (i + X[k], j + Y[k]))\n",
    "                        visited[i + X[k]][j + Y[k]] = True\n",
    "\n",
    "\n",
    "grid = [\n",
    "  [\"1\",\"1\",\"0\",\"0\",\"0\"],\n",
    "  [\"1\",\"1\",\"0\",\"0\",\"0\"],\n",
    "  [\"0\",\"0\",\"1\",\"0\",\"0\"],\n",
    "  [\"0\",\"0\",\"0\",\"1\",\"1\"]\n",
    "]\n",
    "\n",
    "\n",
    "ans = Solution()\n",
    "print(ans.numIslands(grid))"
   ]
  },
  {
   "cell_type": "markdown",
   "metadata": {},
   "source": [
    "`DFS`: Recursive approach (no stack need) \\\n",
    "Link: https://leetcode.com/problems/number-of-islands/solutions/56340/python-simple-dfs-solution/"
   ]
  },
  {
   "cell_type": "code",
   "execution_count": 5,
   "metadata": {},
   "outputs": [
    {
     "name": "stdout",
     "output_type": "stream",
     "text": [
      "1\n"
     ]
    }
   ],
   "source": [
    "class Solution:    \n",
    "    def numIslands(self, grid):\n",
    "        if not grid:\n",
    "            return 0\n",
    "            \n",
    "        count = 0\n",
    "        for i in range(len(grid)):\n",
    "            for j in range(len(grid[0])):\n",
    "                if grid[i][j] == '1':\n",
    "                    self.dfs(grid, i, j)\n",
    "                    count += 1\n",
    "        return count\n",
    "\n",
    "    def dfs(self, grid, i, j):\n",
    "        if i<0 or j<0 or i>=len(grid) or j>=len(grid[0]) or grid[i][j] != '1':\n",
    "            return\n",
    "        grid[i][j] = '#'\n",
    "        self.dfs(grid, i+1, j)\n",
    "        self.dfs(grid, i-1, j)\n",
    "        self.dfs(grid, i, j+1)\n",
    "        self.dfs(grid, i, j-1)\n",
    "\n",
    "grid = [\n",
    "  [\"1\",\"1\",\"1\",\"1\",\"0\"],\n",
    "  [\"1\",\"1\",\"0\",\"1\",\"0\"],\n",
    "  [\"1\",\"1\",\"0\",\"0\",\"0\"],\n",
    "  [\"0\",\"0\",\"0\",\"0\",\"0\"]\n",
    "]\n",
    "\n",
    "ans = Solution()\n",
    "print(ans.numIslands(grid))"
   ]
  }
 ],
 "metadata": {
  "kernelspec": {
   "display_name": "base",
   "language": "python",
   "name": "python3"
  },
  "language_info": {
   "codemirror_mode": {
    "name": "ipython",
    "version": 3
   },
   "file_extension": ".py",
   "mimetype": "text/x-python",
   "name": "python",
   "nbconvert_exporter": "python",
   "pygments_lexer": "ipython3",
   "version": "3.11.7"
  }
 },
 "nbformat": 4,
 "nbformat_minor": 2
}

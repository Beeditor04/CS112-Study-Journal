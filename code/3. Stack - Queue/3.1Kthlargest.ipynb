{
 "cells": [
  {
   "cell_type": "markdown",
   "metadata": {},
   "source": [
    "link: https://leetcode.com/problems/kth-largest-element-in-a-stream/description/"
   ]
  },
  {
   "cell_type": "code",
   "execution_count": 1,
   "metadata": {},
   "outputs": [
    {
     "name": "stdout",
     "output_type": "stream",
     "text": [
      "4\n",
      "5\n",
      "5\n",
      "8\n",
      "8\n"
     ]
    }
   ],
   "source": [
    "class KthLargest:\n",
    "    def __init__(self, k: int, nums: list[int]):\n",
    "        self.k = k\n",
    "        self.arr = nums\n",
    "\n",
    "    def heapify(self, n, i):\n",
    "        largest = i\n",
    "        left = 2 * i + 1\n",
    "        right = 2 * i + 2\n",
    "        if left < n and self.arr[left] < self.arr[largest]:\n",
    "            largest = left\n",
    "        if right < n and self.arr[right] < self.arr[largest]:\n",
    "            largest = right\n",
    "        if largest != i:\n",
    "            self.arr[largest], self.arr[i] = self.arr[i], self.arr[largest]\n",
    "            self.heapify(n, largest)\n",
    "    \n",
    "    def heapSort(self):\n",
    "        for i in range((len(self.arr) - 1), -1, -1):\n",
    "            self.arr[0], self.arr[i] = self.arr[i], self.arr[0]\n",
    "            self.heapify(i, 0)\n",
    "\n",
    "    def add(self, val: int) -> int:\n",
    "        self.arr.append(val)\n",
    "        for i in range((len(self.arr) - 1) // 2, -1, -1):\n",
    "            self.heapify(len(self.arr), i)\n",
    "        self.heapSort()\n",
    "        return self.arr[self.k - 1]\n",
    "\n",
    "\n",
    "# Your KthLargest object will be instantiated and called as such:\n",
    "k = 3; nums = [4, 5, 8, 2]\n",
    "obj = KthLargest(k, nums)\n",
    "print(obj.add(3))\n",
    "print(obj.add(5))\n",
    "print(obj.add(10))\n",
    "print(obj.add(9))\n",
    "print(obj.add(4))"
   ]
  },
  {
   "cell_type": "code",
   "execution_count": 2,
   "metadata": {},
   "outputs": [
    {
     "name": "stdout",
     "output_type": "stream",
     "text": [
      "4\n",
      "5\n",
      "5\n",
      "8\n",
      "8\n"
     ]
    }
   ],
   "source": [
    "import heapq\n",
    "\n",
    "class KthLargest:\n",
    "    def __init__(self, k: int, nums: list[int]):\n",
    "        self.k = k\n",
    "        self.heap = nums\n",
    "        heapq.heapify(self.heap)\n",
    "        \n",
    "        while len(self.heap) > k:\n",
    "            heapq.heappop(self.heap)\n",
    "\n",
    "    def add(self, val: int) -> int:\n",
    "        heapq.heappush(self.heap, val)\n",
    "        if len(self.heap) > self.k:\n",
    "            heapq.heappop(self.heap)\n",
    "        return self.heap[0]\n",
    "    \n",
    "k = 3; nums = [4, 5, 8, 2]\n",
    "obj = KthLargest(k, nums)\n",
    "print(obj.add(3))\n",
    "print(obj.add(5))\n",
    "print(obj.add(10))\n",
    "print(obj.add(9))\n",
    "print(obj.add(4))"
   ]
  }
 ],
 "metadata": {
  "kernelspec": {
   "display_name": "base",
   "language": "python",
   "name": "python3"
  },
  "language_info": {
   "codemirror_mode": {
    "name": "ipython",
    "version": 3
   },
   "file_extension": ".py",
   "mimetype": "text/x-python",
   "name": "python",
   "nbconvert_exporter": "python",
   "pygments_lexer": "ipython3",
   "version": "3.11.7"
  }
 },
 "nbformat": 4,
 "nbformat_minor": 2
}

{
 "cells": [
  {
   "cell_type": "markdown",
   "metadata": {},
   "source": [
    "#### About heap:\n",
    "Reference: [Programiz](https://www.programiz.com/dsa/heap-data-structure#heapify) | [GFG](https://www.geeksforgeeks.org/binary-heap/) | [Medium](https://medium.com/basecs/learning-to-love-heaps-cef2b273a238) \n",
    "- **complete** binary tree, min heap means the `root` is the min node and vice versa\n",
    "- Array implementation:\n",
    "    + `root`: at index 0\n",
    "    + **current** position: `i`\n",
    "    + **non-leaf** node: at `n/2 - 1`\n",
    "    + **parent** node: `i/2 - 1`\n",
    "    + **left** node: `2*i + 1`\n",
    "    + **right** node: `2*i + 2`"
   ]
  },
  {
   "cell_type": "markdown",
   "metadata": {},
   "source": [
    "### Operations: \n",
    "#### 1) Insertion: add to the end of the list, and then `heapify`\n",
    ">\n",
    "    array.append(key)\n",
    "    for i in range(n//2 - 1, 0):\n",
    "        heapify(array)\n"
   ]
  },
  {
   "cell_type": "code",
   "execution_count": 10,
   "metadata": {},
   "outputs": [
    {
     "name": "stdout",
     "output_type": "stream",
     "text": [
      "Min-Heap array: [1, 2, 5, 3, 6, 10, 8, 9, 4, 11, 7]\n",
      "After deleting an element: <__main__.minHeap object at 0x000001FAB2F00550>\n"
     ]
    }
   ],
   "source": [
    "# Max-Heap data structure in Python\n",
    "\n",
    "class minHeap:\n",
    "    def __init__(self):\n",
    "        self.heap = []\n",
    "        self.n = 0\n",
    "    def heapify(self, i):\n",
    "        smallest = i\n",
    "        l = 2 * i + 1\n",
    "        r = 2 * i + 2\n",
    "\n",
    "        # check left, l might over the length of the heap\n",
    "        if l < self.n and self.heap[l] < self.heap[i]:\n",
    "            smallest = l\n",
    "        # check right, r might over the length of the heap\n",
    "        if r < self.n and self.heap[r] < self.heap[smallest]:\n",
    "            smallest = r\n",
    "        if smallest != i:\n",
    "            self.heap[i], self.heap[smallest] = self.heap[smallest], self.heap[i]    \n",
    "\n",
    "    def insert(self, newNum):\n",
    "        self.heap.append(newNum)\n",
    "        self.n = len(self.heap)\n",
    "        for i in range((self.n - 1)//2, -1, -1):\n",
    "            self.heapify(i)\n",
    "\n",
    "    \n",
    "arr = minHeap()\n",
    "\n",
    "arr.insert(9)\n",
    "arr.insert(4)\n",
    "arr.insert(5)\n",
    "arr.insert(2)\n",
    "arr.insert(11)\n",
    "arr.insert(10)\n",
    "arr.insert(8)\n",
    "arr.insert(1)\n",
    "arr.insert(3)\n",
    "arr.insert(7)\n",
    "arr.insert(6)\n",
    "\n",
    "print (\"Min-Heap array: \" + str(arr.heap))\n",
    "\n",
    "# arr.deleteNode(arr, 4)\n",
    "print(\"After deleting an element: \" + str(arr))"
   ]
  },
  {
   "cell_type": "markdown",
   "metadata": {},
   "source": [
    "#### 2) Deletion: swap with the last elements and then `heapify()`"
   ]
  },
  {
   "cell_type": "code",
   "execution_count": 13,
   "metadata": {},
   "outputs": [
    {
     "name": "stdout",
     "output_type": "stream",
     "text": [
      "Min-Heap array: [1, 2, 5, 3, 6, 10, 8, 9, 4, 11, 7]\n",
      "After deleting an element: [1, 2, 5, 3, 6, 10, 8, 9, 7, 11]\n"
     ]
    }
   ],
   "source": [
    "# Max-Heap data structure in Python\n",
    "\n",
    "class minHeap:\n",
    "    def __init__(self):\n",
    "        self.heap = []\n",
    "        self.n = 0\n",
    "    def heapify(self, i):\n",
    "        smallest = i\n",
    "        l = 2 * i + 1\n",
    "        r = 2 * i + 2\n",
    "\n",
    "        # check left, l might over the length of the heap\n",
    "        if l < self.n and self.heap[l] < self.heap[i]:\n",
    "            smallest = l\n",
    "        # check right, r might over the length of the heap\n",
    "        if r < self.n and self.heap[r] < self.heap[smallest]:\n",
    "            smallest = r\n",
    "        if smallest != i:\n",
    "            self.heap[i], self.heap[smallest] = self.heap[smallest], self.heap[i]    \n",
    "            self.heapify(smallest)\n",
    "            \n",
    "    def delete(self, key):\n",
    "        for i in range(self.n):\n",
    "            if key == self.heap[i]:\n",
    "                break\n",
    "        \n",
    "        self.heap[i], self.heap[self.n - 1] = self.heap[self.n - 1], self.heap[i]\n",
    "        self.n -= 1\n",
    "        self.heap.pop()\n",
    "\n",
    "        for i in range((self.n)//2 - 1, -1, -1):\n",
    "            self.heapify(i)\n",
    "\n",
    "    def insert(self, key):\n",
    "        self.heap.append(key)\n",
    "        self.n = len(self.heap)\n",
    "\n",
    "        for i in range((self.n)//2 - 1, -1, -1):\n",
    "            self.heapify(i)\n",
    "\n",
    "    \n",
    "arr = minHeap()\n",
    "\n",
    "arr.insert(9)\n",
    "arr.insert(4)\n",
    "arr.insert(5)\n",
    "arr.insert(2)\n",
    "arr.insert(11)\n",
    "arr.insert(10)\n",
    "arr.insert(8)\n",
    "arr.insert(1)\n",
    "arr.insert(3)\n",
    "arr.insert(7)\n",
    "arr.insert(6)\n",
    "\n",
    "print (\"Min-Heap array: \" + str(arr.heap))\n",
    "\n",
    "arr.delete(4)\n",
    "print(\"After deleting an element: \" + str(arr.heap))"
   ]
  },
  {
   "cell_type": "markdown",
   "metadata": {},
   "source": [
    "#### 3)`heapSort()`\n",
    "- https://www.geeksforgeeks.org/heap-sort/ | https://www.programiz.com/dsa/heap-sort"
   ]
  },
  {
   "cell_type": "code",
   "execution_count": 20,
   "metadata": {},
   "outputs": [
    {
     "name": "stdout",
     "output_type": "stream",
     "text": [
      "Min-Heap array: [1, 2, 5, 3, 11, 10, 8, 9, 4]\n",
      "After sorting: [11, 10, 9, 8, 5, 4, 3, 2, 1]\n"
     ]
    }
   ],
   "source": [
    "# Max-Heap data structure in Python\n",
    "\n",
    "class minHeap:\n",
    "    def __init__(self):\n",
    "        self.heap = []\n",
    "        self.n = 0\n",
    "        \n",
    "    def heapify(self, n, i):\n",
    "        smallest = i\n",
    "        l = 2 * i + 1\n",
    "        r = 2 * i + 2\n",
    "\n",
    "        # check left, l might over the length of the heap\n",
    "        if l < n and self.heap[l] < self.heap[i]:\n",
    "            smallest = l\n",
    "        # check right, r might over the length of the heap\n",
    "        if r < n and self.heap[r] < self.heap[smallest]:\n",
    "            smallest = r\n",
    "        if smallest != i:\n",
    "            self.heap[i], self.heap[smallest] = self.heap[smallest], self.heap[i] \n",
    "            self.heapify(n, smallest) #!for delete bc u might del in the middle so heap both up and down   \n",
    "\n",
    "    def insert(self, key):\n",
    "        self.heap.append(key)\n",
    "        self.n = len(self.heap)\n",
    "        for i in range((self.n - 1)//2, -1, -1):\n",
    "            self.heapify(self.n, i)\n",
    "\n",
    "    def heapSort(self):\n",
    "        for i in range(self.n - 1, 0, -1):\n",
    "            self.heap[i], self.heap[0] = self.heap[0], self.heap[i]\n",
    "            self.heapify(i, 0)\n",
    "\n",
    "arr = minHeap()\n",
    "arr.insert(9)\n",
    "arr.insert(4)\n",
    "arr.insert(5)\n",
    "arr.insert(2)\n",
    "arr.insert(11)\n",
    "arr.insert(10)\n",
    "arr.insert(8)\n",
    "arr.insert(1)\n",
    "arr.insert(3)\n",
    "\n",
    "\n",
    "print (\"Min-Heap array: \" + str(arr.heap))\n",
    "arr.heapSort()\n",
    "print(\"After sorting: \" + str(arr.heap))"
   ]
  },
  {
   "cell_type": "code",
   "execution_count": 22,
   "metadata": {},
   "outputs": [
    {
     "name": "stdout",
     "output_type": "stream",
     "text": [
      "Min-Heap array: [11, 9, 10, 3, 4, 5, 8, 1, 2]\n",
      "After sorting: [1, 2, 3, 4, 5, 8, 9, 10, 11]\n"
     ]
    }
   ],
   "source": [
    "# Min-Heap data structure in Python\n",
    "\n",
    "class minHeap:\n",
    "    def __init__(self):\n",
    "        self.heap = []\n",
    "        self.n = 0\n",
    "        \n",
    "    def heapify(self, n, i):\n",
    "        smallest = i\n",
    "        l = 2 * i + 1\n",
    "        r = 2 * i + 2\n",
    "\n",
    "        # check left, l might over the length of the heap\n",
    "        if l < n and self.heap[l] > self.heap[i]:\n",
    "            smallest = l\n",
    "        # check right, r might over the length of the heap\n",
    "        if r < n and self.heap[r] > self.heap[smallest]:\n",
    "            smallest = r\n",
    "        if smallest != i:\n",
    "            self.heap[i], self.heap[smallest] = self.heap[smallest], self.heap[i] \n",
    "            self.heapify(n, smallest) #!for delete bc u might del in the middle so heap both up and down   \n",
    "\n",
    "    def delete(self, key):\n",
    "        for i in range(self.n):\n",
    "            if key == self.heap[i]:\n",
    "                break\n",
    "        self.heap[i], self.heap[self.n - 1] = self.heap[self.n - 1], self.heap[i]\n",
    "        self.n -= 1\n",
    "        self.heap.pop()\n",
    "        for i in range((self.n - 1)//2, -1, -1):\n",
    "            self.heapify(self.n, i)\n",
    "\n",
    "    def insert(self, key):\n",
    "        self.heap.append(key)\n",
    "        self.n = len(self.heap)\n",
    "        for i in range((self.n - 1)//2, -1, -1):\n",
    "            self.heapify(self.n, i)\n",
    "\n",
    "    def heapSort(self):\n",
    "        for i in range(self.n - 1, 0, -1):\n",
    "            self.heap[i], self.heap[0] = self.heap[0], self.heap[i]\n",
    "            self.heapify(i, 0)\n",
    "\n",
    "arr = minHeap()\n",
    "arr.insert(9)\n",
    "arr.insert(4)\n",
    "arr.insert(5)\n",
    "arr.insert(2)\n",
    "arr.insert(11)\n",
    "arr.insert(10)\n",
    "arr.insert(8)\n",
    "arr.insert(1)\n",
    "arr.insert(3)\n",
    "\n",
    "\n",
    "print (\"Min-Heap array: \" + str(arr.heap))\n",
    "\n",
    "arr.heapSort()\n",
    "print(\"After sorting: \" + str(arr.heap))"
   ]
  }
 ],
 "metadata": {
  "kernelspec": {
   "display_name": "base",
   "language": "python",
   "name": "python3"
  },
  "language_info": {
   "codemirror_mode": {
    "name": "ipython",
    "version": 3
   },
   "file_extension": ".py",
   "mimetype": "text/x-python",
   "name": "python",
   "nbconvert_exporter": "python",
   "pygments_lexer": "ipython3",
   "version": "3.11.7"
  }
 },
 "nbformat": 4,
 "nbformat_minor": 2
}

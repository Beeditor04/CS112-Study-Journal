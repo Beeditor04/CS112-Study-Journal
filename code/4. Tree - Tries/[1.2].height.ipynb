{
 "cells": [
  {
   "cell_type": "markdown",
   "metadata": {},
   "source": [
    "#### Top-Down Approach"
   ]
  },
  {
   "cell_type": "code",
   "execution_count": null,
   "metadata": {},
   "outputs": [
    {
     "data": {
      "text/plain": [
       "3"
      ]
     },
     "execution_count": 1,
     "metadata": {},
     "output_type": "execute_result"
    }
   ],
   "source": [
    "class TreeNode:\n",
    "    def __init__(self, val=0, left=None, right=None):\n",
    "        self.val = val\n",
    "        self.left = left\n",
    "        self.right = right\n",
    "class Solution:\n",
    "    def maxHeight(self, root: TreeNode, height: int, ans: int) -> int:\n",
    "        ans = max(height, ans)\n",
    "        if (root.left): ans = self.maxHeight(root.left, height + 1, ans)\n",
    "        if (root.right): ans = self.maxHeight(root.right, height + 1, ans)\n",
    "        return ans\n",
    "    \n",
    "    def maxDepth(self, root: TreeNode) -> int:\n",
    "        ans = 0\n",
    "        if root is None: return 0\n",
    "        if (root.left is None and root.right is None): return 1\n",
    "        return self.maxHeight(root, 1, ans)\n",
    "#     3\n",
    "#    9 20\n",
    "#   1  15 7\n",
    "ans = Solution()\n",
    "tree = TreeNode(3)\n",
    "tree.left = TreeNode(9)\n",
    "tree.right = TreeNode(20)\n",
    "tree.right.left = TreeNode(15)\n",
    "tree.right.right = TreeNode(7)\n",
    "tree.left.left = TreeNode(1)\n",
    "ans.maxDepth(tree)"
   ]
  },
  {
   "cell_type": "code",
   "execution_count": null,
   "metadata": {},
   "outputs": [],
   "source": []
  },
  {
   "cell_type": "markdown",
   "metadata": {},
   "source": [
    "#### Bottom-Up Approach"
   ]
  },
  {
   "cell_type": "code",
   "execution_count": 4,
   "metadata": {},
   "outputs": [
    {
     "data": {
      "text/plain": [
       "3"
      ]
     },
     "execution_count": 4,
     "metadata": {},
     "output_type": "execute_result"
    }
   ],
   "source": [
    "\n",
    "class TreeNode:\n",
    "    def __init__(self, val=0, left=None, right=None):\n",
    "        self.val = val\n",
    "        self.left = left\n",
    "        self.right = right\n",
    "class Solution:\n",
    "    #post order\n",
    "    def maxHeight(self, root: TreeNode) -> int:\n",
    "        leftval = 0; rightval = 0\n",
    "        if (root.left): leftval = self.maxHeight(root.left)\n",
    "        if (root.right): rightval = self.maxHeight(root.right)\n",
    "        return  max(leftval, rightval) + 1\n",
    "\n",
    "    def maxDepth(self, root: TreeNode) -> int:\n",
    "        ans = 0\n",
    "        if root is None: return 0\n",
    "        if (root.left is None and root.right is None): return 1\n",
    "        return self.maxHeight(root)\n",
    "    \n",
    "ans = Solution()\n",
    "tree = TreeNode(3)\n",
    "tree.left = TreeNode(9)\n",
    "tree.right = TreeNode(20)\n",
    "tree.right.left = TreeNode(15)\n",
    "tree.right.right = TreeNode(7)\n",
    "tree.left.left = TreeNode(1)\n",
    "ans.maxDepth(tree)"
   ]
  }
 ],
 "metadata": {
  "kernelspec": {
   "display_name": "base",
   "language": "python",
   "name": "python3"
  },
  "language_info": {
   "codemirror_mode": {
    "name": "ipython",
    "version": 3
   },
   "file_extension": ".py",
   "mimetype": "text/x-python",
   "name": "python",
   "nbconvert_exporter": "python",
   "pygments_lexer": "ipython3",
   "version": "3.11.7"
  }
 },
 "nbformat": 4,
 "nbformat_minor": 2
}

{
 "cells": [
  {
   "cell_type": "markdown",
   "metadata": {},
   "source": [
    "https://leetcode.com/problems/symmetric-tree/\n",
    "1) 2 nodes are symmetric when:\n",
    "- `left` and `right` is None: (Case out of leaf, don't have any node)\n",
    "- one of `left` or `right` is None: -> not symmetric -> return False  \n",
    "2) check for both `left` and `right` of two sides in each node"
   ]
  },
  {
   "cell_type": "code",
   "execution_count": 5,
   "metadata": {},
   "outputs": [
    {
     "data": {
      "text/plain": [
       "True"
      ]
     },
     "execution_count": 5,
     "metadata": {},
     "output_type": "execute_result"
    }
   ],
   "source": [
    "class TreeNode:\n",
    "    def __init__(self, val=0, left=None, right=None):\n",
    "        self.val = val\n",
    "        self.left = left\n",
    "        self.right = right\n",
    "class Solution:\n",
    "    def isMirror(self, left, right) -> bool:\n",
    "        if left is None and right is None: return True\n",
    "        if left is None and right is not None: return False\n",
    "        if left is not None and right is None: return False\n",
    "        a = self.isMirror(left.left, right.right)\n",
    "        b = self.isMirror(left.right, right.left)\n",
    "        c = left.val == right.val\n",
    "        return a and b and c\n",
    "    \n",
    "    def isSymmetric(self, root: TreeNode) -> bool:\n",
    "        if root is None: return True\n",
    "        if root.left is None and root.right is None: return True\n",
    "        return self.isMirror(root.left, root.right)\n",
    "ans = Solution()\n",
    "tree = TreeNode(3)\n",
    "tree.left = TreeNode(9)\n",
    "tree.right = TreeNode(9)\n",
    "tree.right.left = TreeNode(15)\n",
    "tree.right.right = TreeNode(7)\n",
    "tree.left.left = TreeNode(7)\n",
    "tree.left.right = TreeNode(15)\n",
    "ans.isSymmetric(tree)"
   ]
  },
  {
   "cell_type": "markdown",
   "metadata": {},
   "source": [
    "### Better solutions:\n",
    " - Using better condition (you can check using 0 1 table stuff)"
   ]
  },
  {
   "cell_type": "code",
   "execution_count": null,
   "metadata": {},
   "outputs": [],
   "source": [
    "# Definition for a binary tree node.\n",
    "# class TreeNode:\n",
    "#     def __init__(self, val=0, left=None, right=None):\n",
    "#         self.val = val\n",
    "#         self.left = left\n",
    "#         self.right = right\n",
    "class Solution:\n",
    "    def isMirror(self, left, right) -> bool:\n",
    "        #! better condition\n",
    "        if left is None and right is None: return True\n",
    "        if left is None or right is None: return False\n",
    "        if left.val != right.val: return False\n",
    "        a = self.isMirror(left.left, right.right)\n",
    "        b = self.isMirror(left.right, right.left)\n",
    "        return a and b\n",
    "    def isSymmetric(self, root: TreeNode) -> bool:\n",
    "        if root is None: return True\n",
    "        if root.left is None and root.right is None: return True\n",
    "        return self.isMirror(root.left, root.right)"
   ]
  }
 ],
 "metadata": {
  "kernelspec": {
   "display_name": "base",
   "language": "python",
   "name": "python3"
  },
  "language_info": {
   "codemirror_mode": {
    "name": "ipython",
    "version": 3
   },
   "file_extension": ".py",
   "mimetype": "text/x-python",
   "name": "python",
   "nbconvert_exporter": "python",
   "pygments_lexer": "ipython3",
   "version": "3.11.5"
  }
 },
 "nbformat": 4,
 "nbformat_minor": 2
}

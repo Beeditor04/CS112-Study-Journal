{
 "cells": [
  {
   "cell_type": "markdown",
   "metadata": {},
   "source": [
    "link: https://leetcode.com/problems/lowest-common-ancestor-of-a-binary-tree/\n",
    "### My ideas:\n",
    "- finding common ancestor -> meaning the **path they go from the beginning** IS THE SAME \n",
    "- find path of 2 node -> store in list -> return **the number that largest index** in between 2 list"
   ]
  },
  {
   "cell_type": "code",
   "execution_count": 23,
   "metadata": {},
   "outputs": [
    {
     "name": "stdout",
     "output_type": "stream",
     "text": [
      "5\n"
     ]
    }
   ],
   "source": [
    "# Definition for a binary tree node.\n",
    "class TreeNode:\n",
    "    def __init__(self, x):\n",
    "        self.val = x\n",
    "        self.left = None\n",
    "        self.right = None\n",
    "\n",
    "class Solution:\n",
    "    def dfs(self, root, queue, target):\n",
    "        if root is None: return False\n",
    "        queue.append(root.val)\n",
    "        if root.val == target:\n",
    "            return True\n",
    "        if (self.dfs(root.left, queue, target)): return True\n",
    "        if (self.dfs(root.right, queue, target)): return True\n",
    "        queue.pop()\n",
    "                \n",
    "    def lowestCommonAncestor(self, root: 'TreeNode', p: 'TreeNode', q: 'TreeNode') -> 'TreeNode':\n",
    "        listp = []\n",
    "        listq = []\n",
    "        self.dfs(root, listp, p.val)\n",
    "        self.dfs(root, listq, q.val)\n",
    "        length = min(len(listp), len(listq))\n",
    "        for i in range(length):\n",
    "            if listp[i] == listq[i] and i == length-1:\n",
    "                return TreeNode(listp[i])\n",
    "            if listp[i] != listq[i]:\n",
    "                return TreeNode(listp[i-1])\n",
    "\n",
    "ans = Solution()\n",
    "root = TreeNode(3)\n",
    "root.left = TreeNode(5)\n",
    "root.right = TreeNode(1)\n",
    "root.left.left = TreeNode(6)\n",
    "root.left.right = TreeNode(2)\n",
    "root.left.right.left = TreeNode(7)\n",
    "root.left.right.right = TreeNode(4)\n",
    "root.right.left = TreeNode(0)\n",
    "root.right.right = TreeNode(8)\n",
    "\n",
    "p = TreeNode(5)\n",
    "q = TreeNode(4)\n",
    "temp = ans.lowestCommonAncestor(root, p, q)\n",
    "print(temp.val)"
   ]
  }
 ],
 "metadata": {
  "kernelspec": {
   "display_name": "base",
   "language": "python",
   "name": "python3"
  },
  "language_info": {
   "codemirror_mode": {
    "name": "ipython",
    "version": 3
   },
   "file_extension": ".py",
   "mimetype": "text/x-python",
   "name": "python",
   "nbconvert_exporter": "python",
   "pygments_lexer": "ipython3",
   "version": "3.11.7"
  }
 },
 "nbformat": 4,
 "nbformat_minor": 2
}

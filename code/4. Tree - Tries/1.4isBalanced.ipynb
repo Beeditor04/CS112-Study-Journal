{
 "cells": [
  {
   "cell_type": "markdown",
   "metadata": {},
   "source": [
    "link: https://leetcode.com/problems/balanced-binary-tree/"
   ]
  },
  {
   "cell_type": "code",
   "execution_count": 4,
   "metadata": {},
   "outputs": [
    {
     "data": {
      "text/plain": [
       "True"
      ]
     },
     "execution_count": 4,
     "metadata": {},
     "output_type": "execute_result"
    }
   ],
   "source": [
    "# Definition for a binary tree node.\n",
    "class TreeNode:\n",
    "    def __init__(self, val=0, left=None, right=None):\n",
    "        self.val = val\n",
    "        self.left = left\n",
    "        self.right = right\n",
    "class Solution:\n",
    "    def isBalanced(self, root: TreeNode) -> bool:\n",
    "        def maxHeight(root: TreeNode) -> int:\n",
    "            if not root: return 0\n",
    "            leftval = 0; rightval = 0\n",
    "            leftval = maxHeight(root.left)\n",
    "            rightval = maxHeight(root.right)\n",
    "            return  max(leftval, rightval) + 1\n",
    "        if not root: return True\n",
    "        left = 0; right = 0\n",
    "        left = maxHeight(root.left)\n",
    "        right = maxHeight(root.right)\n",
    "        return abs(left - right) <= 1 and self.isBalanced(root.left) and self.isBalanced(root.right)\n",
    "    \n",
    "ans = Solution()\n",
    "tree = TreeNode(1)\n",
    "tree.left = TreeNode(2)\n",
    "tree.right = TreeNode(2)\n",
    "tree.left.left = TreeNode(3)\n",
    "tree.right.right = TreeNode(3)\n",
    "# tree.left.left.left = TreeNode(4)\n",
    "# tree.left.left.right = TreeNode(4)\n",
    "ans.isBalanced(tree)"
   ]
  }
 ],
 "metadata": {
  "kernelspec": {
   "display_name": "base",
   "language": "python",
   "name": "python3"
  },
  "language_info": {
   "codemirror_mode": {
    "name": "ipython",
    "version": 3
   },
   "file_extension": ".py",
   "mimetype": "text/x-python",
   "name": "python",
   "nbconvert_exporter": "python",
   "pygments_lexer": "ipython3",
   "version": "3.11.7"
  }
 },
 "nbformat": 4,
 "nbformat_minor": 2
}

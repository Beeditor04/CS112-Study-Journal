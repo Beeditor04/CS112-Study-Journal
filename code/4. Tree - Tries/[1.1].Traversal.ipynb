{
 "cells": [
  {
   "cell_type": "markdown",
   "metadata": {},
   "source": [
    "### 4 Euler traversal:\n",
    "- `pre-order`: \n",
    "```python \n",
    "    \\**<action here>**\n",
    "    root = root->left\n",
    "    root = root-> right"
   ]
  },
  {
   "cell_type": "code",
   "execution_count": null,
   "metadata": {},
   "outputs": [],
   "source": [
    "def preorder(root: TreeNode, ans: list):\n",
    "    ans.append(root.val)\n",
    "    if (root.left): preorder(root.left, ans)\n",
    "    if (root.right): preorder(root.right, ans)"
   ]
  },
  {
   "cell_type": "markdown",
   "metadata": {},
   "source": [
    "- `in-order`: \n",
    "```python \n",
    "    root = root->left\n",
    "    \\**<action here>**\n",
    "    root = root-> right"
   ]
  },
  {
   "cell_type": "code",
   "execution_count": null,
   "metadata": {},
   "outputs": [],
   "source": [
    "def inorder(root: TreeNode, ans: list):\n",
    "    if (root.left): preorder(root.left, ans)\n",
    "    ans.append(root.val)\n",
    "    if (root.right): preorder(root.right, ans)"
   ]
  },
  {
   "cell_type": "markdown",
   "metadata": {},
   "source": [
    "- `post-order`: \n",
    "```python \n",
    "    root = root->left\n",
    "    root = root-> right\n",
    "    \\**<action here>**"
   ]
  },
  {
   "cell_type": "code",
   "execution_count": null,
   "metadata": {},
   "outputs": [],
   "source": [
    "def postorder(root: TreeNode, ans: list):\n",
    "    if (root.left): preorder(root.left, ans)\n",
    "    if (root.right): preorder(root.right, ans)\n",
    "    ans.append(root.val)"
   ]
  },
  {
   "cell_type": "markdown",
   "metadata": {},
   "source": [
    "- `level-order`: \n",
    "```python \n",
    "    queue = [] \n",
    "    queue <- add first node to queue\n",
    "    while queue is not empty:\n",
    "        \\**<action here>**\n",
    "        if left is not empty then add left to queue\n",
    "        if right is not empty then add right to queue\n",
    "        remove node from queue\n",
    "            "
   ]
  },
  {
   "cell_type": "code",
   "execution_count": 6,
   "metadata": {},
   "outputs": [
    {
     "name": "stdout",
     "output_type": "stream",
     "text": [
      "Pre Order: [1, 3, 5, 2, 3]\n",
      "In Order: [5, 3, 1, 3, 2]\n",
      "Post Order: [5, 3, 3, 2, 1]\n",
      "Level Order: [[1], [3, 2], [5, 3]]\n"
     ]
    }
   ],
   "source": [
    "class TreeNode:\n",
    "    def __init__(self, val=0, left=None, right=None):\n",
    "        self.val = val\n",
    "        self.left = left\n",
    "        self.right = right\n",
    "\n",
    "## travel, tìm node\n",
    "def preorder(root: TreeNode, ans: list):\n",
    "    ans.append(root.val)\n",
    "    if (root.left): preorder(root.left, ans)\n",
    "    if (root.right): preorder(root.right, ans)\n",
    "\n",
    "def inorder(root: TreeNode, ans: list):\n",
    "    if (root.left): inorder(root.left, ans)\n",
    "    ans.append(root.val)\n",
    "    if (root.right): inorder(root.right, ans)\n",
    "\n",
    "def postorder(root: TreeNode, ans: list):\n",
    "    if (root.left): postorder(root.left, ans)\n",
    "    if (root.right): postorder(root.right, ans)\n",
    "    ans.append(root.val)\n",
    "\n",
    "#DFS: \n",
    "#BFS Binary tree\n",
    "def levelOrder(root: TreeNode) -> list[list[int]]:\n",
    "    ans = []\n",
    "    queue = []\n",
    "    temp = []\n",
    "    if (root is None): return ans\n",
    "    queue.append(root)\n",
    "    ans.append([queue[0].val])\n",
    "    while (queue != []):            \n",
    "        if (queue[0].left): \n",
    "            temp.append(queue[0].left)\n",
    "        if (queue[0].right): \n",
    "            temp.append(queue[0].right)\n",
    "        queue.pop(0)\n",
    "        if not queue and temp:\n",
    "            ans.append([n.val for n in temp])\n",
    "            queue = temp\n",
    "            temp = []\n",
    "    return ans\n",
    "\n",
    "def main():\n",
    "    root = TreeNode(1)\n",
    "    root.left = TreeNode(3)\n",
    "    root.left.left = TreeNode(5)\n",
    "    root.right = TreeNode(2)\n",
    "    root.right.left = TreeNode(3)\n",
    "\n",
    "    ans = []\n",
    "    preorder(root, ans)\n",
    "    print(f'Pre Order: {ans}')\n",
    "\n",
    "    ans = []\n",
    "    inorder(root, ans)\n",
    "    print(f'In Order: {ans}')\n",
    "\n",
    "    ans = []\n",
    "    postorder(root, ans)\n",
    "    print(f'Post Order: {ans}')\n",
    "\n",
    "    print(f'Level Order: {levelOrder(root)}')\n",
    "main()"
   ]
  },
  {
   "cell_type": "code",
   "execution_count": 8,
   "metadata": {},
   "outputs": [
    {
     "ename": "AttributeError",
     "evalue": "'int' object has no attribute 'append'",
     "output_type": "error",
     "traceback": [
      "\u001b[1;31m---------------------------------------------------------------------------\u001b[0m",
      "\u001b[1;31mAttributeError\u001b[0m                            Traceback (most recent call last)",
      "Cell \u001b[1;32mIn[8], line 17\u001b[0m\n\u001b[0;32m     13\u001b[0m root\u001b[38;5;241m.\u001b[39mright\u001b[38;5;241m.\u001b[39mleft \u001b[38;5;241m=\u001b[39m TreeNode(\u001b[38;5;241m10\u001b[39m)\n\u001b[0;32m     14\u001b[0m \u001b[38;5;66;03m#   1\u001b[39;00m\n\u001b[0;32m     15\u001b[0m \u001b[38;5;66;03m# 3   2\u001b[39;00m\n\u001b[0;32m     16\u001b[0m \u001b[38;5;66;03m#5   10\u001b[39;00m\n\u001b[1;32m---> 17\u001b[0m search(root, \u001b[38;5;241m5\u001b[39m)\n",
      "Cell \u001b[1;32mIn[8], line 4\u001b[0m, in \u001b[0;36msearch\u001b[1;34m(root, key)\u001b[0m\n\u001b[0;32m      1\u001b[0m \u001b[38;5;28;01mdef\u001b[39;00m \u001b[38;5;21msearch\u001b[39m(root, key):\n\u001b[0;32m      2\u001b[0m     \u001b[38;5;66;03m## DFS\u001b[39;00m\n\u001b[0;32m      3\u001b[0m     \u001b[38;5;28;01mif\u001b[39;00m root\u001b[38;5;241m.\u001b[39mval \u001b[38;5;241m==\u001b[39m key: \u001b[38;5;28;01mreturn\u001b[39;00m \u001b[38;5;28;01mTrue\u001b[39;00m \u001b[38;5;66;03m#Base case / stop conditional\u001b[39;00m\n\u001b[1;32m----> 4\u001b[0m     \u001b[38;5;28;01mif\u001b[39;00m (root\u001b[38;5;241m.\u001b[39mleft): preorder(root\u001b[38;5;241m.\u001b[39mleft, key)\n\u001b[0;32m      5\u001b[0m     \u001b[38;5;28;01mif\u001b[39;00m (root\u001b[38;5;241m.\u001b[39mright): preorder(root\u001b[38;5;241m.\u001b[39mright, key)\n\u001b[0;32m      6\u001b[0m     \u001b[38;5;66;03m##\u001b[39;00m\n",
      "Cell \u001b[1;32mIn[6], line 9\u001b[0m, in \u001b[0;36mpreorder\u001b[1;34m(root, ans)\u001b[0m\n\u001b[0;32m      8\u001b[0m \u001b[38;5;28;01mdef\u001b[39;00m \u001b[38;5;21mpreorder\u001b[39m(root: TreeNode, ans: \u001b[38;5;28mlist\u001b[39m):\n\u001b[1;32m----> 9\u001b[0m     ans\u001b[38;5;241m.\u001b[39mappend(root\u001b[38;5;241m.\u001b[39mval)\n\u001b[0;32m     10\u001b[0m     \u001b[38;5;28;01mif\u001b[39;00m (root\u001b[38;5;241m.\u001b[39mleft): preorder(root\u001b[38;5;241m.\u001b[39mleft, ans)\n\u001b[0;32m     11\u001b[0m     \u001b[38;5;28;01mif\u001b[39;00m (root\u001b[38;5;241m.\u001b[39mright): preorder(root\u001b[38;5;241m.\u001b[39mright, ans)\n",
      "\u001b[1;31mAttributeError\u001b[0m: 'int' object has no attribute 'append'"
     ]
    }
   ],
   "source": [
    "def search(root, key):\n",
    "    ## DFS\n",
    "    if root.val == key: return True #Base case / stop conditional\n",
    "    if (root.left): search(root.left, key)\n",
    "    if (root.right): search(root.right, key)\n",
    "    ##\n",
    "    return True/False\n",
    "\n",
    "root = TreeNode(1)\n",
    "root.left = TreeNode(3)\n",
    "root.left.left = TreeNode(5)\n",
    "root.right = TreeNode(2)\n",
    "root.right.left = TreeNode(10)\n",
    "#   1\n",
    "# 3   2\n",
    "#5   10\n",
    "search(root, 5)"
   ]
  }
 ],
 "metadata": {
  "kernelspec": {
   "display_name": "base",
   "language": "python",
   "name": "python3"
  },
  "language_info": {
   "codemirror_mode": {
    "name": "ipython",
    "version": 3
   },
   "file_extension": ".py",
   "mimetype": "text/x-python",
   "name": "python",
   "nbconvert_exporter": "python",
   "pygments_lexer": "ipython3",
   "version": "3.11.7"
  }
 },
 "nbformat": 4,
 "nbformat_minor": 2
}

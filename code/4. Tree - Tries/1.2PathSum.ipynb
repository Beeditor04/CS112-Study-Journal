{
 "cells": [
  {
   "cell_type": "markdown",
   "metadata": {},
   "source": [
    "Link: https://leetcode.com/problems/path-sum/submissions/1213180020/"
   ]
  },
  {
   "cell_type": "code",
   "execution_count": 4,
   "metadata": {},
   "outputs": [
    {
     "data": {
      "text/plain": [
       "False"
      ]
     },
     "execution_count": 4,
     "metadata": {},
     "output_type": "execute_result"
    }
   ],
   "source": [
    "# Definition for a binary tree node.\n",
    "class TreeNode:\n",
    "    def __init__(self, val=0, left=None, right=None):\n",
    "        self.val = val\n",
    "        self.left = left\n",
    "        self.right = right\n",
    "class Solution:\n",
    "    def hasPathSum(self, root: TreeNode, targetSum: int) -> bool:\n",
    "        if root is None: return False\n",
    "        targetSum -= root.val\n",
    "        if targetSum == 0 and root.left == None and root.right == None:\n",
    "            return True\n",
    "        if (root.left):\n",
    "            if (self.hasPathSum(root.left, targetSum)):\n",
    "                return True\n",
    "        if (root.right):\n",
    "            if (self.hasPathSum(root.right, targetSum)):\n",
    "                return True\n",
    "        return False\n",
    "\n",
    "ans = Solution()\n",
    "tree = TreeNode(3)\n",
    "tree.left = TreeNode(9)\n",
    "tree.left.left = TreeNode(7)\n",
    "tree.left.right = TreeNode(15)\n",
    "tree.right = TreeNode(8)\n",
    "tree.right.left = TreeNode(11)\n",
    "tree.right.right = TreeNode(3)\n",
    "\n",
    "ans.hasPathSum(tree, 18)"
   ]
  },
  {
   "cell_type": "code",
   "execution_count": null,
   "metadata": {},
   "outputs": [],
   "source": [
    "# Definition for a binary tree node.\n",
    "class TreeNode:\n",
    "    def __init__(self, val=0, left=None, right=None):\n",
    "        self.val = val\n",
    "        self.left = left\n",
    "        self.right = right\n",
    "class Solution:\n",
    "    def hasPathSum(self, root: TreeNode, targetSum: int) -> bool:\n",
    "\n",
    "\n",
    "ans = Solution()\n",
    "tree = TreeNode(3)\n",
    "tree.left = TreeNode(9)\n",
    "tree.left.left = TreeNode(7)\n",
    "tree.left.right = TreeNode(15)\n",
    "tree.right = TreeNode(8)\n",
    "tree.right.left = TreeNode(11)\n",
    "tree.right.right = TreeNode(3)\n",
    "\n",
    "ans.hasPathSum(tree, 18)"
   ]
  }
 ],
 "metadata": {
  "kernelspec": {
   "display_name": "base",
   "language": "python",
   "name": "python3"
  },
  "language_info": {
   "codemirror_mode": {
    "name": "ipython",
    "version": 3
   },
   "file_extension": ".py",
   "mimetype": "text/x-python",
   "name": "python",
   "nbconvert_exporter": "python",
   "pygments_lexer": "ipython3",
   "version": "3.11.7"
  }
 },
 "nbformat": 4,
 "nbformat_minor": 2
}

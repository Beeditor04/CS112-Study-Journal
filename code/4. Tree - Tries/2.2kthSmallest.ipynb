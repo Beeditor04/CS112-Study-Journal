{
 "cells": [
  {
   "cell_type": "markdown",
   "metadata": {},
   "source": [
    "Link: https://leetcode.com/problems/kth-smallest-element-in-a-bst/solutions/5036174/python-beat99-inorder-traversal-stop-early-if-length-list-k-then-stop-travel-for-quicker/\n",
    "### My ideas: \n",
    "- inorder traversal -> sorted list\n",
    "- stop travel when the length of list == `k`"
   ]
  },
  {
   "cell_type": "code",
   "execution_count": 1,
   "metadata": {},
   "outputs": [
    {
     "name": "stdout",
     "output_type": "stream",
     "text": [
      "5\n"
     ]
    }
   ],
   "source": [
    "# Definition for a binary tree node.\n",
    "class TreeNode:\n",
    "    def __init__(self, val=0, left=None, right=None):\n",
    "        self.val = val\n",
    "        self.left = left\n",
    "        self.right = right\n",
    "\n",
    "class Solution:\n",
    "    def inOrder(self, root, arr, k):\n",
    "        if root is None: return\n",
    "        if (root.left): self.inOrder(root.left, arr, k)\n",
    "        if len(arr) >= k: return\n",
    "        arr.append(root.val)\n",
    "        if (root.right): self.inOrder(root.right, arr, k)\n",
    "    def kthSmallest(self, root: TreeNode, k: int) -> int:\n",
    "        arr = []\n",
    "        self.inOrder(root, arr, k)\n",
    "        return arr[k - 1]\n",
    "    \n",
    "\n",
    "ans = Solution()\n",
    "root = TreeNode(5)\n",
    "root.left = TreeNode(3)\n",
    "root.right = TreeNode(10)\n",
    "root.left.left = TreeNode(2)\n",
    "root.left.right = TreeNode(4)\n",
    "root.left.left.left = TreeNode(1)\n",
    "root.right.left = TreeNode(8)\n",
    "root.right.right = TreeNode(12)\n",
    "\n",
    "k = 5\n",
    "temp = ans.kthSmallest(root, k)\n",
    "print(temp)"
   ]
  }
 ],
 "metadata": {
  "kernelspec": {
   "display_name": "base",
   "language": "python",
   "name": "python3"
  },
  "language_info": {
   "codemirror_mode": {
    "name": "ipython",
    "version": 3
   },
   "file_extension": ".py",
   "mimetype": "text/x-python",
   "name": "python",
   "nbconvert_exporter": "python",
   "pygments_lexer": "ipython3",
   "version": "3.11.7"
  }
 },
 "nbformat": 4,
 "nbformat_minor": 2
}

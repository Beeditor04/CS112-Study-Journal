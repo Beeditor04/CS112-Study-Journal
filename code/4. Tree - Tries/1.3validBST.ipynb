{
 "cells": [
  {
   "cell_type": "code",
   "execution_count": 1,
   "metadata": {},
   "outputs": [
    {
     "data": {
      "text/plain": [
       "False"
      ]
     },
     "execution_count": 1,
     "metadata": {},
     "output_type": "execute_result"
    }
   ],
   "source": [
    "class TreeNode:\n",
    "    def __init__(self, val=0, left=None, right=None):\n",
    "        self.val = val\n",
    "        self.left = left\n",
    "        self.right = right\n",
    "class Solution:\n",
    "    def inorder(self, root, stack) -> bool:\n",
    "        a, b = True, True\n",
    "        if not root: return True\n",
    "        if root.left: a = self.inorder(root.left, stack)\n",
    "        stack.append(root.val)\n",
    "        if len(stack) > 1 and stack[-1] <= stack[-2]: return False\n",
    "        if root.right: b = self.inorder(root.right, stack)\n",
    "        return a and b\n",
    "    \n",
    "    def isValidBST(self, root: TreeNode) -> bool:\n",
    "        stack = []\n",
    "        return self.inorder(root, stack)\n",
    "\n",
    "        \n",
    "    \n",
    "ans = Solution()\n",
    "tree = TreeNode(5)\n",
    "tree.left = TreeNode(4)\n",
    "tree.right = TreeNode(6)\n",
    "tree.right.left = TreeNode(3)\n",
    "tree.right.right = TreeNode(7)\n",
    "ans.isValidBST(tree)"
   ]
  }
 ],
 "metadata": {
  "kernelspec": {
   "display_name": "base",
   "language": "python",
   "name": "python3"
  },
  "language_info": {
   "codemirror_mode": {
    "name": "ipython",
    "version": 3
   },
   "file_extension": ".py",
   "mimetype": "text/x-python",
   "name": "python",
   "nbconvert_exporter": "python",
   "pygments_lexer": "ipython3",
   "version": "3.11.7"
  }
 },
 "nbformat": 4,
 "nbformat_minor": 2
}

{
 "cells": [
  {
   "cell_type": "markdown",
   "metadata": {},
   "source": [
    "### ToC\n",
    "- [Search](#1)\n",
    "- [Insertion](#2)\n",
    "- [Deletion](#3)"
   ]
  },
  {
   "cell_type": "markdown",
   "metadata": {},
   "source": [
    "### <a id=\"1\"> I. Search </a>"
   ]
  },
  {
   "cell_type": "markdown",
   "metadata": {},
   "source": [
    "According to the property of BST, for each node:\n",
    "\n",
    "- **return the node** if the `val` value is **equal** to the `value of the node`;\n",
    "- continue searching in the **left subtree** if the target value is **less than** the value of the node;\n",
    "- continue searching in the **right subtree** if the target value is **larger than** the value of the node."
   ]
  },
  {
   "cell_type": "code",
   "execution_count": 3,
   "metadata": {},
   "outputs": [
    {
     "name": "stdout",
     "output_type": "stream",
     "text": [
      "<__main__.TreeNode object at 0x000002549ED9A390>\n"
     ]
    }
   ],
   "source": [
    "class TreeNode:\n",
    "    def __init__(self, val=0, left=None, right=None):\n",
    "        self.val = val\n",
    "        self.left = left\n",
    "        self.right = right\n",
    "\n",
    "def search(tree: TreeNode, target: int) -> TreeNode:\n",
    "    if not tree: return tree \n",
    "    if (target == tree.val): return tree\n",
    "    if (target < tree.val): \n",
    "        return search(tree.left, target)\n",
    "    if (target > tree.val): \n",
    "        return search(tree.right, target)\n",
    "\n",
    "\n",
    "tree = TreeNode(5)\n",
    "tree.left = TreeNode(2)\n",
    "tree.right = TreeNode(7)\n",
    "tree.left.left = TreeNode(1)\n",
    "tree.left.right = TreeNode(4)\n",
    "tree.right.left = TreeNode(6)\n",
    "tree.right.right = TreeNode(8)\n",
    "\n",
    "ans = search(tree, 8)\n",
    "print(ans)"
   ]
  },
  {
   "cell_type": "markdown",
   "metadata": {},
   "source": [
    "### <a id=\"2\"> II. Insertion</a>"
   ]
  },
  {
   "cell_type": "markdown",
   "metadata": {},
   "source": [
    "- Insert always in leaf node -> search until: \n",
    "    * if `left node` is `None` AND **node.val > target** => node.left = target \n",
    "    * if `right node` is `None` AND **node.val < target** => node.right = target\n"
   ]
  },
  {
   "cell_type": "code",
   "execution_count": null,
   "metadata": {},
   "outputs": [],
   "source": [
    "class TreeNode:\n",
    "    def __init__(self, val=0, left=None, right=None):\n",
    "        self.val = val\n",
    "        self.left = left\n",
    "        self.right = right\n",
    "    def printTree(self):\n",
    "        print(self.val, \" \")\n",
    "        if self.left: self.left.printTree()\n",
    "        if self.right: self.right.printTree()\n",
    "\n",
    "def insert(tree: TreeNode, target: int):\n",
    "    if not tree: return TreeNode(target) #* Base case: if tree is empty, head = insert value\n",
    "    if (tree.val >= target):\n",
    "        if (tree.left is None):\n",
    "            tree.left = TreeNode(target)\n",
    "        else:\n",
    "            insert(tree.left, target)\n",
    "    else:\n",
    "        if (tree.right is None):\n",
    "            tree.right = TreeNode(target)\n",
    "        else:\n",
    "            insert(tree.right, target)\n",
    "    return tree\n",
    "\n",
    "\n",
    "tree = TreeNode(5)\n",
    "tree.left = TreeNode(2)\n",
    "tree.right = TreeNode(7)\n",
    "tree.left.left = TreeNode(1)\n",
    "tree.left.right = TreeNode(4)\n",
    "tree.right.left = TreeNode(6)\n",
    "tree.right.right = TreeNode(8)\n",
    "\n",
    "ans = insert(tree, 9)\n",
    "ans.printTree()"
   ]
  },
  {
   "cell_type": "markdown",
   "metadata": {},
   "source": [
    "### <a id=\"3\"> III. Deletion </a>"
   ]
  },
  {
   "cell_type": "markdown",
   "metadata": {},
   "source": [
    "- để recursion trả về nguyên vẹn, phần return phải gắn biến\n",
    "- Trường hợp 0 và 1 child có thể kết hợp lại vì đều có điểm chung là gắn giá trị `left` hoặc `right`\n",
    "- Trường hợp 2 children: 1 là `right-left most` 2 là `left-right most`, rồi xoá node thừa cuối = `delete(that node)` 1 lần nữa"
   ]
  },
  {
   "cell_type": "code",
   "execution_count": 28,
   "metadata": {},
   "outputs": [
    {
     "name": "stdout",
     "output_type": "stream",
     "text": [
      "0 1 2 2 3 4 5 5 6 7 8 12 15 20 "
     ]
    }
   ],
   "source": [
    "class TreeNode:\n",
    "    def __init__(self, val=0, left=None, right=None):\n",
    "        self.val = val\n",
    "        self.left = left\n",
    "        self.right = right\n",
    "    def printTree(self):\n",
    "        if self.left: self.left.printTree()\n",
    "        print(self.val, end=\" \")\n",
    "        if self.right: self.right.printTree()\n",
    "\n",
    "# AGILE\n",
    "def delete(tree: TreeNode, target: int):\n",
    "    #*1 find\n",
    "    if (tree is None): return tree\n",
    "    if (target < tree.val):\n",
    "        tree.left = delete(tree.left, target)\n",
    "    elif (target > tree.val):\n",
    "        tree.right = delete(tree.right, target)\n",
    "    else:\n",
    "        #*2 delete\n",
    "        #* Case 1: 0/1 Child\n",
    "        if (tree.left is None or tree.right is None):\n",
    "        #if ((tree.left and tree.right is None)  or (tree.right and tree.left is None)):\n",
    "            tree = tree.left if tree.left else tree.right\n",
    "            return tree\n",
    "        else:\n",
    "        #* Case 2: 2 Children - leftmost right\n",
    "            temp = temp.left\n",
    "            while (temp.right):\n",
    "                temp = temp.right\n",
    "            tree.val = temp.val\n",
    "            tree.left = delete(tree.left, temp.val) #* Delete the node that we copied the value from\n",
    "            \"\"\"\n",
    "                #? Why we don't use other temp for prev of the code for copy -> easier to delete that prev.right = None?\n",
    "                #* Because prevent the case that node that we copied having a child too \n",
    "            \"\"\"\n",
    "            return tree\n",
    "    return tree\n",
    "#     5\n",
    "#     2      10\n",
    "# 1   4      7  15\n",
    "#0 2  3 5   6 8 12  20\n",
    "\n",
    "\n",
    "tree = TreeNode(5)\n",
    "tree.left = TreeNode(2)\n",
    "tree.right = TreeNode(10)\n",
    "tree.left.left = TreeNode(1)\n",
    "tree.left.right = TreeNode(4)\n",
    "tree.left.left.left = TreeNode(0)\n",
    "tree.left.left.right = TreeNode(2)\n",
    "tree.left.right.left = TreeNode(3)\n",
    "tree.left.right.right = TreeNode(5)\n",
    "tree.right.left = TreeNode(7)\n",
    "tree.right.right = TreeNode(15)\n",
    "tree.right.left.left = TreeNode(6)\n",
    "tree.right.left.right = TreeNode(8)\n",
    "tree.right.right.left = TreeNode(12)\n",
    "tree.right.right.right = TreeNode(20)\n",
    "\n",
    "\n",
    "\n",
    "ans = delete(tree, 10)\n",
    "ans.printTree() if ans else print(ans) "
   ]
  }
 ],
 "metadata": {
  "kernelspec": {
   "display_name": "base",
   "language": "python",
   "name": "python3"
  },
  "language_info": {
   "codemirror_mode": {
    "name": "ipython",
    "version": 3
   },
   "file_extension": ".py",
   "mimetype": "text/x-python",
   "name": "python",
   "nbconvert_exporter": "python",
   "pygments_lexer": "ipython3",
   "version": "3.11.7"
  }
 },
 "nbformat": 4,
 "nbformat_minor": 2
}

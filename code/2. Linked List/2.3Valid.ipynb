{
 "cells": [
  {
   "cell_type": "markdown",
   "metadata": {},
   "source": [
    "### 125. Valid Palindrome\n",
    "Link: https://leetcode.com/problems/valid-palindrome/description/"
   ]
  },
  {
   "cell_type": "markdown",
   "metadata": {},
   "source": [
    "#### My ideas:\n",
    "Link: https://leetcode.com/problems/valid-palindrome/submissions/1204481280/\n",
    "- Goal: lowercase, remove all non-alphanumeric -> `.isalnum()` + `.join()`\n",
    "- After that, using 2 pointers: `s` at the start and `e` at the end for `O(n)` -> `O(n/2)`"
   ]
  },
  {
   "cell_type": "code",
   "execution_count": 5,
   "metadata": {},
   "outputs": [
    {
     "data": {
      "text/plain": [
       "True"
      ]
     },
     "execution_count": 5,
     "metadata": {},
     "output_type": "execute_result"
    }
   ],
   "source": [
    "class Solution:\n",
    "    def isPalindrome(self, s: str) -> bool:\n",
    "        lowStr = s.lower()\n",
    "        temp = ''.join(c for c in lowStr if c.isalnum())\n",
    "        s = 0\n",
    "        e = len(temp) - 1\n",
    "        while (s <= e):\n",
    "            if temp[s] != temp[e]: return False\n",
    "            s += 1\n",
    "            e -= 1\n",
    "        return True \n",
    "\n",
    "ans = Solution()\n",
    "ans.isPalindrome(\"A man, a plan, a canal: Panama\")"
   ]
  },
  {
   "cell_type": "code",
   "execution_count": 3,
   "metadata": {},
   "outputs": [
    {
     "data": {
      "text/plain": [
       "False"
      ]
     },
     "execution_count": 3,
     "metadata": {},
     "output_type": "execute_result"
    }
   ],
   "source": [
    "\" \".isalnum() # False"
   ]
  }
 ],
 "metadata": {
  "kernelspec": {
   "display_name": "base",
   "language": "python",
   "name": "python3"
  },
  "language_info": {
   "codemirror_mode": {
    "name": "ipython",
    "version": 3
   },
   "file_extension": ".py",
   "mimetype": "text/x-python",
   "name": "python",
   "nbconvert_exporter": "python",
   "pygments_lexer": "ipython3",
   "version": "3.11.5"
  }
 },
 "nbformat": 4,
 "nbformat_minor": 2
}

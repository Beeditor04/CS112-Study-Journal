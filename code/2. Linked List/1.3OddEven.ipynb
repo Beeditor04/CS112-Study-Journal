{
 "cells": [
  {
   "cell_type": "markdown",
   "metadata": {},
   "source": [
    "### 328. Odd Even Linked List\n",
    "Link: https://leetcode.com/problems/odd-even-linked-list/submissions/1202312682/"
   ]
  },
  {
   "cell_type": "markdown",
   "metadata": {},
   "source": [
    "My ideas:\n",
    "- 2 pointers: `Even` and `Odd`, each one works as ListNode,\\\n",
    "Each 2 step, `Even` contains even position and `Odd` contains odd position of the list"
   ]
  },
  {
   "cell_type": "code",
   "execution_count": 8,
   "metadata": {},
   "outputs": [
    {
     "data": {
      "text/plain": [
       "<__main__.ListNode at 0x1ea2cae3390>"
      ]
     },
     "execution_count": 8,
     "metadata": {},
     "output_type": "execute_result"
    }
   ],
   "source": [
    "class ListNode:\n",
    "    def __init__(self, val=0, next=None):\n",
    "        self.val = val  \n",
    "        self.next = next\n",
    "class Solution:\n",
    "    def oddEvenList(self, head: ListNode) -> ListNode:\n",
    "        odd = ListNode()\n",
    "        even = ListNode()\n",
    "        temp_odd = odd\n",
    "        temp_even = even\n",
    "\n",
    "        while (head != None):\n",
    "            if (head != None): \n",
    "                temp_odd.next = head\n",
    "                temp_odd = temp_odd.next\n",
    "            if (head.next != None): \n",
    "                temp_even.next = head.next\n",
    "                temp_even = temp_even.next\n",
    "            if (head is None or head.next is None): break\n",
    "            head = head.next.next\n",
    "            \n",
    "        temp_even.next = None\n",
    "        temp_odd.next = even.next\n",
    "        return odd.next\n",
    "    \n",
    "llist = ListNode(1, ListNode(2, ListNode(3, ListNode(4, ListNode(5)))))\n",
    "ans = Solution()\n",
    "test = ans.oddEvenList(llist)\n",
    "test"
   ]
  }
 ],
 "metadata": {
  "kernelspec": {
   "display_name": "base",
   "language": "python",
   "name": "python3"
  },
  "language_info": {
   "codemirror_mode": {
    "name": "ipython",
    "version": 3
   },
   "file_extension": ".py",
   "mimetype": "text/x-python",
   "name": "python",
   "nbconvert_exporter": "python",
   "pygments_lexer": "ipython3",
   "version": "3.11.5"
  }
 },
 "nbformat": 4,
 "nbformat_minor": 2
}

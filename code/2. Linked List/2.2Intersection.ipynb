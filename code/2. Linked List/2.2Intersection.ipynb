{
 "cells": [
  {
   "cell_type": "markdown",
   "metadata": {},
   "source": [
    "### 160. Intersection of Two Linked Lists\n",
    "Link: https://leetcode.com/problems/intersection-of-two-linked-lists/description/"
   ]
  },
  {
   "cell_type": "markdown",
   "metadata": {},
   "source": [
    "#### My ideas (WRONG):\n",
    "- Convert into list -> go back until found a position `i` that difference -> return `i+1`"
   ]
  },
  {
   "cell_type": "code",
   "execution_count": 16,
   "metadata": {},
   "outputs": [
    {
     "data": {
      "text/plain": [
       "<__main__.ListNode at 0x1a384409510>"
      ]
     },
     "execution_count": 16,
     "metadata": {},
     "output_type": "execute_result"
    }
   ],
   "source": [
    "# Definition for singly-linked list.\n",
    "class ListNode:\n",
    "    def __init__(self, x=0, next = None):\n",
    "        self.val = x\n",
    "        self.next = next\n",
    "\n",
    "class Solution:\n",
    "    def getIntersectionNode(self, headA: ListNode, headB: ListNode) -> ListNode:\n",
    "        a = [0]; b = [0]\n",
    "        a[0] = headA.val\n",
    "        b[0]= headB.val\n",
    "        while (headA.next != None or headB.next != None):\n",
    "            if (headA.next): \n",
    "                headA = headA.next\n",
    "                a.append(headA.val)\n",
    "            if (headB.next):\n",
    "                headB = headB.next\n",
    "                b.append(headB.val)\n",
    "        i = len(a) - 1\n",
    "        j = len(b) - 1\n",
    "        ans = ListNode()\n",
    "        while (a[i] == b[j]):\n",
    "            if (a[i-1] != b[j-1]):\n",
    "                ans.val = a[i]\n",
    "                return ans\n",
    "            i -= 1\n",
    "            j -= 1\n",
    "        return None\n",
    "    \n",
    "ans = Solution()\n",
    "list1 = ListNode(4, ListNode(1, ListNode(8, ListNode(4, ListNode(5)))))\n",
    "list2 = ListNode(5, ListNode(6, ListNode(1, ListNode(8, ListNode(4, ListNode(5))))))\n",
    "ans.getIntersectionNode(list1, list2)\n"
   ]
  },
  {
   "cell_type": "markdown",
   "metadata": {},
   "source": [
    "#### Solution: two pointers\n",
    "link: https://leetcode.com/problems/intersection-of-two-linked-lists/solutions/2116127/python-easy-2-approaches-o-1-space/\n",
    "Ideas:\n",
    "- Found intersection when you found *n same number* at the end. \\ \n",
    "> -> if you *combine 2 two lists* together, the length is same and always same n numbers at the end"
   ]
  },
  {
   "cell_type": "code",
   "execution_count": 18,
   "metadata": {},
   "outputs": [],
   "source": [
    "class Solution:\n",
    "    def getIntersectionNode(self, headA: ListNode, headB: ListNode) -> ListNode:\n",
    "        a = headA\n",
    "        b = headB\n",
    "        while (a != b):\n",
    "            if a is None:\n",
    "                a = headB\n",
    "            else: a = a.next\n",
    "            if b is None:\n",
    "                b = headA \n",
    "            else: b = b.next\n",
    "        return a"
   ]
  }
 ],
 "metadata": {
  "kernelspec": {
   "display_name": "base",
   "language": "python",
   "name": "python3"
  },
  "language_info": {
   "codemirror_mode": {
    "name": "ipython",
    "version": 3
   },
   "file_extension": ".py",
   "mimetype": "text/x-python",
   "name": "python",
   "nbconvert_exporter": "python",
   "pygments_lexer": "ipython3",
   "version": "3.11.5"
  }
 },
 "nbformat": 4,
 "nbformat_minor": 2
}

{
 "cells": [
  {
   "cell_type": "markdown",
   "metadata": {},
   "source": [
    "Reference: \n",
    "- https://www.geeksforgeeks.org/circular-linked-list/\n",
    "- https://leetcode.com/explore/learn/card/linked-list/214/two-pointer-technique/1212/\n"
   ]
  },
  {
   "cell_type": "markdown",
   "metadata": {},
   "source": [
    "### I. Why circular linked list?\n",
    "- No NULL\n",
    "- Any node can be set as the starting point.\n",
    "- Traversal quickly from the first to the last."
   ]
  },
  {
   "cell_type": "markdown",
   "metadata": {},
   "source": [
    "### II. How to define: Two pointer technique\n",
    "Reference:\n",
    "- https://usaco.guide/silver/two-pointers?lang=cpp\n",
    "- https://leetcode.com/explore/learn/card/linked-list/214/two-pointer-technique/1211/\n",
    "\n",
    "> Why 2 pointer works?\n",
    "- `slow` pointer: 1 step\n",
    "- `fast` pointer: 2 steps \\\n",
    "-> If the length of the cycle is M, after M iterations, the fast pointer will definitely move one more cycle and catch up with the slow pointer."
   ]
  }
 ],
 "metadata": {
  "language_info": {
   "name": "python"
  }
 },
 "nbformat": 4,
 "nbformat_minor": 2
}

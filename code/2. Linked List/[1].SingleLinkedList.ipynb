{
 "cells": [
  {
   "cell_type": "markdown",
   "metadata": {},
   "source": [
    "### 1. Why linked list?\n",
    "**- Dynamic DA -> efficient memory:** size of linked list changed depends on requirements \\\n",
    "**- Easy on Insert/Del:** faster than **array**"
   ]
  },
  {
   "cell_type": "markdown",
   "metadata": {},
   "source": [
    "### 2. Basic operation\n",
    "- **Insertion:** at tail, at head, at index\n",
    "- **Deletion:** at index\n",
    "- **Searching:** get value "
   ]
  },
  {
   "cell_type": "code",
   "execution_count": 2,
   "metadata": {},
   "outputs": [
    {
     "data": {
      "text/plain": [
       "1"
      ]
     },
     "execution_count": 2,
     "metadata": {},
     "output_type": "execute_result"
    }
   ],
   "source": [
    "##* Define linked list\n",
    "class Node:\n",
    "    def __init__(self) -> None:\n",
    "        self.key = 0\n",
    "        self.next = None\n",
    "    def __init__(self, key: int) -> None:\n",
    "        self.key = key\n",
    "        self.next = None\n",
    "\n",
    "class liList:\n",
    "    def __init__(self) -> None:\n",
    "        self.head = None\n",
    "        self.size = 0\n",
    "    def print(self):\n",
    "        temp = self.head\n",
    "        while (temp != None):\n",
    "            print(temp.key, end = \" \")\n",
    "            temp = temp.next\n",
    "        print()\n",
    "\n",
    "    def get(self, index: int) -> int:\n",
    "        temp = self.head\n",
    "        ##! Error handling: Null head, invalid index and index over size\n",
    "        if (self.head == None):\n",
    "            return -1 \n",
    "        if (index < 0 or index >= self.size):\n",
    "            return -1\n",
    "        if (index == 0):\n",
    "            return temp.key\n",
    "        \n",
    "        while (index > 0):\n",
    "            temp = temp.next\n",
    "            index -= 1\n",
    "        return temp.key \n",
    "    \n",
    "    def addAtHead(self, val: int) -> None:\n",
    "        temp = Node(val)\n",
    "        if (self.head == None):\n",
    "            self.head = temp\n",
    "        else:\n",
    "            temp.next = self.head\n",
    "            self.head = temp\n",
    "        self.size += 1\n",
    "    def addAtTail(self, val: int) -> None:\n",
    "        pass\n",
    "    def addAtIndex(self, index: int, val: int) -> None:\n",
    "        pass\n",
    "    def deleteAtIndex(self, index: int) -> None:\n",
    "        pass\n",
    "\n",
    "    \n",
    "obj = liList()\n",
    "obj.addAtHead(5)\n",
    "obj.addAtHead(1)\n",
    "obj.addAtHead(2)\n",
    "obj.addAtHead(3)\n",
    "obj.addAtHead(4)\n",
    "obj.get(3)\n"
   ]
  },
  {
   "cell_type": "code",
   "execution_count": 2,
   "metadata": {},
   "outputs": [],
   "source": []
  },
  {
   "cell_type": "code",
   "execution_count": 3,
   "metadata": {},
   "outputs": [],
   "source": [
    "def addAtHead(self, val: int) -> None:\n",
    "        temp = Node(val)\n",
    "        if (self.head == None):\n",
    "            self.head = temp\n",
    "        else:\n",
    "            temp.next = self.head\n",
    "            self.head = temp\n",
    "        self.size += 1\n",
    "\n",
    "def addAtTail(self, val: int) -> None:\n",
    "        temp = Node(val)\n",
    "        if (self.head == None):\n",
    "            self.addAtHead(val)\n",
    "            return\n",
    "        \n",
    "        cur = self.head\n",
    "        while (cur.next != None):\n",
    "            cur = cur.next\n",
    "            \n",
    "        cur.next = temp\n",
    "        self.size += 1\n",
    "\n",
    "def addAtIndex(self, index: int, val: int) -> None:\n",
    "        temp = Node(val)\n",
    "        ##! Special Case\n",
    "        if (index == 0):\n",
    "            self.addAtHead(val)\n",
    "            return\n",
    "        ##! Error handling\n",
    "        if (index < 0 or index > self.size):\n",
    "            return\n",
    "        #! Normal case\n",
    "        cur = self.head\n",
    "        while (index - 1 > 0):      \n",
    "            cur = cur.next\n",
    "            index -= 1\n",
    "        \n",
    "        temp.next = cur.next\n",
    "        cur.next = temp\n",
    "        self.size += 1\n",
    "        return"
   ]
  },
  {
   "cell_type": "code",
   "execution_count": 4,
   "metadata": {},
   "outputs": [],
   "source": [
    "def deleteAtIndex(self, index: int) -> None:\n",
    "        #! Special case\n",
    "        if (index == 0):\n",
    "            self.head = self.head.next\n",
    "            self.size -= 1\n",
    "            return\n",
    "        if (index < 0 or index >= self.size):\n",
    "            return\n",
    "\n",
    "        cur = self.head\n",
    "        while (index - 1 > 0):\n",
    "            cur = cur.next\n",
    "            index -= 1\n",
    "        temp = cur.next\n",
    "        cur.next = (cur.next).next\n",
    "        del temp\n",
    "        self.size -= 1"
   ]
  },
  {
   "cell_type": "code",
   "execution_count": 6,
   "metadata": {},
   "outputs": [
    {
     "name": "stdout",
     "output_type": "stream",
     "text": [
      "\n",
      "\n"
     ]
    }
   ],
   "source": [
    "\n",
    "obj = liList()\n",
    "obj.addAtHead(5)\n",
    "obj.addAtIndex(1, 2)\n",
    "obj.addAtHead(6)\n",
    "obj.addAtTail(2)\n",
    "obj.addAtTail(3)\n",
    "obj.addAtHead(1)\n",
    "obj.print()\n",
    "obj.get(5)\n",
    "obj.deleteAtIndex(2)\n",
    "obj.print()\n",
    "\n",
    "\n",
    "# obj.deleteAtIndex(1)"
   ]
  },
  {
   "cell_type": "code",
   "execution_count": 1,
   "metadata": {},
   "outputs": [
    {
     "name": "stdout",
     "output_type": "stream",
     "text": [
      "6 \n"
     ]
    }
   ],
   "source": [
    "class Node:\n",
    "    def __init__(self) -> None:\n",
    "        self.key = 0\n",
    "        self.next = None\n",
    "    def __init__(self, key: int) -> None:\n",
    "        self.key = key\n",
    "        self.next = None\n",
    "\n",
    "class MyLinkedList:\n",
    "    def __init__(self) -> None:\n",
    "        self.head = None\n",
    "        self.size = 0\n",
    "    def print(self):\n",
    "        temp = self.head\n",
    "        while (temp != None):\n",
    "            print(temp.key, end = \" \")\n",
    "            temp = temp.next\n",
    "        print()\n",
    "    def addAtHead(self, val: int) -> None:\n",
    "        temp = Node(val)\n",
    "        temp.next = self.head\n",
    "        self.head = temp\n",
    "        self.size += 1\n",
    "\n",
    "obj = MyLinkedList()\n",
    "obj.addAtHead(6)\n",
    "obj.print()"
   ]
  }
 ],
 "metadata": {
  "kernelspec": {
   "display_name": "base",
   "language": "python",
   "name": "python3"
  },
  "language_info": {
   "codemirror_mode": {
    "name": "ipython",
    "version": 3
   },
   "file_extension": ".py",
   "mimetype": "text/x-python",
   "name": "python",
   "nbconvert_exporter": "python",
   "pygments_lexer": "ipython3",
   "version": "3.11.5"
  }
 },
 "nbformat": 4,
 "nbformat_minor": 2
}

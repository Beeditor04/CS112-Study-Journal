{
 "cells": [
  {
   "cell_type": "markdown",
   "metadata": {},
   "source": [
    "### 206. Reverse Linked List\n",
    "Link: https://leetcode.com/problems/reverse-linked-list/submissions/1201673219/\n",
    "- My ideas:\n",
    "    Create temp linked list A, add `Head` to A for each input list B"
   ]
  },
  {
   "cell_type": "code",
   "execution_count": 4,
   "metadata": {},
   "outputs": [
    {
     "data": {
      "text/plain": [
       "<__main__.ListNode at 0x1f234810690>"
      ]
     },
     "execution_count": 4,
     "metadata": {},
     "output_type": "execute_result"
    }
   ],
   "source": [
    "class ListNode:\n",
    "    def __init__(self, val=0, next=None):\n",
    "        self.val = val\n",
    "        self.next = next\n",
    "\n",
    "class Solution:\n",
    "    def reverseList(self, head: ListNode) -> ListNode:\n",
    "        cur = None\n",
    "        if (head is None): return head\n",
    "        while (head != None):\n",
    "            temp = ListNode()\n",
    "            temp.val = head.val\n",
    "            temp.next = cur\n",
    "            cur = temp\n",
    "            head = head.next\n",
    "        return cur  \n",
    "    \n",
    "ans = Solution()\n",
    "llist = ListNode(1, ListNode(2, ListNode(3, ListNode(4, ListNode(5)))))\n",
    "ans.reverseList(llist)"
   ]
  },
  {
   "cell_type": "markdown",
   "metadata": {},
   "source": [
    "### Solution 2: Two pointers\n",
    "- `prev` as previous position\n",
    "- `cur` as current position\n",
    "- `forward` as temp to store the next linked list, after that swap the `.next` between 2 nodes in list"
   ]
  },
  {
   "cell_type": "code",
   "execution_count": null,
   "metadata": {},
   "outputs": [],
   "source": [
    "class ListNode:\n",
    "    def __init__(self, val=0, next=None):\n",
    "        self.val = val\n",
    "        self.next = next\n",
    "\n",
    "class Solution:\n",
    "    def reverseList(self, head: ListNode) -> ListNode:\n",
    "        prev = None\n",
    "        curr = head\n",
    "        if (head is None): return head\n",
    "        while (curr != None):\n",
    "            forward = curr.next\n",
    "            curr.next = prev\n",
    "            prev = curr\n",
    "            curr = forward\n",
    "        return prev"
   ]
  }
 ],
 "metadata": {
  "kernelspec": {
   "display_name": "base",
   "language": "python",
   "name": "python3"
  },
  "language_info": {
   "codemirror_mode": {
    "name": "ipython",
    "version": 3
   },
   "file_extension": ".py",
   "mimetype": "text/x-python",
   "name": "python",
   "nbconvert_exporter": "python",
   "pygments_lexer": "ipython3",
   "version": "3.11.5"
  }
 },
 "nbformat": 4,
 "nbformat_minor": 2
}

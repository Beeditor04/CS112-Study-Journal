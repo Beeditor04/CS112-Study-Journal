{
 "cells": [
  {
   "cell_type": "markdown",
   "metadata": {},
   "source": [
    "### 21. Merge Two Sorted Lists\n",
    "Link: https://leetcode.com/problems/merge-two-sorted-lists/submissions/1202284258/\n",
    "\n",
    "#### My Idea:\n",
    "- Use merge-sort technique: 2 pointers `(i, j)` each of 2 lists, loop until **1 of 2 lists is end**, \\\n",
    "if A[i] > B[j] then add A[i], increase i, and vice versa"
   ]
  },
  {
   "cell_type": "code",
   "execution_count": 1,
   "metadata": {},
   "outputs": [],
   "source": [
    "class ListNode:\n",
    "    def __init__(self, val=0, next=None):\n",
    "        self.val = val\n",
    "        self.next = next\n",
    "class Solution:\n",
    "    def mergeTwoLists(self, list1: ListNode, list2: ListNode) -> ListNode:\n",
    "        temp = ListNode()\n",
    "        cur = temp\n",
    "        while( list1 != None and list2 != None):\n",
    "            cur.next = ListNode()\n",
    "            if (list1.val <= list2.val):\n",
    "                cur.next.val = list1.val\n",
    "                list1 = list1.next\n",
    "            else:\n",
    "                cur.next.val = list2.val\n",
    "                list2 = list2.next\n",
    "            cur = cur.next\n",
    "        if (list1 != None):\n",
    "            cur.next = list1\n",
    "        if (list2 != None):\n",
    "            cur.next = list2\n",
    "        return temp.next\n",
    "\n",
    "            "
   ]
  }
 ],
 "metadata": {
  "kernelspec": {
   "display_name": "base",
   "language": "python",
   "name": "python3"
  },
  "language_info": {
   "codemirror_mode": {
    "name": "ipython",
    "version": 3
   },
   "file_extension": ".py",
   "mimetype": "text/x-python",
   "name": "python",
   "nbconvert_exporter": "python",
   "pygments_lexer": "ipython3",
   "version": "3.11.5"
  }
 },
 "nbformat": 4,
 "nbformat_minor": 2
}

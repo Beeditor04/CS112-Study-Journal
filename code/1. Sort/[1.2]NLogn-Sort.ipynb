{
 "cells": [
  {
   "cell_type": "markdown",
   "metadata": {},
   "source": [
    "### QuickSort 1: works on any pivot, more efficient"
   ]
  },
  {
   "cell_type": "code",
   "execution_count": 22,
   "metadata": {},
   "outputs": [
    {
     "name": "stdout",
     "output_type": "stream",
     "text": [
      "Sorted array is: [1, 5, 7, 8, 9, 10]\n"
     ]
    }
   ],
   "source": [
    "import random\n",
    "def partition(arr: int, low: int, high: int):\n",
    "    iPivot = random.randint(low, high)\n",
    "    pivot = arr[iPivot]\n",
    "\n",
    "    while (low <= high):\n",
    "        while (arr[low] < pivot): low += 1\n",
    "        while (arr[high] > pivot): high -= 1\n",
    "        if (low >= high): break\n",
    "        arr[low], arr[high] = arr[high], arr[low]\n",
    "        low += 1\n",
    "        high -= 1\n",
    "    return high\n",
    "\n",
    "\n",
    "def quicksort(arr: int, low: int, high: int):  \n",
    "    if (low >= high): \n",
    "        return\n",
    "    pi = partition(arr, low, high)\n",
    "    quicksort(arr, low, pi)\n",
    "    quicksort(arr, pi+1, high)\n",
    "\n",
    "arr = [10, 7, 8, 9, 1, 5]\n",
    "n = len(arr)\n",
    "quicksort(arr, 0, n-1)\n",
    "print(\"Sorted array is:\", arr)\n"
   ]
  },
  {
   "cell_type": "markdown",
   "metadata": {},
   "source": [
    "### Quicksort : only works on `pivot = high`\n",
    "- Because the **largest** case: `iPivot` don't change, but technically the `pivot` should go the end because it's the **largest**"
   ]
  },
  {
   "cell_type": "code",
   "execution_count": 39,
   "metadata": {},
   "outputs": [
    {
     "name": "stdout",
     "output_type": "stream",
     "text": [
      "Sorted array is: [1, 5, 7, 8, 9, 10]\n"
     ]
    }
   ],
   "source": [
    "import random\n",
    "def partition(arr: list, low: int, high: int):\n",
    "    pivot = arr[high]\n",
    "\n",
    "    i = low - 1\n",
    "    for j in range(low, high + 1):\n",
    "        if (arr[j] < pivot):\n",
    "            i += 1\n",
    "            arr[i], arr[j] = arr[j], arr[i]\n",
    "    arr[i+1], arr[high] = arr[high], arr[i+1]\n",
    "    return i + 1\n",
    "\n",
    "\n",
    "def quicksort(arr: list, low: int, high: int):  \n",
    "    if (low >= high): \n",
    "        return\n",
    "    pi = partition(arr, low, high)\n",
    "    quicksort(arr, low, pi - 1)\n",
    "    quicksort(arr, pi+1, high)\n",
    "\n",
    "arr = [10, 7, 8, 9, 1, 5]\n",
    "n = len(arr)\n",
    "quicksort(arr, 0, n-1)\n",
    "print(\"Sorted array is:\", arr)\n"
   ]
  },
  {
   "cell_type": "markdown",
   "metadata": {},
   "source": [
    "### MergeSort"
   ]
  },
  {
   "cell_type": "code",
   "execution_count": 1,
   "metadata": {},
   "outputs": [
    {
     "name": "stdout",
     "output_type": "stream",
     "text": [
      "Sorted array is: [5, 6, 7, 11, 12, 13]\n"
     ]
    }
   ],
   "source": [
    "def merge(arr, left, mid, right):\n",
    "    arr1 = []\n",
    "    arr2 = []\n",
    "\n",
    "    for i in range(left, mid + 1):\n",
    "        arr1.append(arr[i])\n",
    "    for i in range(mid + 1, right + 1):\n",
    "        arr2.append(arr[i])\n",
    "\n",
    "    i = 0 ; j = 0 ; k = left\n",
    "    while (arr1 and arr2):\n",
    "        if (arr1[i] < arr2[j]):\n",
    "            arr[k] = arr1[i]\n",
    "            arr1.pop(0)\n",
    "        else:\n",
    "            arr[k] = arr2[j]\n",
    "            arr2.pop(0)\n",
    "        k += 1\n",
    "\n",
    "    while arr1:\n",
    "        arr[k] = arr1[i]\n",
    "        arr1.pop(0)\n",
    "        k += 1\n",
    "    while arr2:\n",
    "        arr[k] = arr2[j]\n",
    "        arr2.pop(0)\n",
    "        k += 1\n",
    "       \n",
    "def mergeSort(arr, left, right):\n",
    "    if (left >= right):\n",
    "        return\n",
    "    mid = left + (right - left) // 2\n",
    "    mergeSort(arr, left, mid)\n",
    "    mergeSort(arr, mid + 1, right)\n",
    "    merge(arr, left, mid, right)\n",
    "\n",
    "arr = [12, 11, 13, 5, 6, 7]\n",
    "n = len(arr)\n",
    "mergeSort(arr, 0, n-1)\n",
    "print(\"Sorted array is:\", arr)"
   ]
  }
 ],
 "metadata": {
  "kernelspec": {
   "display_name": "base",
   "language": "python",
   "name": "python3"
  },
  "language_info": {
   "codemirror_mode": {
    "name": "ipython",
    "version": 3
   },
   "file_extension": ".py",
   "mimetype": "text/x-python",
   "name": "python",
   "nbconvert_exporter": "python",
   "pygments_lexer": "ipython3",
   "version": "3.11.7"
  }
 },
 "nbformat": 4,
 "nbformat_minor": 2
}

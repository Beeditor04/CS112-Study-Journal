{
 "cells": [
  {
   "cell_type": "markdown",
   "metadata": {},
   "source": [
    "### Insertion sort: [visual](https://visualgo.net/en/sorting)\n",
    "- **Description**: 2 loop, each loop at the `i` number, swap that `i` num to the front of the list, **until meet the min**"
   ]
  },
  {
   "cell_type": "code",
   "execution_count": 28,
   "metadata": {},
   "outputs": [
    {
     "name": "stdout",
     "output_type": "stream",
     "text": [
      "[10, 10, 10, 7, 7, 7, 5, 5, 5, 3, 3, 3, 1, 1, 1]\n"
     ]
    }
   ],
   "source": [
    "def swap(arr, i, j):\n",
    "    arr[i], arr[j] = arr[j], arr[i]\n",
    "def insertionSort(arr):\n",
    "    for i in range(len(arr)):\n",
    "        for j in range(i, -1, -1):\n",
    "            if j > 0 and arr[j] > arr[j-1]:\n",
    "                swap(arr, j, j-1)\n",
    "            else: break\n",
    "    return arr\n",
    "\n",
    "arr = [1, 3, 10, 5, 7, 1, 3, 10, 5, 7, 1, 3, 10, 5, 7]\n",
    "print(insertionSort(arr))"
   ]
  },
  {
   "cell_type": "markdown",
   "metadata": {},
   "source": [
    "### Selection Sort: \n",
    "- Description: 2 loop, each loop **find the min** of the list, swap to the front, and repeat"
   ]
  },
  {
   "cell_type": "code",
   "execution_count": 1,
   "metadata": {},
   "outputs": [
    {
     "name": "stdout",
     "output_type": "stream",
     "text": [
      "[1, 1, 1, 3, 3, 3, 5, 5, 5, 7, 7, 7, 10, 10, 10]\n"
     ]
    }
   ],
   "source": [
    "def swap(arr, i, j):\n",
    "    arr[i], arr[j] = arr[j], arr[i]\n",
    "def selectionSort(arr):\n",
    "    for i in range(len(arr)):\n",
    "        for j in range(i + 1, len(arr)):\n",
    "            if arr[j] < arr[i]:\n",
    "                swap(arr, i, j)\n",
    "    return arr\n",
    "\n",
    "arr = [1, 3, 10, 5, 7, 1, 3, 10, 5, 7, 1, 3, 10, 5, 7]\n",
    "print(selectionSort(arr))"
   ]
  }
 ],
 "metadata": {
  "kernelspec": {
   "display_name": "base",
   "language": "python",
   "name": "python3"
  },
  "language_info": {
   "codemirror_mode": {
    "name": "ipython",
    "version": 3
   },
   "file_extension": ".py",
   "mimetype": "text/x-python",
   "name": "python",
   "nbconvert_exporter": "python",
   "pygments_lexer": "ipython3",
   "version": "3.11.7"
  }
 },
 "nbformat": 4,
 "nbformat_minor": 2
}
